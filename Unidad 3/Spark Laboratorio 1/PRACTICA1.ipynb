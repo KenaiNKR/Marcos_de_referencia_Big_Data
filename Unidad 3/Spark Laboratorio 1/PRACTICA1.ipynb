{
  "cells": [
    {
      "cell_type": "markdown",
      "id": "05c0f7db-a781-4232-9224-26968df7bc6f",
      "metadata": {
        "id": "05c0f7db-a781-4232-9224-26968df7bc6f"
      },
      "source": [
        "<!--Header-->\n",
        "<div>\n",
        "    <div class=\"row\" style=\"color: #4D4D4D;font-size: 15px;padding-bottom: 20px\">\n",
        "        <div class=\"col-md-7\">\n",
        "            <img src=\"https://www.tecazuay.edu.ec/wp-content/uploads/2023/07/LOGO-RECTANGULAR_SIN-FONDO-2048x626.png\" alt=\"Logo TECAZUAY\" width=\"100%\" class=\"img-responsive\" style=\"margin:20px 0px 0px\">\n",
        "        </div>\n",
        "        <div class=\"col-md-5\">\n",
        "            <h1 style=\"margin:15px 0px 0px;font-size: 40px;\">Spark y Dataframe</h1>\n",
        "            <div style=\"text-align:left;margin-top: 5px;\"></div>\n",
        "        </div>\n",
        "    </div>\n",
        "    <div class=\"row\" style=\"background: #FCB517;padding: 10px 20px;\">\n",
        "        <div class=\"col-md-6\">\n",
        "        </div>\n",
        "        <div class=\"col-md-6\">\n",
        "            </div>\n",
        "        </div>\n",
        "        <div style=\"text-align:right;\">Carrera: TECNOLOGÍA SUPERIOR EN BIG DATA <span style=\"margin-left: 30px;\"></span></div>\n",
        "         <div style=\"text-align:right;\">Estudiante: Paul Rodriguez  <span style=\"margin-left: 30px;\"></span></div>\n",
        "          <div style=\"text-align:right;\">Fecha: 03/06/2024  <span style=\"margin-left: 30px;\"></span></div>\n",
        "        </div>\n",
        "    </div>\n",
        "</div>\n",
        "<!--/Header-->"
      ]
    },
    {
      "cell_type": "markdown",
      "id": "b53a61a2-8550-45d1-a166-ca662daed24d",
      "metadata": {
        "tags": [],
        "id": "b53a61a2-8550-45d1-a166-ca662daed24d"
      },
      "source": [
        "### Data personal"
      ]
    },
    {
      "cell_type": "code",
      "execution_count": 2,
      "id": "a662ced5-dad6-4292-9fda-00923cf8de1b",
      "metadata": {
        "colab": {
          "base_uri": "https://localhost:8080/"
        },
        "id": "a662ced5-dad6-4292-9fda-00923cf8de1b",
        "outputId": "b4262e5f-e9d2-40e1-f0a4-1db45c0a003d"
      },
      "outputs": [
        {
          "output_type": "stream",
          "name": "stdout",
          "text": [
            "Collecting findspark\n",
            "  Downloading findspark-2.0.1-py2.py3-none-any.whl (4.4 kB)\n",
            "Installing collected packages: findspark\n",
            "Successfully installed findspark-2.0.1\n"
          ]
        }
      ],
      "source": [
        "!pip install findspark"
      ]
    },
    {
      "cell_type": "code",
      "execution_count": 3,
      "id": "9cf9eb66-09af-4292-9fae-672d38b221ce",
      "metadata": {
        "colab": {
          "base_uri": "https://localhost:8080/"
        },
        "id": "9cf9eb66-09af-4292-9fae-672d38b221ce",
        "outputId": "a44d0989-c8ea-4d3c-f38f-009e01e4d9b9"
      },
      "outputs": [
        {
          "output_type": "stream",
          "name": "stdout",
          "text": [
            "Collecting pyspark\n",
            "  Downloading pyspark-3.5.1.tar.gz (317.0 MB)\n",
            "\u001b[2K     \u001b[90m━━━━━━━━━━━━━━━━━━━━━━━━━━━━━━━━━━━━━━━━\u001b[0m \u001b[32m317.0/317.0 MB\u001b[0m \u001b[31m3.3 MB/s\u001b[0m eta \u001b[36m0:00:00\u001b[0m\n",
            "\u001b[?25h  Preparing metadata (setup.py) ... \u001b[?25l\u001b[?25hdone\n",
            "Requirement already satisfied: py4j==0.10.9.7 in /usr/local/lib/python3.10/dist-packages (from pyspark) (0.10.9.7)\n",
            "Building wheels for collected packages: pyspark\n",
            "  Building wheel for pyspark (setup.py) ... \u001b[?25l\u001b[?25hdone\n",
            "  Created wheel for pyspark: filename=pyspark-3.5.1-py2.py3-none-any.whl size=317488491 sha256=2751ee0f8d9a7d3066be89dba097ae09ccb0ecc9a87be0fe3b7481aa278dee6e\n",
            "  Stored in directory: /root/.cache/pip/wheels/80/1d/60/2c256ed38dddce2fdd93be545214a63e02fbd8d74fb0b7f3a6\n",
            "Successfully built pyspark\n",
            "Installing collected packages: pyspark\n",
            "Successfully installed pyspark-3.5.1\n"
          ]
        }
      ],
      "source": [
        "!pip install pyspark"
      ]
    },
    {
      "cell_type": "code",
      "execution_count": 4,
      "id": "2e924dc2-a514-42a9-b340-79319b08ce0b",
      "metadata": {
        "tags": [],
        "id": "2e924dc2-a514-42a9-b340-79319b08ce0b"
      },
      "outputs": [],
      "source": [
        "import findspark\n",
        "findspark.init()\n",
        "\n",
        "import pandas as pd\n",
        "from google.colab import files\n",
        "import pyspark"
      ]
    },
    {
      "cell_type": "code",
      "source": [
        "from pyspark.sql.functions import to_date"
      ],
      "metadata": {
        "id": "C7nvEwffW8ng"
      },
      "id": "C7nvEwffW8ng",
      "execution_count": 5,
      "outputs": []
    },
    {
      "cell_type": "code",
      "execution_count": 6,
      "id": "ea39583d-1107-4605-9645-960db5d5c9e7",
      "metadata": {
        "id": "ea39583d-1107-4605-9645-960db5d5c9e7"
      },
      "outputs": [],
      "source": [
        "from pyspark.sql import SparkSession\n",
        "from pyspark.sql.functions import *"
      ]
    },
    {
      "cell_type": "code",
      "source": [
        "from pyspark.sql import functions as F\n",
        "from pyspark.sql.functions import lit"
      ],
      "metadata": {
        "id": "TWrqAmLUwHA5"
      },
      "id": "TWrqAmLUwHA5",
      "execution_count": 65,
      "outputs": []
    },
    {
      "cell_type": "code",
      "execution_count": 7,
      "id": "3ce6d397-fdcc-478b-be50-32a4b3fe60e7",
      "metadata": {
        "id": "3ce6d397-fdcc-478b-be50-32a4b3fe60e7"
      },
      "outputs": [],
      "source": [
        "spark = SparkSession.builder.getOrCreate()"
      ]
    },
    {
      "cell_type": "code",
      "execution_count": 8,
      "id": "f986ffad-fbd5-4e40-974a-5259e0e9ed5b",
      "metadata": {
        "colab": {
          "base_uri": "https://localhost:8080/",
          "height": 219
        },
        "id": "f986ffad-fbd5-4e40-974a-5259e0e9ed5b",
        "outputId": "eb425aba-1b1e-4101-8dc5-d6c828a688c1"
      },
      "outputs": [
        {
          "output_type": "execute_result",
          "data": {
            "text/plain": [
              "<pyspark.sql.session.SparkSession at 0x7ff655c1f430>"
            ],
            "text/html": [
              "\n",
              "            <div>\n",
              "                <p><b>SparkSession - in-memory</b></p>\n",
              "                \n",
              "        <div>\n",
              "            <p><b>SparkContext</b></p>\n",
              "\n",
              "            <p><a href=\"http://c91d222aef0d:4040\">Spark UI</a></p>\n",
              "\n",
              "            <dl>\n",
              "              <dt>Version</dt>\n",
              "                <dd><code>v3.5.1</code></dd>\n",
              "              <dt>Master</dt>\n",
              "                <dd><code>local[*]</code></dd>\n",
              "              <dt>AppName</dt>\n",
              "                <dd><code>pyspark-shell</code></dd>\n",
              "            </dl>\n",
              "        </div>\n",
              "        \n",
              "            </div>\n",
              "        "
            ]
          },
          "metadata": {},
          "execution_count": 8
        }
      ],
      "source": [
        "spark"
      ]
    },
    {
      "cell_type": "markdown",
      "id": "a67f5f58-53b1-411a-ab32-101d40bb04ed",
      "metadata": {
        "id": "a67f5f58-53b1-411a-ab32-101d40bb04ed"
      },
      "source": [
        "**1. Crea un DataFrame para la entidad \"productos\" con las columnas: idProducto (entero), nombre (cadena) y idCategoria (entero).**"
      ]
    },
    {
      "cell_type": "code",
      "execution_count": 9,
      "id": "1af54c1a-1d10-4268-ba9d-32eddc1a310e",
      "metadata": {
        "colab": {
          "base_uri": "https://localhost:8080/"
        },
        "id": "1af54c1a-1d10-4268-ba9d-32eddc1a310e",
        "outputId": "04d9bee9-2b63-430b-efd1-cfb86abca1b7"
      },
      "outputs": [
        {
          "output_type": "stream",
          "name": "stdout",
          "text": [
            "+-----------+------------------+---------+\n",
            "|id_producto|            nombre|categoria|\n",
            "+-----------+------------------+---------+\n",
            "|         31|        fideo laso|       10|\n",
            "|         32|        fideo codo|       10|\n",
            "|         33|    fideo macarron|       10|\n",
            "|         34|        Arroz Roma|       11|\n",
            "|         35|        Arroz Ribe|       11|\n",
            "|         36|    Arroz integral|       11|\n",
            "|         37|Sardinas enlatadas|       12|\n",
            "|         38|     Atún enlatado|       12|\n",
            "|         39|Duraznos enlatados|       12|\n",
            "|         40|    Maíz enlatados|       12|\n",
            "+-----------+------------------+---------+\n",
            "\n"
          ]
        }
      ],
      "source": [
        "prod = [\n",
        "    (31, \"fideo laso\", 10),\n",
        "    (32, \"fideo codo\", 10),\n",
        "    (33, \"fideo macarron\", 10),\n",
        "    (34, \"Arroz Roma\", 11),\n",
        "    (35, \"Arroz Ribe\", 11),\n",
        "    (36, \"Arroz integral\", 11),\n",
        "    (37, \"Sardinas enlatadas\", 12),\n",
        "    (38, \"Atún enlatado\", 12),\n",
        "    (39, \"Duraznos enlatados\", 12),\n",
        "    (40, \"Maíz enlatados\", 12)\n",
        "]\n",
        "productos = spark.createDataFrame(prod,[\"id_producto\",\"nombre\",\"categoria\",])\n",
        "productos.show()"
      ]
    },
    {
      "cell_type": "markdown",
      "id": "40455d72-6946-41ef-814a-79f6af5d25ac",
      "metadata": {
        "id": "40455d72-6946-41ef-814a-79f6af5d25ac"
      },
      "source": [
        "**2.Crea un DataFrame para la entidad \"categorias\" con las columnas: idCategoria (entero) y nombre (cadena).**\n"
      ]
    },
    {
      "cell_type": "code",
      "execution_count": 10,
      "id": "94011b3d-2635-48fb-9136-40de471cfa6c",
      "metadata": {
        "id": "94011b3d-2635-48fb-9136-40de471cfa6c"
      },
      "outputs": [],
      "source": [
        "categorias_data = [\n",
        "    (10, \"Fideos\"),\n",
        "    (11, \"Arroz\"),\n",
        "    (12, \"Productos enlatados\")\n",
        "]"
      ]
    },
    {
      "cell_type": "code",
      "execution_count": 11,
      "id": "e393a385-d031-4c52-b609-4bc967504857",
      "metadata": {
        "colab": {
          "base_uri": "https://localhost:8080/"
        },
        "id": "e393a385-d031-4c52-b609-4bc967504857",
        "outputId": "e3aad118-bb84-4204-9aca-e8b6030a3385"
      },
      "outputs": [
        {
          "output_type": "stream",
          "name": "stdout",
          "text": [
            "+------------+-------------------+\n",
            "|id_Categoria|             nombre|\n",
            "+------------+-------------------+\n",
            "|          10|             Fideos|\n",
            "|          11|              Arroz|\n",
            "|          12|Productos enlatados|\n",
            "+------------+-------------------+\n",
            "\n"
          ]
        }
      ],
      "source": [
        "categorias = spark.createDataFrame(categorias_data, [\"id_Categoria\", \"nombre\"])\n",
        "categorias.show()"
      ]
    },
    {
      "cell_type": "markdown",
      "id": "ebfaab46-c0d9-4232-833c-69f1c4f159b4",
      "metadata": {
        "id": "ebfaab46-c0d9-4232-833c-69f1c4f159b4"
      },
      "source": [
        "**3.Crea un DataFrame para la entidad \"ventas\" con las columnas: id_venta (entero), id_producto (entero), cantidad (entero) y fecha (cadena).**"
      ]
    },
    {
      "cell_type": "code",
      "execution_count": 12,
      "id": "be966b28-74de-4872-8f5e-4eb1476fe730",
      "metadata": {
        "id": "be966b28-74de-4872-8f5e-4eb1476fe730"
      },
      "outputs": [],
      "source": [
        "ventas= [\n",
        "    (310, 31, 2, \"10-06-2023\"),\n",
        "    (311, 31, 1, \"11-06-2023\"),\n",
        "    (320, 32, 3, \"12-06-2023\"),\n",
        "    (321, 32, 2, \"13-06-2023\"),\n",
        "    (330, 33, 4, \"14-06-2023\"),\n",
        "    (331, 33, 1, \"15-06-2023\"),\n",
        "    (340, 34, 2, \"16-06-2023\"),\n",
        "    (341, 34, 4, \"17-06-2023\"),\n",
        "    (350, 35, 2, \"18-06-2023\"),\n",
        "    (351, 35, 5, \"19-06-2023\"),\n",
        "    (360, 36, 4, \"20-06-2023\"),\n",
        "    (361, 36, 2, \"21-06-2023\"),\n",
        "    (370, 37, 1, \"22-06-2023\"),\n",
        "    (371, 37, 3, \"23-06-2023\"),\n",
        "    (380, 38, 1, \"24-06-2023\"),\n",
        "    (381, 38, 2, \"25-06-2023\"),\n",
        "    (390, 39, 3, \"26-06-2023\"),\n",
        "    (391, 39, 6, \"27-06-2023\"),\n",
        "    (400, 40, 5, \"28-06-2023\"),\n",
        "    (401, 40, 4, \"29-06-2023\")\n",
        "]"
      ]
    },
    {
      "cell_type": "code",
      "execution_count": 13,
      "id": "ca54ec59-a8d0-4a40-b5c0-07845cbd38f0",
      "metadata": {
        "colab": {
          "base_uri": "https://localhost:8080/"
        },
        "id": "ca54ec59-a8d0-4a40-b5c0-07845cbd38f0",
        "outputId": "7a22e709-8e50-47a7-e6c0-2d69674816c6"
      },
      "outputs": [
        {
          "output_type": "stream",
          "name": "stdout",
          "text": [
            "+--------+-----------+--------+----------+\n",
            "|id_venta|id_producto|cantidad|     fecha|\n",
            "+--------+-----------+--------+----------+\n",
            "|     310|         31|       2|10-06-2023|\n",
            "|     311|         31|       1|11-06-2023|\n",
            "|     320|         32|       3|12-06-2023|\n",
            "|     321|         32|       2|13-06-2023|\n",
            "|     330|         33|       4|14-06-2023|\n",
            "|     331|         33|       1|15-06-2023|\n",
            "|     340|         34|       2|16-06-2023|\n",
            "|     341|         34|       4|17-06-2023|\n",
            "|     350|         35|       2|18-06-2023|\n",
            "|     351|         35|       5|19-06-2023|\n",
            "|     360|         36|       4|20-06-2023|\n",
            "|     361|         36|       2|21-06-2023|\n",
            "|     370|         37|       1|22-06-2023|\n",
            "|     371|         37|       3|23-06-2023|\n",
            "|     380|         38|       1|24-06-2023|\n",
            "|     381|         38|       2|25-06-2023|\n",
            "|     390|         39|       3|26-06-2023|\n",
            "|     391|         39|       6|27-06-2023|\n",
            "|     400|         40|       5|28-06-2023|\n",
            "|     401|         40|       4|29-06-2023|\n",
            "+--------+-----------+--------+----------+\n",
            "\n"
          ]
        }
      ],
      "source": [
        "vendf = spark.createDataFrame(ventas, ['id_venta', 'id_producto', 'cantidad', 'fecha'])\n",
        "vendf.show()"
      ]
    },
    {
      "cell_type": "markdown",
      "id": "e4268f43-d67c-447e-99a3-d3395c9ca035",
      "metadata": {
        "id": "e4268f43-d67c-447e-99a3-d3395c9ca035"
      },
      "source": [
        "Guardar en formato csv"
      ]
    },
    {
      "cell_type": "code",
      "execution_count": 14,
      "id": "5409ea96-124a-49b2-b371-923e0ea05c3a",
      "metadata": {
        "colab": {
          "base_uri": "https://localhost:8080/",
          "height": 17
        },
        "id": "5409ea96-124a-49b2-b371-923e0ea05c3a",
        "outputId": "372aa3e4-b5e7-4a1f-eeb7-b084d6aa5084"
      },
      "outputs": [
        {
          "output_type": "display_data",
          "data": {
            "text/plain": [
              "<IPython.core.display.Javascript object>"
            ],
            "application/javascript": [
              "\n",
              "    async function download(id, filename, size) {\n",
              "      if (!google.colab.kernel.accessAllowed) {\n",
              "        return;\n",
              "      }\n",
              "      const div = document.createElement('div');\n",
              "      const label = document.createElement('label');\n",
              "      label.textContent = `Downloading \"${filename}\": `;\n",
              "      div.appendChild(label);\n",
              "      const progress = document.createElement('progress');\n",
              "      progress.max = size;\n",
              "      div.appendChild(progress);\n",
              "      document.body.appendChild(div);\n",
              "\n",
              "      const buffers = [];\n",
              "      let downloaded = 0;\n",
              "\n",
              "      const channel = await google.colab.kernel.comms.open(id);\n",
              "      // Send a message to notify the kernel that we're ready.\n",
              "      channel.send({})\n",
              "\n",
              "      for await (const message of channel.messages) {\n",
              "        // Send a message to notify the kernel that we're ready.\n",
              "        channel.send({})\n",
              "        if (message.buffers) {\n",
              "          for (const buffer of message.buffers) {\n",
              "            buffers.push(buffer);\n",
              "            downloaded += buffer.byteLength;\n",
              "            progress.value = downloaded;\n",
              "          }\n",
              "        }\n",
              "      }\n",
              "      const blob = new Blob(buffers, {type: 'application/binary'});\n",
              "      const a = document.createElement('a');\n",
              "      a.href = window.URL.createObjectURL(blob);\n",
              "      a.download = filename;\n",
              "      div.appendChild(a);\n",
              "      a.click();\n",
              "      div.remove();\n",
              "    }\n",
              "  "
            ]
          },
          "metadata": {}
        },
        {
          "output_type": "display_data",
          "data": {
            "text/plain": [
              "<IPython.core.display.Javascript object>"
            ],
            "application/javascript": [
              "download(\"download_bafbe591-816a-4a91-9537-2fd8fa207978\", \"productos.csv\", 232)"
            ]
          },
          "metadata": {}
        }
      ],
      "source": [
        "df_pandas = productos.toPandas()\n",
        "df_pandas.to_csv('/content/productos.csv', index=False)\n",
        "files.download('/content/productos.csv')"
      ]
    },
    {
      "cell_type": "code",
      "execution_count": 15,
      "id": "facda108-5193-4040-833f-cbf6a5fbfdb9",
      "metadata": {
        "colab": {
          "base_uri": "https://localhost:8080/",
          "height": 17
        },
        "id": "facda108-5193-4040-833f-cbf6a5fbfdb9",
        "outputId": "28cc6bf5-c1d2-4044-85fc-be286d062210"
      },
      "outputs": [
        {
          "output_type": "display_data",
          "data": {
            "text/plain": [
              "<IPython.core.display.Javascript object>"
            ],
            "application/javascript": [
              "\n",
              "    async function download(id, filename, size) {\n",
              "      if (!google.colab.kernel.accessAllowed) {\n",
              "        return;\n",
              "      }\n",
              "      const div = document.createElement('div');\n",
              "      const label = document.createElement('label');\n",
              "      label.textContent = `Downloading \"${filename}\": `;\n",
              "      div.appendChild(label);\n",
              "      const progress = document.createElement('progress');\n",
              "      progress.max = size;\n",
              "      div.appendChild(progress);\n",
              "      document.body.appendChild(div);\n",
              "\n",
              "      const buffers = [];\n",
              "      let downloaded = 0;\n",
              "\n",
              "      const channel = await google.colab.kernel.comms.open(id);\n",
              "      // Send a message to notify the kernel that we're ready.\n",
              "      channel.send({})\n",
              "\n",
              "      for await (const message of channel.messages) {\n",
              "        // Send a message to notify the kernel that we're ready.\n",
              "        channel.send({})\n",
              "        if (message.buffers) {\n",
              "          for (const buffer of message.buffers) {\n",
              "            buffers.push(buffer);\n",
              "            downloaded += buffer.byteLength;\n",
              "            progress.value = downloaded;\n",
              "          }\n",
              "        }\n",
              "      }\n",
              "      const blob = new Blob(buffers, {type: 'application/binary'});\n",
              "      const a = document.createElement('a');\n",
              "      a.href = window.URL.createObjectURL(blob);\n",
              "      a.download = filename;\n",
              "      div.appendChild(a);\n",
              "      a.click();\n",
              "      div.remove();\n",
              "    }\n",
              "  "
            ]
          },
          "metadata": {}
        },
        {
          "output_type": "display_data",
          "data": {
            "text/plain": [
              "<IPython.core.display.Javascript object>"
            ],
            "application/javascript": [
              "download(\"download_143bfd3f-984c-4866-9e2a-b1f8f7385780\", \"categoria.csv\", 62)"
            ]
          },
          "metadata": {}
        }
      ],
      "source": [
        "df_pandas = categorias.toPandas()\n",
        "df_pandas.to_csv('/content/categoria.csv', index=False)\n",
        "files.download('/content/categoria.csv')"
      ]
    },
    {
      "cell_type": "code",
      "execution_count": 16,
      "id": "5607fac3-dd6d-4869-b3bc-9b8878c01c2b",
      "metadata": {
        "colab": {
          "base_uri": "https://localhost:8080/",
          "height": 17
        },
        "id": "5607fac3-dd6d-4869-b3bc-9b8878c01c2b",
        "outputId": "d7c1e572-a826-4cb4-a995-c9c9d2f5734a"
      },
      "outputs": [
        {
          "output_type": "display_data",
          "data": {
            "text/plain": [
              "<IPython.core.display.Javascript object>"
            ],
            "application/javascript": [
              "\n",
              "    async function download(id, filename, size) {\n",
              "      if (!google.colab.kernel.accessAllowed) {\n",
              "        return;\n",
              "      }\n",
              "      const div = document.createElement('div');\n",
              "      const label = document.createElement('label');\n",
              "      label.textContent = `Downloading \"${filename}\": `;\n",
              "      div.appendChild(label);\n",
              "      const progress = document.createElement('progress');\n",
              "      progress.max = size;\n",
              "      div.appendChild(progress);\n",
              "      document.body.appendChild(div);\n",
              "\n",
              "      const buffers = [];\n",
              "      let downloaded = 0;\n",
              "\n",
              "      const channel = await google.colab.kernel.comms.open(id);\n",
              "      // Send a message to notify the kernel that we're ready.\n",
              "      channel.send({})\n",
              "\n",
              "      for await (const message of channel.messages) {\n",
              "        // Send a message to notify the kernel that we're ready.\n",
              "        channel.send({})\n",
              "        if (message.buffers) {\n",
              "          for (const buffer of message.buffers) {\n",
              "            buffers.push(buffer);\n",
              "            downloaded += buffer.byteLength;\n",
              "            progress.value = downloaded;\n",
              "          }\n",
              "        }\n",
              "      }\n",
              "      const blob = new Blob(buffers, {type: 'application/binary'});\n",
              "      const a = document.createElement('a');\n",
              "      a.href = window.URL.createObjectURL(blob);\n",
              "      a.download = filename;\n",
              "      div.appendChild(a);\n",
              "      a.click();\n",
              "      div.remove();\n",
              "    }\n",
              "  "
            ]
          },
          "metadata": {}
        },
        {
          "output_type": "display_data",
          "data": {
            "text/plain": [
              "<IPython.core.display.Javascript object>"
            ],
            "application/javascript": [
              "download(\"download_3739feab-d5b4-4890-9597-f9d22e6b3e69\", \"ventas.csv\", 436)"
            ]
          },
          "metadata": {}
        }
      ],
      "source": [
        "df_pandas = vendf.toPandas()\n",
        "df_pandas.to_csv('/content/ventas.csv', index=False)\n",
        "files.download('/content/ventas.csv')\n",
        "\n"
      ]
    },
    {
      "cell_type": "markdown",
      "id": "9152b919-2911-4ab3-8a44-af56db3a3a0c",
      "metadata": {
        "tags": [],
        "id": "9152b919-2911-4ab3-8a44-af56db3a3a0c"
      },
      "source": [
        "### Data Grupal"
      ]
    },
    {
      "cell_type": "markdown",
      "id": "74b4932e-e7e7-4f44-8650-b7e351a5e4b2",
      "metadata": {
        "id": "74b4932e-e7e7-4f44-8650-b7e351a5e4b2"
      },
      "source": [
        "Leer los archivos csv"
      ]
    },
    {
      "cell_type": "markdown",
      "id": "f0e9046c-dee6-4d8f-9b08-0cec4ef11e12",
      "metadata": {
        "tags": [],
        "id": "f0e9046c-dee6-4d8f-9b08-0cec4ef11e12"
      },
      "source": [
        "### Categoria"
      ]
    },
    {
      "cell_type": "code",
      "execution_count": 40,
      "id": "d3e5b873-376e-47cf-b5a5-b91c85be24e4",
      "metadata": {
        "id": "d3e5b873-376e-47cf-b5a5-b91c85be24e4"
      },
      "outputs": [],
      "source": [
        "categoriadf= spark.read.format(\"csv\").option(\"header\", \"true\").option(\"delimiter\", \",\").load(\"/content/categoria.csv\")"
      ]
    },
    {
      "cell_type": "code",
      "execution_count": 41,
      "id": "b75affcb-e32a-4628-8b99-6bb99765db5e",
      "metadata": {
        "id": "b75affcb-e32a-4628-8b99-6bb99765db5e",
        "outputId": "9a7b9f90-af26-48f4-ab3a-4b94bfab25fc",
        "colab": {
          "base_uri": "https://localhost:8080/"
        }
      },
      "outputs": [
        {
          "output_type": "stream",
          "name": "stdout",
          "text": [
            "+------------+-------------------+\n",
            "|id_Categoria|             nombre|\n",
            "+------------+-------------------+\n",
            "|          10|             Fideos|\n",
            "|          11|              Arroz|\n",
            "|          12|Productos enlatados|\n",
            "+------------+-------------------+\n",
            "\n"
          ]
        }
      ],
      "source": [
        "categoriadf.show(27)"
      ]
    },
    {
      "cell_type": "markdown",
      "id": "432625e3-4350-43e1-a47f-0de5a572e13a",
      "metadata": {
        "tags": [],
        "id": "432625e3-4350-43e1-a47f-0de5a572e13a"
      },
      "source": [
        "### Ventas"
      ]
    },
    {
      "cell_type": "code",
      "execution_count": 19,
      "id": "39c1e364-95ad-4784-af55-15a5092ba293",
      "metadata": {
        "id": "39c1e364-95ad-4784-af55-15a5092ba293"
      },
      "outputs": [],
      "source": [
        "ventasdf= spark.read.format(\"csv\").option(\"header\", \"true\").option(\"delimiter\", \",\").load(\"/content/ventas.csv\")"
      ]
    },
    {
      "cell_type": "code",
      "execution_count": 20,
      "id": "7ec54999-a764-4c92-8efe-f432e48a7678",
      "metadata": {
        "colab": {
          "base_uri": "https://localhost:8080/"
        },
        "id": "7ec54999-a764-4c92-8efe-f432e48a7678",
        "outputId": "48d1b2e3-28cf-48ff-bf95-dd7dfab61051"
      },
      "outputs": [
        {
          "output_type": "stream",
          "name": "stdout",
          "text": [
            "+--------+-----------+--------+----------+\n",
            "|id_venta|id_producto|cantidad|     fecha|\n",
            "+--------+-----------+--------+----------+\n",
            "|     310|         31|       2|10-06-2023|\n",
            "|     311|         31|       1|11-06-2023|\n",
            "|     320|         32|       3|12-06-2023|\n",
            "|     321|         32|       2|13-06-2023|\n",
            "|     330|         33|       4|14-06-2023|\n",
            "|     331|         33|       1|15-06-2023|\n",
            "|     340|         34|       2|16-06-2023|\n",
            "|     341|         34|       4|17-06-2023|\n",
            "|     350|         35|       2|18-06-2023|\n",
            "|     351|         35|       5|19-06-2023|\n",
            "|     360|         36|       4|20-06-2023|\n",
            "|     361|         36|       2|21-06-2023|\n",
            "|     370|         37|       1|22-06-2023|\n",
            "|     371|         37|       3|23-06-2023|\n",
            "|     380|         38|       1|24-06-2023|\n",
            "|     381|         38|       2|25-06-2023|\n",
            "|     390|         39|       3|26-06-2023|\n",
            "|     391|         39|       6|27-06-2023|\n",
            "|     400|         40|       5|28-06-2023|\n",
            "|     401|         40|       4|29-06-2023|\n",
            "+--------+-----------+--------+----------+\n",
            "\n"
          ]
        }
      ],
      "source": [
        "ventasdf.show(27)"
      ]
    },
    {
      "cell_type": "markdown",
      "id": "b7380ea5-1850-4b12-b1b3-1e0cdd0dc373",
      "metadata": {
        "tags": [],
        "id": "b7380ea5-1850-4b12-b1b3-1e0cdd0dc373"
      },
      "source": [
        "### Productos"
      ]
    },
    {
      "cell_type": "code",
      "execution_count": 21,
      "id": "23120324-4f5a-4d56-b60a-38f08657121b",
      "metadata": {
        "id": "23120324-4f5a-4d56-b60a-38f08657121b"
      },
      "outputs": [],
      "source": [
        "productosdf= spark.read.format(\"csv\").option(\"header\", \"true\").option(\"delimiter\", \",\").load(\"/content/productos.csv\")"
      ]
    },
    {
      "cell_type": "code",
      "execution_count": 22,
      "id": "f4b4f247-d00e-4024-9e75-32554fd6f52a",
      "metadata": {
        "colab": {
          "base_uri": "https://localhost:8080/"
        },
        "id": "f4b4f247-d00e-4024-9e75-32554fd6f52a",
        "outputId": "41d00db4-cc01-4823-b15f-2b66e8e1f5fa"
      },
      "outputs": [
        {
          "output_type": "stream",
          "name": "stdout",
          "text": [
            "+-----------+------------------+---------+\n",
            "|id_producto|            nombre|categoria|\n",
            "+-----------+------------------+---------+\n",
            "|         31|        fideo laso|       10|\n",
            "|         32|        fideo codo|       10|\n",
            "|         33|    fideo macarron|       10|\n",
            "|         34|        Arroz Roma|       11|\n",
            "|         35|        Arroz Ribe|       11|\n",
            "|         36|    Arroz integral|       11|\n",
            "|         37|Sardinas enlatadas|       12|\n",
            "|         38|     Atún enlatado|       12|\n",
            "|         39|Duraznos enlatados|       12|\n",
            "|         40|    Maíz enlatados|       12|\n",
            "+-----------+------------------+---------+\n",
            "\n"
          ]
        }
      ],
      "source": [
        "productosdf.show(27)"
      ]
    },
    {
      "cell_type": "markdown",
      "id": "8e9bdae8-7ab7-4f4d-8485-00270d2d1e15",
      "metadata": {
        "tags": [],
        "id": "8e9bdae8-7ab7-4f4d-8485-00270d2d1e15"
      },
      "source": [
        "### Operaciones"
      ]
    },
    {
      "cell_type": "code",
      "execution_count": 23,
      "id": "e29d7edb-64f8-44a3-b9d1-0c578e3a87aa",
      "metadata": {
        "colab": {
          "base_uri": "https://localhost:8080/"
        },
        "id": "e29d7edb-64f8-44a3-b9d1-0c578e3a87aa",
        "outputId": "7bf360d0-7132-4f13-a8fc-7663ec5e7eba"
      },
      "outputs": [
        {
          "output_type": "execute_result",
          "data": {
            "text/plain": [
              "3"
            ]
          },
          "metadata": {},
          "execution_count": 23
        }
      ],
      "source": [
        "#Calcula el número total de registros en cada DataFrame utilizando el método count().\n",
        "categoriadf.count()"
      ]
    },
    {
      "cell_type": "code",
      "execution_count": 24,
      "id": "90397390-f486-4f4e-a7f3-f8b0c36c5d27",
      "metadata": {
        "colab": {
          "base_uri": "https://localhost:8080/"
        },
        "id": "90397390-f486-4f4e-a7f3-f8b0c36c5d27",
        "outputId": "39a559e1-c714-4fb2-d3fb-a27c53970060"
      },
      "outputs": [
        {
          "output_type": "execute_result",
          "data": {
            "text/plain": [
              "20"
            ]
          },
          "metadata": {},
          "execution_count": 24
        }
      ],
      "source": [
        "ventasdf.count()\n"
      ]
    },
    {
      "cell_type": "code",
      "execution_count": 25,
      "id": "13003ce9-8da3-4f77-ab63-493ca3c5e0ef",
      "metadata": {
        "colab": {
          "base_uri": "https://localhost:8080/"
        },
        "id": "13003ce9-8da3-4f77-ab63-493ca3c5e0ef",
        "outputId": "8718dd9a-3b10-4dbb-a283-a4a68a1e894e"
      },
      "outputs": [
        {
          "output_type": "execute_result",
          "data": {
            "text/plain": [
              "10"
            ]
          },
          "metadata": {},
          "execution_count": 25
        }
      ],
      "source": [
        "productosdf.count()"
      ]
    },
    {
      "cell_type": "code",
      "execution_count": 26,
      "id": "c474ae07-f24d-4bfc-9cf3-e7d9f4484a02",
      "metadata": {
        "colab": {
          "base_uri": "https://localhost:8080/"
        },
        "id": "c474ae07-f24d-4bfc-9cf3-e7d9f4484a02",
        "outputId": "ab505e3a-dd80-4e77-ef7b-57206294052a"
      },
      "outputs": [
        {
          "output_type": "stream",
          "name": "stdout",
          "text": [
            "+--------+-----------+--------+-----+\n",
            "|id_venta|id_producto|cantidad|fecha|\n",
            "+--------+-----------+--------+-----+\n",
            "+--------+-----------+--------+-----+\n",
            "\n"
          ]
        }
      ],
      "source": [
        "#Filtra \"ventas_df\" para mostrar solo las ventas donde la cantidad sea mayor que 10.\n",
        "ventas_mayor_que_10 = ventasdf[ventasdf['cantidad'] > 10]\n",
        "ventas_mayor_que_10.show()\n"
      ]
    },
    {
      "cell_type": "code",
      "execution_count": 27,
      "id": "6eef5757-e33a-4392-ad87-ea4800b89752",
      "metadata": {
        "colab": {
          "base_uri": "https://localhost:8080/"
        },
        "id": "6eef5757-e33a-4392-ad87-ea4800b89752",
        "outputId": "0c3f228f-b07c-42a8-b249-59a4d2ea4d67"
      },
      "outputs": [
        {
          "output_type": "stream",
          "name": "stdout",
          "text": [
            "+-----------+------------------+---------+\n",
            "|id_producto|            nombre|categoria|\n",
            "+-----------+------------------+---------+\n",
            "|         35|        Arroz Ribe|       11|\n",
            "|         34|        Arroz Roma|       11|\n",
            "|         36|    Arroz integral|       11|\n",
            "|         38|     Atún enlatado|       12|\n",
            "|         39|Duraznos enlatados|       12|\n",
            "|         40|    Maíz enlatados|       12|\n",
            "|         37|Sardinas enlatadas|       12|\n",
            "|         32|        fideo codo|       10|\n",
            "|         31|        fideo laso|       10|\n",
            "|         33|    fideo macarron|       10|\n",
            "+-----------+------------------+---------+\n",
            "\n"
          ]
        }
      ],
      "source": [
        "#Ordena \"productos_df\" en orden ascendente según el nombre de producto.\n",
        "productos_ordenados = productosdf.orderBy('nombre', ascending=True)\n",
        "productos_ordenados.show()"
      ]
    },
    {
      "cell_type": "code",
      "execution_count": 28,
      "id": "245f6b31-9471-4411-9a6a-cfc7b891fad4",
      "metadata": {
        "colab": {
          "base_uri": "https://localhost:8080/"
        },
        "id": "245f6b31-9471-4411-9a6a-cfc7b891fad4",
        "outputId": "05180cc6-a28c-49d8-b0b0-13643192438c"
      },
      "outputs": [
        {
          "output_type": "stream",
          "name": "stdout",
          "text": [
            "Suma total de la cantidad vendida: 57.0\n"
          ]
        }
      ],
      "source": [
        "suma_total_cantidad = ventasdf.agg(sum('cantidad').alias('suma_total_cantidad')).collect()[0]['suma_total_cantidad']\n",
        "print(f\"Suma total de la cantidad vendida: {suma_total_cantidad}\")\n"
      ]
    },
    {
      "cell_type": "markdown",
      "id": "13684543-45b8-4079-a7d6-999a9155746e",
      "metadata": {
        "tags": [],
        "id": "13684543-45b8-4079-a7d6-999a9155746e"
      },
      "source": [
        "### Joins entre Dataframes"
      ]
    },
    {
      "cell_type": "code",
      "execution_count": 29,
      "id": "2aa0d80b-f789-49ce-ab14-ab56289204ed",
      "metadata": {
        "colab": {
          "base_uri": "https://localhost:8080/"
        },
        "id": "2aa0d80b-f789-49ce-ab14-ab56289204ed",
        "outputId": "725b1adb-ae26-42ea-a3b1-7f83399eb69a"
      },
      "outputs": [
        {
          "output_type": "stream",
          "name": "stdout",
          "text": [
            "+-----------+------------------+---------+--------+-----------+--------+----------+\n",
            "|id_producto|            nombre|categoria|id_venta|id_producto|cantidad|     fecha|\n",
            "+-----------+------------------+---------+--------+-----------+--------+----------+\n",
            "|         31|        fideo laso|       10|     310|         31|       2|10-06-2023|\n",
            "|         31|        fideo laso|       10|     311|         31|       1|11-06-2023|\n",
            "|         32|        fideo codo|       10|     320|         32|       3|12-06-2023|\n",
            "|         32|        fideo codo|       10|     321|         32|       2|13-06-2023|\n",
            "|         33|    fideo macarron|       10|     330|         33|       4|14-06-2023|\n",
            "|         33|    fideo macarron|       10|     331|         33|       1|15-06-2023|\n",
            "|         34|        Arroz Roma|       11|     340|         34|       2|16-06-2023|\n",
            "|         34|        Arroz Roma|       11|     341|         34|       4|17-06-2023|\n",
            "|         35|        Arroz Ribe|       11|     350|         35|       2|18-06-2023|\n",
            "|         35|        Arroz Ribe|       11|     351|         35|       5|19-06-2023|\n",
            "|         36|    Arroz integral|       11|     360|         36|       4|20-06-2023|\n",
            "|         36|    Arroz integral|       11|     361|         36|       2|21-06-2023|\n",
            "|         37|Sardinas enlatadas|       12|     370|         37|       1|22-06-2023|\n",
            "|         37|Sardinas enlatadas|       12|     371|         37|       3|23-06-2023|\n",
            "|         38|     Atún enlatado|       12|     380|         38|       1|24-06-2023|\n",
            "|         38|     Atún enlatado|       12|     381|         38|       2|25-06-2023|\n",
            "|         39|Duraznos enlatados|       12|     390|         39|       3|26-06-2023|\n",
            "|         39|Duraznos enlatados|       12|     391|         39|       6|27-06-2023|\n",
            "|         40|    Maíz enlatados|       12|     400|         40|       5|28-06-2023|\n",
            "|         40|    Maíz enlatados|       12|     401|         40|       4|29-06-2023|\n",
            "+-----------+------------------+---------+--------+-----------+--------+----------+\n",
            "\n"
          ]
        }
      ],
      "source": [
        "#Realiza un inner join entre \"ventas_df\" y \"productos_df\" utilizando la columna \"idProducto\" como clave de join.\n",
        "ventas_productos_df = productosdf.join(ventasdf, productosdf[\"id_Producto\"] == ventasdf[\"id_Producto\"], \"outer\").show()"
      ]
    },
    {
      "cell_type": "code",
      "execution_count": 42,
      "id": "87198c0d-dd79-4db3-bb02-d124e51f6c9a",
      "metadata": {
        "colab": {
          "base_uri": "https://localhost:8080/"
        },
        "id": "87198c0d-dd79-4db3-bb02-d124e51f6c9a",
        "outputId": "0e97de8a-a2ec-4b78-e186-c90bcbef0828"
      },
      "outputs": [
        {
          "output_type": "stream",
          "name": "stdout",
          "text": [
            "+-----------+------------------+---------+------------+-------------------+\n",
            "|id_producto|            nombre|categoria|id_Categoria|             nombre|\n",
            "+-----------+------------------+---------+------------+-------------------+\n",
            "|         31|        fideo laso|       10|          10|             Fideos|\n",
            "|         32|        fideo codo|       10|          10|             Fideos|\n",
            "|         33|    fideo macarron|       10|          10|             Fideos|\n",
            "|         34|        Arroz Roma|       11|          11|              Arroz|\n",
            "|         35|        Arroz Ribe|       11|          11|              Arroz|\n",
            "|         36|    Arroz integral|       11|          11|              Arroz|\n",
            "|         37|Sardinas enlatadas|       12|          12|Productos enlatados|\n",
            "|         38|     Atún enlatado|       12|          12|Productos enlatados|\n",
            "|         39|Duraznos enlatados|       12|          12|Productos enlatados|\n",
            "|         40|    Maíz enlatados|       12|          12|Productos enlatados|\n",
            "+-----------+------------------+---------+------------+-------------------+\n",
            "\n"
          ]
        }
      ],
      "source": [
        "#Realiza un inner join entre \"productos_df\" y \"categorias_df\" utilizando la columna \"idCategoria\" como clave de join.\n",
        "productos_categorias_df = productosdf.join(categoriadf, categoriadf[\"id_Categoria\"] == productosdf[\"categoria\"] , \"outer\").show()"
      ]
    },
    {
      "cell_type": "code",
      "execution_count": 51,
      "id": "c036d539-2f6b-4295-95f5-cedb0b79b268",
      "metadata": {
        "id": "c036d539-2f6b-4295-95f5-cedb0b79b268",
        "outputId": "07aea5bb-ee6b-446d-a5a2-29f425e16e8f",
        "colab": {
          "base_uri": "https://localhost:8080/",
          "height": 36
        }
      },
      "outputs": [
        {
          "output_type": "execute_result",
          "data": {
            "text/plain": [
              "'6'"
            ],
            "application/vnd.google.colaboratory.intrinsic+json": {
              "type": "string"
            }
          },
          "metadata": {},
          "execution_count": 51
        }
      ],
      "source": [
        "#Calcula el máximo y mínimo de la cantidad vendida en \"ventas_df\" utilizando las funciones max() y min(), respectivamente.\n",
        "ventasdf.agg(F.max('cantidad').alias('max_cantidad')).collect()[0]['max_cantidad']\n"
      ]
    },
    {
      "cell_type": "code",
      "execution_count": 52,
      "id": "df14e8ea-88e2-4ab9-b4da-c6168eca49b1",
      "metadata": {
        "id": "df14e8ea-88e2-4ab9-b4da-c6168eca49b1",
        "outputId": "9326245c-7a6b-42ab-f37f-62eaa1f42bcc",
        "colab": {
          "base_uri": "https://localhost:8080/",
          "height": 36
        }
      },
      "outputs": [
        {
          "output_type": "execute_result",
          "data": {
            "text/plain": [
              "'1'"
            ],
            "application/vnd.google.colaboratory.intrinsic+json": {
              "type": "string"
            }
          },
          "metadata": {},
          "execution_count": 52
        }
      ],
      "source": [
        "ventasdf.agg(F.min('cantidad').alias('min_cantidad')).collect()[0]['min_cantidad']"
      ]
    },
    {
      "cell_type": "code",
      "execution_count": 53,
      "id": "df54b09a-8dd1-4607-b01a-fea9615c4e20",
      "metadata": {
        "id": "df54b09a-8dd1-4607-b01a-fea9615c4e20",
        "outputId": "374fc309-50f4-4d5b-a7f9-c0037906a144",
        "colab": {
          "base_uri": "https://localhost:8080/"
        }
      },
      "outputs": [
        {
          "output_type": "execute_result",
          "data": {
            "text/plain": [
              "2.85"
            ]
          },
          "metadata": {},
          "execution_count": 53
        }
      ],
      "source": [
        "#Calcula el promedio de la cantidad vendida en \"ventas_df\" utilizando la función avg().\n",
        "ventasdf.agg(F.avg('cantidad').alias('promedio_cantidad')).collect()[0]['promedio_cantidad']"
      ]
    },
    {
      "cell_type": "code",
      "execution_count": 54,
      "id": "1cbb0298-e776-44bd-b765-caa7c4af7fc0",
      "metadata": {
        "id": "1cbb0298-e776-44bd-b765-caa7c4af7fc0",
        "outputId": "f55c39e3-1540-48b7-a19a-8c3a1e420f07",
        "colab": {
          "base_uri": "https://localhost:8080/"
        }
      },
      "outputs": [
        {
          "output_type": "execute_result",
          "data": {
            "text/plain": [
              "DataFrame[id_producto: string, suma_cantidad: double]"
            ]
          },
          "metadata": {},
          "execution_count": 54
        }
      ],
      "source": [
        "#Agrupa \"ventas_df\" por el idProducto y calcula la suma de la cantidad vendida en cada grupo utilizando el método groupBy() y la función sum().\n",
        "ventasdf.groupBy('id_producto').agg(F.sum('cantidad').alias('suma_cantidad'))\n"
      ]
    },
    {
      "cell_type": "code",
      "execution_count": 55,
      "id": "c404f138-3691-49d2-bccf-2c9f14788ef3",
      "metadata": {
        "id": "c404f138-3691-49d2-bccf-2c9f14788ef3",
        "outputId": "33b70151-5762-4905-84cc-89ba48ae891f",
        "colab": {
          "base_uri": "https://localhost:8080/"
        }
      },
      "outputs": [
        {
          "output_type": "stream",
          "name": "stdout",
          "text": [
            "+--------+-----------+--------+----------+\n",
            "|id_venta|id_producto|cantidad|     fecha|\n",
            "+--------+-----------+--------+----------+\n",
            "|     391|         39|       6|2023-06-27|\n",
            "+--------+-----------+--------+----------+\n",
            "\n"
          ]
        }
      ],
      "source": [
        "#Filtra \"ventas_df\" para mostrar solo las ventas donde la cantidad sea mayor que 5 y la fecha sea posterior a \"2023-01-15\".\n",
        "ventasdf = ventasdf.withColumn('fecha', F.to_date(F.col('fecha'), 'dd-MM-yyyy'))\n",
        "ventas_filtradas = ventasdf.filter((F.col('cantidad') > 5) & (F.col('fecha') > '2023-01-15'))\n",
        "ventas_filtradas.show()"
      ]
    },
    {
      "cell_type": "code",
      "execution_count": 56,
      "id": "abcdd465-db4c-4711-a69c-feba1b615232",
      "metadata": {
        "id": "abcdd465-db4c-4711-a69c-feba1b615232",
        "outputId": "a3b181ec-f8df-4728-dfe0-4a6bdbc2f645",
        "colab": {
          "base_uri": "https://localhost:8080/"
        }
      },
      "outputs": [
        {
          "output_type": "stream",
          "name": "stdout",
          "text": [
            "+-----------+------+---------+\n",
            "|id_producto|nombre|categoria|\n",
            "+-----------+------+---------+\n",
            "+-----------+------+---------+\n",
            "\n"
          ]
        }
      ],
      "source": [
        "#Filtra \"productos_df\" para mostrar solo los productos de la categoría 3.\n",
        "productos_categoria3 = productosdf.filter(F.col('categoria') == 3)\n",
        "productos_categoria3.show()"
      ]
    },
    {
      "cell_type": "code",
      "execution_count": 57,
      "id": "11f8f240-450d-4ce9-b7da-fcdb94d6a340",
      "metadata": {
        "id": "11f8f240-450d-4ce9-b7da-fcdb94d6a340",
        "outputId": "42e752d8-efe1-49bd-d8e7-9c9296021adc",
        "colab": {
          "base_uri": "https://localhost:8080/"
        }
      },
      "outputs": [
        {
          "output_type": "stream",
          "name": "stdout",
          "text": [
            "+--------+-----------+--------+----------+-----+\n",
            "|id_venta|id_producto|cantidad|     fecha|total|\n",
            "+--------+-----------+--------+----------+-----+\n",
            "|     310|         31|       2|2023-06-10|  4.0|\n",
            "|     311|         31|       1|2023-06-11|  2.0|\n",
            "|     320|         32|       3|2023-06-12|  6.0|\n",
            "|     321|         32|       2|2023-06-13|  4.0|\n",
            "|     330|         33|       4|2023-06-14|  8.0|\n",
            "|     331|         33|       1|2023-06-15|  2.0|\n",
            "|     340|         34|       2|2023-06-16|  4.0|\n",
            "|     341|         34|       4|2023-06-17|  8.0|\n",
            "|     350|         35|       2|2023-06-18|  4.0|\n",
            "|     351|         35|       5|2023-06-19| 10.0|\n",
            "|     360|         36|       4|2023-06-20|  8.0|\n",
            "|     361|         36|       2|2023-06-21|  4.0|\n",
            "|     370|         37|       1|2023-06-22|  2.0|\n",
            "|     371|         37|       3|2023-06-23|  6.0|\n",
            "|     380|         38|       1|2023-06-24|  2.0|\n",
            "|     381|         38|       2|2023-06-25|  4.0|\n",
            "|     390|         39|       3|2023-06-26|  6.0|\n",
            "|     391|         39|       6|2023-06-27| 12.0|\n",
            "|     400|         40|       5|2023-06-28| 10.0|\n",
            "|     401|         40|       4|2023-06-29|  8.0|\n",
            "+--------+-----------+--------+----------+-----+\n",
            "\n"
          ]
        }
      ],
      "source": [
        "#Agrega una nueva columna llamada \"total\" a \"ventas_df\" que sea el resultado de multiplicar la cantidad por 2.\n",
        "ventasdf_con_total = ventasdf.withColumn(\"total\", col(\"cantidad\") * 2)\n",
        "ventasdf_con_total.show()"
      ]
    },
    {
      "cell_type": "code",
      "execution_count": 58,
      "id": "d65e356c-d91e-4354-9cc6-3974f1b6c310",
      "metadata": {
        "id": "d65e356c-d91e-4354-9cc6-3974f1b6c310",
        "outputId": "ae60d4f8-13fb-40da-94f2-276f81e4be44",
        "colab": {
          "base_uri": "https://localhost:8080/"
        }
      },
      "outputs": [
        {
          "output_type": "stream",
          "name": "stdout",
          "text": [
            "+--------+-----------+--------+----------+\n",
            "|id_venta|id_producto|cantidad|     fecha|\n",
            "+--------+-----------+--------+----------+\n",
            "|     310|         31|       2|2023-06-10|\n",
            "|     311|         31|       1|2023-06-11|\n",
            "|     320|         32|       3|2023-06-12|\n",
            "|     321|         32|       2|2023-06-13|\n",
            "|     330|         33|       4|2023-06-14|\n",
            "|     331|         33|       1|2023-06-15|\n",
            "|     340|         34|       2|2023-06-16|\n",
            "|     341|         34|       4|2023-06-17|\n",
            "|     350|         35|       2|2023-06-18|\n",
            "|     351|         35|       5|2023-06-19|\n",
            "|     360|         36|       4|2023-06-20|\n",
            "|     361|         36|       2|2023-06-21|\n",
            "|     370|         37|       1|2023-06-22|\n",
            "|     371|         37|       3|2023-06-23|\n",
            "|     380|         38|       1|2023-06-24|\n",
            "|     381|         38|       2|2023-06-25|\n",
            "|     390|         39|       3|2023-06-26|\n",
            "|     391|         39|       6|2023-06-27|\n",
            "|     400|         40|       5|2023-06-28|\n",
            "|     401|         40|       4|2023-06-29|\n",
            "+--------+-----------+--------+----------+\n",
            "\n"
          ]
        }
      ],
      "source": [
        "#Convierte la columna \"fecha\" de \"ventas_df\" al formato de fecha utilizando la función to_date().\n",
        "ventasdf_con_fecha = ventasdf.withColumn(\"fecha\", to_date(col(\"fecha\")))\n",
        "ventasdf_con_fecha.show()"
      ]
    },
    {
      "cell_type": "markdown",
      "id": "a6a7e2f4-d06b-42a0-bfa6-1f871d3ae348",
      "metadata": {
        "tags": [],
        "id": "a6a7e2f4-d06b-42a0-bfa6-1f871d3ae348"
      },
      "source": [
        "### Consultas SQL"
      ]
    },
    {
      "cell_type": "code",
      "execution_count": 59,
      "id": "bb3e5138-5649-4556-9972-3d1dde6e5c88",
      "metadata": {
        "id": "bb3e5138-5649-4556-9972-3d1dde6e5c88"
      },
      "outputs": [],
      "source": [
        "#Registra los DataFrames \"ventas_df\", \"productos_df\" y \"categorias_df\" como tablas temporales utilizando el método createOrReplaceTempView().\n",
        "ventasdf.createOrReplaceTempView(\"ventas\")\n",
        "productosdf.createOrReplaceTempView(\"productos\")\n",
        "categoriadf.createOrReplaceTempView(\"categorias\")"
      ]
    },
    {
      "cell_type": "code",
      "execution_count": 60,
      "id": "ac098b96-8f94-4873-ad82-116e01120c76",
      "metadata": {
        "id": "ac098b96-8f94-4873-ad82-116e01120c76",
        "outputId": "98fc43cf-b8ea-4734-a315-62bc01dcfe94",
        "colab": {
          "base_uri": "https://localhost:8080/"
        }
      },
      "outputs": [
        {
          "output_type": "stream",
          "name": "stdout",
          "text": [
            "+--------+-----------+--------+----------+\n",
            "|id_venta|id_producto|cantidad|     fecha|\n",
            "+--------+-----------+--------+----------+\n",
            "|     310|         31|       2|2023-06-10|\n",
            "|     311|         31|       1|2023-06-11|\n",
            "|     320|         32|       3|2023-06-12|\n",
            "|     321|         32|       2|2023-06-13|\n",
            "|     330|         33|       4|2023-06-14|\n",
            "|     331|         33|       1|2023-06-15|\n",
            "|     340|         34|       2|2023-06-16|\n",
            "|     341|         34|       4|2023-06-17|\n",
            "|     350|         35|       2|2023-06-18|\n",
            "|     351|         35|       5|2023-06-19|\n",
            "|     360|         36|       4|2023-06-20|\n",
            "|     361|         36|       2|2023-06-21|\n",
            "|     370|         37|       1|2023-06-22|\n",
            "|     371|         37|       3|2023-06-23|\n",
            "|     380|         38|       1|2023-06-24|\n",
            "|     381|         38|       2|2023-06-25|\n",
            "|     390|         39|       3|2023-06-26|\n",
            "|     391|         39|       6|2023-06-27|\n",
            "|     400|         40|       5|2023-06-28|\n",
            "|     401|         40|       4|2023-06-29|\n",
            "+--------+-----------+--------+----------+\n",
            "\n",
            "+-----------+------------------+---------+\n",
            "|id_producto|            nombre|categoria|\n",
            "+-----------+------------------+---------+\n",
            "|         31|        fideo laso|       10|\n",
            "|         32|        fideo codo|       10|\n",
            "|         33|    fideo macarron|       10|\n",
            "|         34|        Arroz Roma|       11|\n",
            "|         35|        Arroz Ribe|       11|\n",
            "|         36|    Arroz integral|       11|\n",
            "|         37|Sardinas enlatadas|       12|\n",
            "|         38|     Atún enlatado|       12|\n",
            "|         39|Duraznos enlatados|       12|\n",
            "|         40|    Maíz enlatados|       12|\n",
            "+-----------+------------------+---------+\n",
            "\n",
            "+------------+-------------------+\n",
            "|id_Categoria|             nombre|\n",
            "+------------+-------------------+\n",
            "|          10|             Fideos|\n",
            "|          11|              Arroz|\n",
            "|          12|Productos enlatados|\n",
            "+------------+-------------------+\n",
            "\n"
          ]
        }
      ],
      "source": [
        "spark.sql(\"SELECT * FROM ventas\").show()\n",
        "spark.sql(\"SELECT * FROM productos\").show()\n",
        "spark.sql(\"SELECT * FROM categorias\").show()"
      ]
    },
    {
      "cell_type": "code",
      "execution_count": 61,
      "id": "03e3f24c-d9a7-4668-a4cf-02331427a52a",
      "metadata": {
        "id": "03e3f24c-d9a7-4668-a4cf-02331427a52a",
        "outputId": "d793a57d-3c1d-40cd-f4aa-91a1af252994",
        "colab": {
          "base_uri": "https://localhost:8080/"
        }
      },
      "outputs": [
        {
          "output_type": "stream",
          "name": "stdout",
          "text": [
            "+------------------+-------------------+--------------+\n",
            "|          producto|          categoria|cantidad_total|\n",
            "+------------------+-------------------+--------------+\n",
            "|        Arroz Ribe|              Arroz|           7.0|\n",
            "|     Atún enlatado|Productos enlatados|           3.0|\n",
            "|        fideo codo|             Fideos|           5.0|\n",
            "|Duraznos enlatados|Productos enlatados|           9.0|\n",
            "|    Maíz enlatados|Productos enlatados|           9.0|\n",
            "|    fideo macarron|             Fideos|           5.0|\n",
            "|Sardinas enlatadas|Productos enlatados|           4.0|\n",
            "|        fideo laso|             Fideos|           3.0|\n",
            "|        Arroz Roma|              Arroz|           6.0|\n",
            "|    Arroz integral|              Arroz|           6.0|\n",
            "+------------------+-------------------+--------------+\n",
            "\n"
          ]
        }
      ],
      "source": [
        "#Realiza una consulta SQL para obtener la suma de la cantidad vendida por producto y categoría.\n",
        "resultado = spark.sql(\"SELECT productos.nombre AS producto, categorias.nombre AS categoria, SUM(ventas.cantidad) AS cantidad_total FROM ventas \\\n",
        "                      JOIN productos ON ventas.id_producto = productos.id_Producto \\\n",
        "                      JOIN categorias ON productos.categoria = categorias.id_Categoria \\\n",
        "                      GROUP BY productos.nombre, categorias.nombre\")\n",
        "resultado.show()\n"
      ]
    },
    {
      "cell_type": "code",
      "execution_count": 64,
      "id": "67acf44b-73cf-412d-b228-dfdb46b63d62",
      "metadata": {
        "id": "67acf44b-73cf-412d-b228-dfdb46b63d62",
        "outputId": "cb4b6b65-1c68-48da-99e8-b6c5701f4cdf",
        "colab": {
          "base_uri": "https://localhost:8080/"
        }
      },
      "outputs": [
        {
          "output_type": "stream",
          "name": "stdout",
          "text": [
            "+--------+-----------+--------+----------+\n",
            "|id_venta|id_producto|cantidad|     fecha|\n",
            "+--------+-----------+--------+----------+\n",
            "|     310|         31|       2|2023-06-10|\n",
            "|     311|         31|       1|2023-06-11|\n",
            "|     320|         32|       3|2023-06-12|\n",
            "|     321|         32|       2|2023-06-13|\n",
            "|     330|         33|       4|2023-06-14|\n",
            "|     331|         33|       1|2023-06-15|\n",
            "|     340|         34|       2|2023-06-16|\n",
            "|     341|         34|       4|2023-06-17|\n",
            "|     350|         35|       2|2023-06-18|\n",
            "|     351|         35|       5|2023-06-19|\n",
            "|     360|         36|       4|2023-06-20|\n",
            "|     361|         36|       2|2023-06-21|\n",
            "|     370|         37|       1|2023-06-22|\n",
            "|     371|         37|       3|2023-06-23|\n",
            "|     380|         38|       1|2023-06-24|\n",
            "|     381|         38|       2|2023-06-25|\n",
            "|     390|         39|       3|2023-06-26|\n",
            "|     391|         39|       6|2023-06-27|\n",
            "|     400|         40|       5|2023-06-28|\n",
            "|     401|         40|       4|2023-06-29|\n",
            "+--------+-----------+--------+----------+\n",
            "only showing top 20 rows\n",
            "\n"
          ]
        }
      ],
      "source": [
        "#Combina \"ventas_df\" y \"productos_df\" utilizando el método union() para obtener un único DataFrame que contenga todas las ventas y productos.\n",
        "\n",
        "# Agrega una columna adicional a \"productos_df\" con valores nulos para que coincida con la estructura de \"ventas_df ya que necesitan ser iguales\"\n",
        "productosdf = productosdf.withColumn(\"id_venta\", lit(None))\n",
        "\n",
        "# Combina \"ventas_df\" y \"productos_df\" utilizando el método union()\n",
        "ventas_productos_df = ventasdf.union(productosdf)\n",
        "\n",
        "# Muestra el DataFrame resultante\n",
        "ventas_productos_df.show()"
      ]
    },
    {
      "cell_type": "code",
      "source": [
        "productosdf = productosdf.withColumn(\"id_venta\", lit(None).cast('integer')) \\\n",
        "                         .withColumn(\"cantidad\", lit(None).cast('integer')) \\\n",
        "                         .withColumn(\"fecha\", lit(None).cast('string'))"
      ],
      "metadata": {
        "id": "PNQL2hid0gVH"
      },
      "id": "PNQL2hid0gVH",
      "execution_count": 68,
      "outputs": []
    },
    {
      "cell_type": "code",
      "source": [
        "ventas_df_con_nombre = ventasdf.join(productosdf.select(\"id_producto\", \"nombre\"), on=\"id_producto\", how=\"left\")\n",
        "ventas_df_con_nombre.show()"
      ],
      "metadata": {
        "colab": {
          "base_uri": "https://localhost:8080/"
        },
        "id": "7B6B499M2JTT",
        "outputId": "ba8ca450-553d-4548-cbd3-d825b78275dd"
      },
      "id": "7B6B499M2JTT",
      "execution_count": 72,
      "outputs": [
        {
          "output_type": "stream",
          "name": "stdout",
          "text": [
            "+-----------+--------+--------+----------+------------------+\n",
            "|id_producto|id_venta|cantidad|     fecha|            nombre|\n",
            "+-----------+--------+--------+----------+------------------+\n",
            "|         31|     310|       2|2023-06-10|        fideo laso|\n",
            "|         31|     311|       1|2023-06-11|        fideo laso|\n",
            "|         32|     320|       3|2023-06-12|        fideo codo|\n",
            "|         32|     321|       2|2023-06-13|        fideo codo|\n",
            "|         33|     330|       4|2023-06-14|    fideo macarron|\n",
            "|         33|     331|       1|2023-06-15|    fideo macarron|\n",
            "|         34|     340|       2|2023-06-16|        Arroz Roma|\n",
            "|         34|     341|       4|2023-06-17|        Arroz Roma|\n",
            "|         35|     350|       2|2023-06-18|        Arroz Ribe|\n",
            "|         35|     351|       5|2023-06-19|        Arroz Ribe|\n",
            "|         36|     360|       4|2023-06-20|    Arroz integral|\n",
            "|         36|     361|       2|2023-06-21|    Arroz integral|\n",
            "|         37|     370|       1|2023-06-22|Sardinas enlatadas|\n",
            "|         37|     371|       3|2023-06-23|Sardinas enlatadas|\n",
            "|         38|     380|       1|2023-06-24|     Atún enlatado|\n",
            "|         38|     381|       2|2023-06-25|     Atún enlatado|\n",
            "|         39|     390|       3|2023-06-26|Duraznos enlatados|\n",
            "|         39|     391|       6|2023-06-27|Duraznos enlatados|\n",
            "|         40|     400|       5|2023-06-28|    Maíz enlatados|\n",
            "|         40|     401|       4|2023-06-29|    Maíz enlatados|\n",
            "+-----------+--------+--------+----------+------------------+\n",
            "\n"
          ]
        }
      ]
    }
  ],
  "metadata": {
    "kernelspec": {
      "display_name": "Python 3 (ipykernel)",
      "language": "python",
      "name": "python3"
    },
    "language_info": {
      "codemirror_mode": {
        "name": "ipython",
        "version": 3
      },
      "file_extension": ".py",
      "mimetype": "text/x-python",
      "name": "python",
      "nbconvert_exporter": "python",
      "pygments_lexer": "ipython3",
      "version": "3.11.7"
    },
    "colab": {
      "provenance": []
    }
  },
  "nbformat": 4,
  "nbformat_minor": 5
}