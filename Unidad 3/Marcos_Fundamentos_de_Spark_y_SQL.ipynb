{
  "cells": [
    {
      "cell_type": "markdown",
      "source": [
        "**Fundamento de apache spark**\n",
        "\n",
        "**Nombre:** Maicol Lojano\n",
        "\n",
        "**Materia:** Marcos de referencia para Big Data\n",
        "\n",
        "**Docente:** Veronica Chimbo"
      ],
      "metadata": {
        "id": "jbqhiFbpOKip"
      },
      "id": "jbqhiFbpOKip"
    },
    {
      "cell_type": "code",
      "execution_count": 3,
      "id": "4b16ef47",
      "metadata": {
        "colab": {
          "base_uri": "https://localhost:8080/"
        },
        "id": "4b16ef47",
        "outputId": "4e8ad0ba-f2e2-4718-f2c1-56e7e1e80cf3"
      },
      "outputs": [
        {
          "output_type": "stream",
          "name": "stdout",
          "text": [
            "Collecting pyspark\n",
            "  Downloading pyspark-3.5.1.tar.gz (317.0 MB)\n",
            "\u001b[2K     \u001b[90m━━━━━━━━━━━━━━━━━━━━━━━━━━━━━━━━━━━━━━━━\u001b[0m \u001b[32m317.0/317.0 MB\u001b[0m \u001b[31m3.6 MB/s\u001b[0m eta \u001b[36m0:00:00\u001b[0m\n",
            "\u001b[?25h  Preparing metadata (setup.py) ... \u001b[?25l\u001b[?25hdone\n",
            "Requirement already satisfied: py4j==0.10.9.7 in /usr/local/lib/python3.10/dist-packages (from pyspark) (0.10.9.7)\n",
            "Building wheels for collected packages: pyspark\n",
            "  Building wheel for pyspark (setup.py) ... \u001b[?25l\u001b[?25hdone\n",
            "  Created wheel for pyspark: filename=pyspark-3.5.1-py2.py3-none-any.whl size=317488491 sha256=593bc5952feb0912342542e4712245ea299c94679d7ca7df4649d19263806e87\n",
            "  Stored in directory: /root/.cache/pip/wheels/80/1d/60/2c256ed38dddce2fdd93be545214a63e02fbd8d74fb0b7f3a6\n",
            "Successfully built pyspark\n",
            "Installing collected packages: pyspark\n",
            "Successfully installed pyspark-3.5.1\n"
          ]
        }
      ],
      "source": [
        "!pip install pyspark"
      ]
    },
    {
      "cell_type": "code",
      "execution_count": 4,
      "id": "acba6f68",
      "metadata": {
        "colab": {
          "base_uri": "https://localhost:8080/"
        },
        "id": "acba6f68",
        "outputId": "c01eec6d-ddb1-42a6-fa10-5e6a19ecc2a8"
      },
      "outputs": [
        {
          "output_type": "stream",
          "name": "stdout",
          "text": [
            "Collecting findspark\n",
            "  Downloading findspark-2.0.1-py2.py3-none-any.whl (4.4 kB)\n",
            "Installing collected packages: findspark\n",
            "Successfully installed findspark-2.0.1\n"
          ]
        }
      ],
      "source": [
        "!pip install findspark"
      ]
    },
    {
      "cell_type": "code",
      "execution_count": 5,
      "id": "659a3b6f",
      "metadata": {
        "id": "659a3b6f"
      },
      "outputs": [],
      "source": [
        "import findspark\n",
        "findspark.init()"
      ]
    },
    {
      "cell_type": "code",
      "source": [
        "import pandas as pd\n",
        "import pyspark"
      ],
      "metadata": {
        "id": "5DqP2OpWPEHq"
      },
      "id": "5DqP2OpWPEHq",
      "execution_count": 6,
      "outputs": []
    },
    {
      "cell_type": "code",
      "source": [
        "from pyspark.sql import SparkSession\n",
        "from pyspark.sql.functions import *"
      ],
      "metadata": {
        "id": "4VBtQXmgPPP9"
      },
      "id": "4VBtQXmgPPP9",
      "execution_count": 7,
      "outputs": []
    },
    {
      "cell_type": "code",
      "source": [
        "spark = SparkSession.builder.appName(\"example\").config(\"spark.serializer\", \"org.apache.spark.serializer.KryoSerializer\").getOrCreate()\n"
      ],
      "metadata": {
        "id": "E3_91t-zPDac"
      },
      "id": "E3_91t-zPDac",
      "execution_count": 8,
      "outputs": []
    },
    {
      "cell_type": "code",
      "source": [
        "spark"
      ],
      "metadata": {
        "colab": {
          "base_uri": "https://localhost:8080/",
          "height": 219
        },
        "id": "gfTn8zPmRf9q",
        "outputId": "40c890ff-f733-4300-c1e9-f68336df3a1c"
      },
      "id": "gfTn8zPmRf9q",
      "execution_count": 9,
      "outputs": [
        {
          "output_type": "execute_result",
          "data": {
            "text/plain": [
              "<pyspark.sql.session.SparkSession at 0x7ab179c8fbe0>"
            ],
            "text/html": [
              "\n",
              "            <div>\n",
              "                <p><b>SparkSession - in-memory</b></p>\n",
              "                \n",
              "        <div>\n",
              "            <p><b>SparkContext</b></p>\n",
              "\n",
              "            <p><a href=\"http://8a79cd06113e:4040\">Spark UI</a></p>\n",
              "\n",
              "            <dl>\n",
              "              <dt>Version</dt>\n",
              "                <dd><code>v3.5.1</code></dd>\n",
              "              <dt>Master</dt>\n",
              "                <dd><code>local[*]</code></dd>\n",
              "              <dt>AppName</dt>\n",
              "                <dd><code>example</code></dd>\n",
              "            </dl>\n",
              "        </div>\n",
              "        \n",
              "            </div>\n",
              "        "
            ]
          },
          "metadata": {},
          "execution_count": 9
        }
      ]
    },
    {
      "cell_type": "markdown",
      "source": [
        "# Crear el dataframe"
      ],
      "metadata": {
        "id": "0O_4n4abQb5U"
      },
      "id": "0O_4n4abQb5U"
    },
    {
      "cell_type": "code",
      "source": [
        "emp = [(1, \"AAA\", \"dept1\", 1000),\n",
        "(2, \"BBB\", \"dept1\", 1100),\n",
        "(3, \"CCC\", \"dept1\", 3000),\n",
        "(4, \"DDD\", \"dept1\", 1500),\n",
        "(5, \"EEE\", \"dept2\", 8000),\n",
        "(6, \"FFF\", \"dept2\", 7200),\n",
        "(7, \"GGG\", \"dept3\", 7100),\n",
        "(8, \"HHH\", \"dept3\", 3700),\n",
        "(9, \"III\", \"dept3\", 4500),\n",
        "(10, \"JJJ\", \"dept5\", 3400)]\n",
        "\n",
        "dept=[(\"dept1\", \"Deparment-1\"),\n",
        "(\"dept2\", \"Deparment-2\"),\n",
        "(\"dept3\", \"Deparment-3\"),\n",
        "(\"dept4\", \"Deparment-4\")]\n",
        "df=spark.createDataFrame(emp,[\"id\", \"name\", \"dept\", \"salary\"])\n",
        "deptdf=spark.createDataFrame(dept, [\"id\", \"name\"])\n"
      ],
      "metadata": {
        "id": "RgFGWMD_P91a"
      },
      "id": "RgFGWMD_P91a",
      "execution_count": 10,
      "outputs": []
    },
    {
      "cell_type": "code",
      "source": [
        "df.show()"
      ],
      "metadata": {
        "colab": {
          "base_uri": "https://localhost:8080/"
        },
        "id": "2W6n6LYnS8cg",
        "outputId": "c6c999a6-3fd6-41b8-adf9-c1fcd1aed7d1"
      },
      "id": "2W6n6LYnS8cg",
      "execution_count": 11,
      "outputs": [
        {
          "output_type": "stream",
          "name": "stdout",
          "text": [
            "+---+----+-----+------+\n",
            "| id|name| dept|salary|\n",
            "+---+----+-----+------+\n",
            "|  1| AAA|dept1|  1000|\n",
            "|  2| BBB|dept1|  1100|\n",
            "|  3| CCC|dept1|  3000|\n",
            "|  4| DDD|dept1|  1500|\n",
            "|  5| EEE|dept2|  8000|\n",
            "|  6| FFF|dept2|  7200|\n",
            "|  7| GGG|dept3|  7100|\n",
            "|  8| HHH|dept3|  3700|\n",
            "|  9| III|dept3|  4500|\n",
            "| 10| JJJ|dept5|  3400|\n",
            "+---+----+-----+------+\n",
            "\n"
          ]
        }
      ]
    },
    {
      "cell_type": "markdown",
      "source": [
        "Operaciones basicas\n",
        "\n",
        "Cuenta el numero de filas"
      ],
      "metadata": {
        "id": "7rmAcyjnTJ7j"
      },
      "id": "7rmAcyjnTJ7j"
    },
    {
      "cell_type": "code",
      "execution_count": 12,
      "id": "714e7c19",
      "metadata": {
        "colab": {
          "base_uri": "https://localhost:8080/"
        },
        "id": "714e7c19",
        "outputId": "ee6f446f-6605-458d-de82-9640bb941cf5"
      },
      "outputs": [
        {
          "output_type": "execute_result",
          "data": {
            "text/plain": [
              "10"
            ]
          },
          "metadata": {},
          "execution_count": 12
        }
      ],
      "source": [
        "df.count()"
      ]
    },
    {
      "cell_type": "code",
      "source": [
        "deptdf.count()"
      ],
      "metadata": {
        "colab": {
          "base_uri": "https://localhost:8080/"
        },
        "id": "oq-WUnaDTZkF",
        "outputId": "ee2fba04-239f-4e34-ff3c-4e1be66683b6"
      },
      "id": "oq-WUnaDTZkF",
      "execution_count": 13,
      "outputs": [
        {
          "output_type": "execute_result",
          "data": {
            "text/plain": [
              "4"
            ]
          },
          "metadata": {},
          "execution_count": 13
        }
      ]
    },
    {
      "cell_type": "markdown",
      "source": [
        "Ver columnas de nuestro dataframe"
      ],
      "metadata": {
        "id": "x3YnJpkbTcGL"
      },
      "id": "x3YnJpkbTcGL"
    },
    {
      "cell_type": "code",
      "source": [
        "df.columns"
      ],
      "metadata": {
        "colab": {
          "base_uri": "https://localhost:8080/"
        },
        "id": "OEqpBHqOTT-y",
        "outputId": "4b10bb5d-8040-4fdf-9ccc-476a31c5a0c4"
      },
      "id": "OEqpBHqOTT-y",
      "execution_count": 14,
      "outputs": [
        {
          "output_type": "execute_result",
          "data": {
            "text/plain": [
              "['id', 'name', 'dept', 'salary']"
            ]
          },
          "metadata": {},
          "execution_count": 14
        }
      ]
    },
    {
      "cell_type": "code",
      "source": [
        "deptdf.columns"
      ],
      "metadata": {
        "colab": {
          "base_uri": "https://localhost:8080/"
        },
        "id": "_bjR25oGTfHJ",
        "outputId": "21aa8058-3607-4e91-c90f-b7c169b9ae70"
      },
      "id": "_bjR25oGTfHJ",
      "execution_count": 15,
      "outputs": [
        {
          "output_type": "execute_result",
          "data": {
            "text/plain": [
              "['id', 'name']"
            ]
          },
          "metadata": {},
          "execution_count": 15
        }
      ]
    },
    {
      "cell_type": "markdown",
      "source": [
        "Ver el tipo de dato"
      ],
      "metadata": {
        "id": "4R84Sz2TTvYU"
      },
      "id": "4R84Sz2TTvYU"
    },
    {
      "cell_type": "code",
      "source": [
        "df.dtypes"
      ],
      "metadata": {
        "colab": {
          "base_uri": "https://localhost:8080/"
        },
        "id": "UteioVrlTkWx",
        "outputId": "6b88abbe-547d-43e2-9f92-3af0bb7b8a7a"
      },
      "id": "UteioVrlTkWx",
      "execution_count": 16,
      "outputs": [
        {
          "output_type": "execute_result",
          "data": {
            "text/plain": [
              "[('id', 'bigint'),\n",
              " ('name', 'string'),\n",
              " ('dept', 'string'),\n",
              " ('salary', 'bigint')]"
            ]
          },
          "metadata": {},
          "execution_count": 16
        }
      ]
    },
    {
      "cell_type": "code",
      "source": [
        "deptdf.dtypes"
      ],
      "metadata": {
        "colab": {
          "base_uri": "https://localhost:8080/"
        },
        "id": "9k4Zg3-ATyHG",
        "outputId": "c0b560ba-0d31-4d15-9d94-d8be719960fc"
      },
      "id": "9k4Zg3-ATyHG",
      "execution_count": 17,
      "outputs": [
        {
          "output_type": "execute_result",
          "data": {
            "text/plain": [
              "[('id', 'string'), ('name', 'string')]"
            ]
          },
          "metadata": {},
          "execution_count": 17
        }
      ]
    },
    {
      "cell_type": "markdown",
      "source": [
        "Schema\n",
        "\n",
        "Comprueba como spark almacena el esquema del DataFRame"
      ],
      "metadata": {
        "id": "9sEyDCnYT12Y"
      },
      "id": "9sEyDCnYT12Y"
    },
    {
      "cell_type": "code",
      "source": [
        "df.schema"
      ],
      "metadata": {
        "colab": {
          "base_uri": "https://localhost:8080/"
        },
        "id": "f20qmvU_T1SO",
        "outputId": "5c7e0c80-6d8f-47ed-f06f-355c6a75e7fd"
      },
      "id": "f20qmvU_T1SO",
      "execution_count": 18,
      "outputs": [
        {
          "output_type": "execute_result",
          "data": {
            "text/plain": [
              "StructType([StructField('id', LongType(), True), StructField('name', StringType(), True), StructField('dept', StringType(), True), StructField('salary', LongType(), True)])"
            ]
          },
          "metadata": {},
          "execution_count": 18
        }
      ]
    },
    {
      "cell_type": "code",
      "source": [
        "deptdf.schema"
      ],
      "metadata": {
        "colab": {
          "base_uri": "https://localhost:8080/"
        },
        "id": "fIQa7QQ9T_B0",
        "outputId": "295f744c-1090-4467-b067-e093413d374e"
      },
      "id": "fIQa7QQ9T_B0",
      "execution_count": 19,
      "outputs": [
        {
          "output_type": "execute_result",
          "data": {
            "text/plain": [
              "StructType([StructField('id', StringType(), True), StructField('name', StringType(), True)])"
            ]
          },
          "metadata": {},
          "execution_count": 19
        }
      ]
    },
    {
      "cell_type": "markdown",
      "source": [
        "print schema"
      ],
      "metadata": {
        "id": "3-7eq7JYUGLE"
      },
      "id": "3-7eq7JYUGLE"
    },
    {
      "cell_type": "code",
      "source": [
        "df.printSchema"
      ],
      "metadata": {
        "colab": {
          "base_uri": "https://localhost:8080/",
          "height": 186
        },
        "id": "nogt-zv5UH6a",
        "outputId": "1d5ef29b-53d7-430b-e4c3-7d216641df76"
      },
      "id": "nogt-zv5UH6a",
      "execution_count": 20,
      "outputs": [
        {
          "output_type": "execute_result",
          "data": {
            "text/plain": [
              "<bound method DataFrame.printSchema of DataFrame[id: bigint, name: string, dept: string, salary: bigint]>"
            ],
            "text/html": [
              "<div style=\"max-width:800px; border: 1px solid var(--colab-border-color);\"><style>\n",
              "      pre.function-repr-contents {\n",
              "        overflow-x: auto;\n",
              "        padding: 8px 12px;\n",
              "        max-height: 500px;\n",
              "      }\n",
              "\n",
              "      pre.function-repr-contents.function-repr-contents-collapsed {\n",
              "        cursor: pointer;\n",
              "        max-height: 100px;\n",
              "      }\n",
              "    </style>\n",
              "    <pre style=\"white-space: initial; background:\n",
              "         var(--colab-secondary-surface-color); padding: 8px 12px;\n",
              "         border-bottom: 1px solid var(--colab-border-color);\"><b>pyspark.sql.dataframe.DataFrame.printSchema</b><br/>def printSchema(level: Optional[int]=None) -&gt; None</pre><pre class=\"function-repr-contents function-repr-contents-collapsed\" style=\"\"><a class=\"filepath\" style=\"display:none\" href=\"#\">/usr/local/lib/python3.10/dist-packages/pyspark/sql/dataframe.py</a>Prints out the schema in the tree format.\n",
              "Optionally allows to specify how many levels to print if schema is nested.\n",
              "\n",
              ".. versionadded:: 1.3.0\n",
              "\n",
              ".. versionchanged:: 3.4.0\n",
              "    Supports Spark Connect.\n",
              "\n",
              "Parameters\n",
              "----------\n",
              "level : int, optional, default None\n",
              "    How many levels to print for nested schemas.\n",
              "\n",
              "    .. versionchanged:: 3.5.0\n",
              "        Added Level parameter.\n",
              "\n",
              "Examples\n",
              "--------\n",
              "&gt;&gt;&gt; df = spark.createDataFrame(\n",
              "...     [(14, &quot;Tom&quot;), (23, &quot;Alice&quot;), (16, &quot;Bob&quot;)], [&quot;age&quot;, &quot;name&quot;])\n",
              "&gt;&gt;&gt; df.printSchema()\n",
              "root\n",
              " |-- age: long (nullable = true)\n",
              " |-- name: string (nullable = true)\n",
              "\n",
              "&gt;&gt;&gt; df = spark.createDataFrame([(1, (2,2))], [&quot;a&quot;, &quot;b&quot;])\n",
              "&gt;&gt;&gt; df.printSchema(1)\n",
              "root\n",
              " |-- a: long (nullable = true)\n",
              " |-- b: struct (nullable = true)\n",
              "\n",
              "&gt;&gt;&gt; df.printSchema(2)\n",
              "root\n",
              " |-- a: long (nullable = true)\n",
              " |-- b: struct (nullable = true)\n",
              " |    |-- _1: long (nullable = true)\n",
              " |    |-- _2: long (nullable = true)</pre>\n",
              "      <script>\n",
              "      if (google.colab.kernel.accessAllowed && google.colab.files && google.colab.files.view) {\n",
              "        for (const element of document.querySelectorAll('.filepath')) {\n",
              "          element.style.display = 'block'\n",
              "          element.onclick = (event) => {\n",
              "            event.preventDefault();\n",
              "            event.stopPropagation();\n",
              "            google.colab.files.view(element.textContent, 581);\n",
              "          };\n",
              "        }\n",
              "      }\n",
              "      for (const element of document.querySelectorAll('.function-repr-contents')) {\n",
              "        element.onclick = (event) => {\n",
              "          event.preventDefault();\n",
              "          event.stopPropagation();\n",
              "          element.classList.toggle('function-repr-contents-collapsed');\n",
              "        };\n",
              "      }\n",
              "      </script>\n",
              "      </div>"
            ]
          },
          "metadata": {},
          "execution_count": 20
        }
      ]
    },
    {
      "cell_type": "code",
      "source": [
        "deptdf.printSchema"
      ],
      "metadata": {
        "colab": {
          "base_uri": "https://localhost:8080/",
          "height": 186
        },
        "id": "uSNV4RjvUPZp",
        "outputId": "3f4bd873-27a2-4154-da31-1b6f94663ff9"
      },
      "id": "uSNV4RjvUPZp",
      "execution_count": 21,
      "outputs": [
        {
          "output_type": "execute_result",
          "data": {
            "text/plain": [
              "<bound method DataFrame.printSchema of DataFrame[id: string, name: string]>"
            ],
            "text/html": [
              "<div style=\"max-width:800px; border: 1px solid var(--colab-border-color);\"><style>\n",
              "      pre.function-repr-contents {\n",
              "        overflow-x: auto;\n",
              "        padding: 8px 12px;\n",
              "        max-height: 500px;\n",
              "      }\n",
              "\n",
              "      pre.function-repr-contents.function-repr-contents-collapsed {\n",
              "        cursor: pointer;\n",
              "        max-height: 100px;\n",
              "      }\n",
              "    </style>\n",
              "    <pre style=\"white-space: initial; background:\n",
              "         var(--colab-secondary-surface-color); padding: 8px 12px;\n",
              "         border-bottom: 1px solid var(--colab-border-color);\"><b>pyspark.sql.dataframe.DataFrame.printSchema</b><br/>def printSchema(level: Optional[int]=None) -&gt; None</pre><pre class=\"function-repr-contents function-repr-contents-collapsed\" style=\"\"><a class=\"filepath\" style=\"display:none\" href=\"#\">/usr/local/lib/python3.10/dist-packages/pyspark/sql/dataframe.py</a>Prints out the schema in the tree format.\n",
              "Optionally allows to specify how many levels to print if schema is nested.\n",
              "\n",
              ".. versionadded:: 1.3.0\n",
              "\n",
              ".. versionchanged:: 3.4.0\n",
              "    Supports Spark Connect.\n",
              "\n",
              "Parameters\n",
              "----------\n",
              "level : int, optional, default None\n",
              "    How many levels to print for nested schemas.\n",
              "\n",
              "    .. versionchanged:: 3.5.0\n",
              "        Added Level parameter.\n",
              "\n",
              "Examples\n",
              "--------\n",
              "&gt;&gt;&gt; df = spark.createDataFrame(\n",
              "...     [(14, &quot;Tom&quot;), (23, &quot;Alice&quot;), (16, &quot;Bob&quot;)], [&quot;age&quot;, &quot;name&quot;])\n",
              "&gt;&gt;&gt; df.printSchema()\n",
              "root\n",
              " |-- age: long (nullable = true)\n",
              " |-- name: string (nullable = true)\n",
              "\n",
              "&gt;&gt;&gt; df = spark.createDataFrame([(1, (2,2))], [&quot;a&quot;, &quot;b&quot;])\n",
              "&gt;&gt;&gt; df.printSchema(1)\n",
              "root\n",
              " |-- a: long (nullable = true)\n",
              " |-- b: struct (nullable = true)\n",
              "\n",
              "&gt;&gt;&gt; df.printSchema(2)\n",
              "root\n",
              " |-- a: long (nullable = true)\n",
              " |-- b: struct (nullable = true)\n",
              " |    |-- _1: long (nullable = true)\n",
              " |    |-- _2: long (nullable = true)</pre>\n",
              "      <script>\n",
              "      if (google.colab.kernel.accessAllowed && google.colab.files && google.colab.files.view) {\n",
              "        for (const element of document.querySelectorAll('.filepath')) {\n",
              "          element.style.display = 'block'\n",
              "          element.onclick = (event) => {\n",
              "            event.preventDefault();\n",
              "            event.stopPropagation();\n",
              "            google.colab.files.view(element.textContent, 581);\n",
              "          };\n",
              "        }\n",
              "      }\n",
              "      for (const element of document.querySelectorAll('.function-repr-contents')) {\n",
              "        element.onclick = (event) => {\n",
              "          event.preventDefault();\n",
              "          event.stopPropagation();\n",
              "          element.classList.toggle('function-repr-contents-collapsed');\n",
              "        };\n",
              "      }\n",
              "      </script>\n",
              "      </div>"
            ]
          },
          "metadata": {},
          "execution_count": 21
        }
      ]
    },
    {
      "cell_type": "markdown",
      "source": [
        "Select\n",
        "\n",
        "Seleccionamos clumnas del DataFrame\n"
      ],
      "metadata": {
        "id": "mJ8RorxcUf3x"
      },
      "id": "mJ8RorxcUf3x"
    },
    {
      "cell_type": "code",
      "source": [
        "df.select(\"id\", \"name\").show()"
      ],
      "metadata": {
        "colab": {
          "base_uri": "https://localhost:8080/"
        },
        "id": "Hp8avZ_hUlmG",
        "outputId": "2ed70ec1-68b1-498e-b049-7ce696bd1bf9"
      },
      "id": "Hp8avZ_hUlmG",
      "execution_count": 22,
      "outputs": [
        {
          "output_type": "stream",
          "name": "stdout",
          "text": [
            "+---+----+\n",
            "| id|name|\n",
            "+---+----+\n",
            "|  1| AAA|\n",
            "|  2| BBB|\n",
            "|  3| CCC|\n",
            "|  4| DDD|\n",
            "|  5| EEE|\n",
            "|  6| FFF|\n",
            "|  7| GGG|\n",
            "|  8| HHH|\n",
            "|  9| III|\n",
            "| 10| JJJ|\n",
            "+---+----+\n",
            "\n"
          ]
        }
      ]
    },
    {
      "cell_type": "code",
      "source": [
        "deptdf.select(\"name\").show()"
      ],
      "metadata": {
        "colab": {
          "base_uri": "https://localhost:8080/"
        },
        "id": "vgdTbpGPUz9P",
        "outputId": "c73c9dc1-0821-4ec0-d83c-b09593a687d8"
      },
      "id": "vgdTbpGPUz9P",
      "execution_count": 23,
      "outputs": [
        {
          "output_type": "stream",
          "name": "stdout",
          "text": [
            "+-----------+\n",
            "|       name|\n",
            "+-----------+\n",
            "|Deparment-1|\n",
            "|Deparment-2|\n",
            "|Deparment-3|\n",
            "|Deparment-4|\n",
            "+-----------+\n",
            "\n"
          ]
        }
      ]
    },
    {
      "cell_type": "markdown",
      "source": [
        "Filter\n",
        "\n",
        "\n",
        "\n",
        "*   Filtrar las filas\n",
        "*   Intentamos encontrar filas con id=1.\n",
        "*   Hay diferentes formas de especificar la condicion.\n",
        "\n"
      ],
      "metadata": {
        "id": "KzVbE_1NU6vL"
      },
      "id": "KzVbE_1NU6vL"
    },
    {
      "cell_type": "code",
      "source": [
        "df.filter(df[\"id\"]==1).show()\n",
        "df.filter(df.id==1).show()"
      ],
      "metadata": {
        "colab": {
          "base_uri": "https://localhost:8080/"
        },
        "id": "b3qanDFSU6GL",
        "outputId": "4d7849b2-4ced-4834-d46a-c67191ea38e9"
      },
      "id": "b3qanDFSU6GL",
      "execution_count": 24,
      "outputs": [
        {
          "output_type": "stream",
          "name": "stdout",
          "text": [
            "+---+----+-----+------+\n",
            "| id|name| dept|salary|\n",
            "+---+----+-----+------+\n",
            "|  1| AAA|dept1|  1000|\n",
            "+---+----+-----+------+\n",
            "\n",
            "+---+----+-----+------+\n",
            "| id|name| dept|salary|\n",
            "+---+----+-----+------+\n",
            "|  1| AAA|dept1|  1000|\n",
            "+---+----+-----+------+\n",
            "\n"
          ]
        }
      ]
    },
    {
      "cell_type": "code",
      "source": [
        "deptdf.filter(deptdf.id==\"dept3\").show()"
      ],
      "metadata": {
        "colab": {
          "base_uri": "https://localhost:8080/"
        },
        "id": "sYizp5ODVl4i",
        "outputId": "34e62380-859a-4002-b1d5-a2dad74e055f"
      },
      "id": "sYizp5ODVl4i",
      "execution_count": 25,
      "outputs": [
        {
          "output_type": "stream",
          "name": "stdout",
          "text": [
            "+-----+-----------+\n",
            "|   id|       name|\n",
            "+-----+-----------+\n",
            "|dept3|Deparment-3|\n",
            "+-----+-----------+\n",
            "\n"
          ]
        }
      ]
    },
    {
      "cell_type": "code",
      "source": [
        "df.filter(col(\"id\")==1).show()\n",
        "df.filter(\"id==1\").show()"
      ],
      "metadata": {
        "colab": {
          "base_uri": "https://localhost:8080/"
        },
        "id": "B9yG8yYCV4rL",
        "outputId": "52bda169-63c3-4c63-f6a4-33bb92798dab"
      },
      "id": "B9yG8yYCV4rL",
      "execution_count": 26,
      "outputs": [
        {
          "output_type": "stream",
          "name": "stdout",
          "text": [
            "+---+----+-----+------+\n",
            "| id|name| dept|salary|\n",
            "+---+----+-----+------+\n",
            "|  1| AAA|dept1|  1000|\n",
            "+---+----+-----+------+\n",
            "\n",
            "+---+----+-----+------+\n",
            "| id|name| dept|salary|\n",
            "+---+----+-----+------+\n",
            "|  1| AAA|dept1|  1000|\n",
            "+---+----+-----+------+\n",
            "\n"
          ]
        }
      ]
    },
    {
      "cell_type": "markdown",
      "source": [
        "drop\n",
        "\n",
        "Elimina una columna"
      ],
      "metadata": {
        "id": "4jQ1EBIcWfMG"
      },
      "id": "4jQ1EBIcWfMG"
    },
    {
      "cell_type": "code",
      "source": [
        "newdf=df.drop(\"id\")\n",
        "newdf.show(2)"
      ],
      "metadata": {
        "colab": {
          "base_uri": "https://localhost:8080/"
        },
        "id": "esaSSzlZWSB_",
        "outputId": "9ff1bd9a-750a-4dc4-d98f-7d8e2869e3dc"
      },
      "id": "esaSSzlZWSB_",
      "execution_count": 27,
      "outputs": [
        {
          "output_type": "stream",
          "name": "stdout",
          "text": [
            "+----+-----+------+\n",
            "|name| dept|salary|\n",
            "+----+-----+------+\n",
            "| AAA|dept1|  1000|\n",
            "| BBB|dept1|  1100|\n",
            "+----+-----+------+\n",
            "only showing top 2 rows\n",
            "\n"
          ]
        }
      ]
    },
    {
      "cell_type": "code",
      "source": [
        "newdf=deptdf.drop(\"id\")\n",
        "newdf.show(2)"
      ],
      "metadata": {
        "colab": {
          "base_uri": "https://localhost:8080/"
        },
        "id": "mxGtflDVWx-g",
        "outputId": "390a90b3-fd64-4dd4-9af0-6bf9258a9f55"
      },
      "id": "mxGtflDVWx-g",
      "execution_count": 28,
      "outputs": [
        {
          "output_type": "stream",
          "name": "stdout",
          "text": [
            "+-----------+\n",
            "|       name|\n",
            "+-----------+\n",
            "|Deparment-1|\n",
            "|Deparment-2|\n",
            "+-----------+\n",
            "only showing top 2 rows\n",
            "\n"
          ]
        }
      ]
    },
    {
      "cell_type": "markdown",
      "source": [
        "Usamos la funcion groupby para agrupar lo datos"
      ],
      "metadata": {
        "id": "bc5P48BBYE8G"
      },
      "id": "bc5P48BBYE8G"
    },
    {
      "cell_type": "code",
      "source": [
        "from pyspark.sql.functions import count, sum, avg, max, min"
      ],
      "metadata": {
        "id": "LoD_YTdqaTkP"
      },
      "id": "LoD_YTdqaTkP",
      "execution_count": 29,
      "outputs": []
    },
    {
      "cell_type": "code",
      "source": [
        "(df.groupBy(\"dept\") .agg(\n",
        "      count(\"salary\").alias(\"count\"),\n",
        "      sum(\"salary\").alias(\"sum\"),\n",
        "      avg(\"salary\").alias(\"avg\"),\n",
        "      max(\"salary\").alias(\"max\"),\n",
        "      min(\"salary\").alias(\"min\") ).show())"
      ],
      "metadata": {
        "colab": {
          "base_uri": "https://localhost:8080/"
        },
        "id": "pVyPtz64Zz4O",
        "outputId": "4ba65c9d-20c6-429d-f66e-be74f5efe024"
      },
      "id": "pVyPtz64Zz4O",
      "execution_count": 30,
      "outputs": [
        {
          "output_type": "stream",
          "name": "stdout",
          "text": [
            "+-----+-----+-----+------+----+----+\n",
            "| dept|count|  sum|   avg| max| min|\n",
            "+-----+-----+-----+------+----+----+\n",
            "|dept1|    4| 6600|1650.0|3000|1000|\n",
            "|dept2|    2|15200|7600.0|8000|7200|\n",
            "|dept5|    1| 3400|3400.0|3400|3400|\n",
            "|dept3|    3|15300|5100.0|7100|3700|\n",
            "+-----+-----+-----+------+----+----+\n",
            "\n"
          ]
        }
      ]
    },
    {
      "cell_type": "markdown",
      "source": [],
      "metadata": {
        "id": "zrx9OjgeaeCV"
      },
      "id": "zrx9OjgeaeCV"
    },
    {
      "cell_type": "code",
      "source": [
        "df.sort(\"salary\").show(5)"
      ],
      "metadata": {
        "colab": {
          "base_uri": "https://localhost:8080/"
        },
        "id": "h2R2LYpWY41t",
        "outputId": "b61e58ea-0d9e-46b5-8324-7f9d6a16554a"
      },
      "id": "h2R2LYpWY41t",
      "execution_count": 31,
      "outputs": [
        {
          "output_type": "stream",
          "name": "stdout",
          "text": [
            "+---+----+-----+------+\n",
            "| id|name| dept|salary|\n",
            "+---+----+-----+------+\n",
            "|  1| AAA|dept1|  1000|\n",
            "|  2| BBB|dept1|  1100|\n",
            "|  4| DDD|dept1|  1500|\n",
            "|  3| CCC|dept1|  3000|\n",
            "| 10| JJJ|dept5|  3400|\n",
            "+---+----+-----+------+\n",
            "only showing top 5 rows\n",
            "\n"
          ]
        }
      ]
    },
    {
      "cell_type": "code",
      "source": [
        "# Sort the data in descending order.\n",
        "df.sort(desc(\"salary\")).show(5)\n",
        "\n"
      ],
      "metadata": {
        "colab": {
          "base_uri": "https://localhost:8080/"
        },
        "id": "6VBgbTF_agh3",
        "outputId": "0da39841-bcb6-46f8-c325-a3a49e2adcb7"
      },
      "id": "6VBgbTF_agh3",
      "execution_count": 32,
      "outputs": [
        {
          "output_type": "stream",
          "name": "stdout",
          "text": [
            "+---+----+-----+------+\n",
            "| id|name| dept|salary|\n",
            "+---+----+-----+------+\n",
            "|  5| EEE|dept2|  8000|\n",
            "|  6| FFF|dept2|  7200|\n",
            "|  7| GGG|dept3|  7100|\n",
            "|  9| III|dept3|  4500|\n",
            "|  8| HHH|dept3|  3700|\n",
            "+---+----+-----+------+\n",
            "only showing top 5 rows\n",
            "\n"
          ]
        }
      ]
    },
    {
      "cell_type": "markdown",
      "source": [
        "Columnas derivadas\n",
        "\n",
        "Usaos la funcion \"withcolum\" para derivar"
      ],
      "metadata": {
        "id": "Ysd80IkYauTq"
      },
      "id": "Ysd80IkYauTq"
    },
    {
      "cell_type": "code",
      "source": [
        "df.withColumn(\"bonus\", col(\"salary\")* .5).show()"
      ],
      "metadata": {
        "colab": {
          "base_uri": "https://localhost:8080/"
        },
        "id": "naqEpIW1a1d1",
        "outputId": "02ccd699-2a81-4b01-ddb7-3a8423bd0156"
      },
      "id": "naqEpIW1a1d1",
      "execution_count": 33,
      "outputs": [
        {
          "output_type": "stream",
          "name": "stdout",
          "text": [
            "+---+----+-----+------+------+\n",
            "| id|name| dept|salary| bonus|\n",
            "+---+----+-----+------+------+\n",
            "|  1| AAA|dept1|  1000| 500.0|\n",
            "|  2| BBB|dept1|  1100| 550.0|\n",
            "|  3| CCC|dept1|  3000|1500.0|\n",
            "|  4| DDD|dept1|  1500| 750.0|\n",
            "|  5| EEE|dept2|  8000|4000.0|\n",
            "|  6| FFF|dept2|  7200|3600.0|\n",
            "|  7| GGG|dept3|  7100|3550.0|\n",
            "|  8| HHH|dept3|  3700|1850.0|\n",
            "|  9| III|dept3|  4500|2250.0|\n",
            "| 10| JJJ|dept5|  3400|1700.0|\n",
            "+---+----+-----+------+------+\n",
            "\n"
          ]
        }
      ]
    },
    {
      "cell_type": "markdown",
      "source": [
        "Joins"
      ],
      "metadata": {
        "id": "YFCQmnjvbNQt"
      },
      "id": "YFCQmnjvbNQt"
    },
    {
      "cell_type": "code",
      "source": [
        "# Inner JOIN.\n",
        "df.join(deptdf, df[\"dept\"] == deptdf[\"id\"]).show()"
      ],
      "metadata": {
        "colab": {
          "base_uri": "https://localhost:8080/"
        },
        "id": "xcsP-rn0bMKs",
        "outputId": "494dc2b0-0618-4a98-81c9-66a88ed26705"
      },
      "id": "xcsP-rn0bMKs",
      "execution_count": 34,
      "outputs": [
        {
          "output_type": "stream",
          "name": "stdout",
          "text": [
            "+---+----+-----+------+-----+-----------+\n",
            "| id|name| dept|salary|   id|       name|\n",
            "+---+----+-----+------+-----+-----------+\n",
            "|  1| AAA|dept1|  1000|dept1|Deparment-1|\n",
            "|  2| BBB|dept1|  1100|dept1|Deparment-1|\n",
            "|  3| CCC|dept1|  3000|dept1|Deparment-1|\n",
            "|  4| DDD|dept1|  1500|dept1|Deparment-1|\n",
            "|  5| EEE|dept2|  8000|dept2|Deparment-2|\n",
            "|  6| FFF|dept2|  7200|dept2|Deparment-2|\n",
            "|  7| GGG|dept3|  7100|dept3|Deparment-3|\n",
            "|  8| HHH|dept3|  3700|dept3|Deparment-3|\n",
            "|  9| III|dept3|  4500|dept3|Deparment-3|\n",
            "+---+----+-----+------+-----+-----------+\n",
            "\n"
          ]
        }
      ]
    },
    {
      "cell_type": "markdown",
      "source": [
        "right_outer"
      ],
      "metadata": {
        "id": "Z0rarcuwcVo3"
      },
      "id": "Z0rarcuwcVo3"
    },
    {
      "cell_type": "code",
      "source": [
        "df.join(deptdf, df[\"dept\"] == deptdf[\"id\"], \"right_outer\").show()"
      ],
      "metadata": {
        "colab": {
          "base_uri": "https://localhost:8080/"
        },
        "id": "MKNmQ_XecE7G",
        "outputId": "d8e14afd-5039-400c-855f-0b068f16697a"
      },
      "id": "MKNmQ_XecE7G",
      "execution_count": 35,
      "outputs": [
        {
          "output_type": "stream",
          "name": "stdout",
          "text": [
            "+----+----+-----+------+-----+-----------+\n",
            "|  id|name| dept|salary|   id|       name|\n",
            "+----+----+-----+------+-----+-----------+\n",
            "|   4| DDD|dept1|  1500|dept1|Deparment-1|\n",
            "|   3| CCC|dept1|  3000|dept1|Deparment-1|\n",
            "|   2| BBB|dept1|  1100|dept1|Deparment-1|\n",
            "|   1| AAA|dept1|  1000|dept1|Deparment-1|\n",
            "|   6| FFF|dept2|  7200|dept2|Deparment-2|\n",
            "|   5| EEE|dept2|  8000|dept2|Deparment-2|\n",
            "|   9| III|dept3|  4500|dept3|Deparment-3|\n",
            "|   8| HHH|dept3|  3700|dept3|Deparment-3|\n",
            "|   7| GGG|dept3|  7100|dept3|Deparment-3|\n",
            "|NULL|NULL| NULL|  NULL|dept4|Deparment-4|\n",
            "+----+----+-----+------+-----+-----------+\n",
            "\n"
          ]
        }
      ]
    },
    {
      "cell_type": "markdown",
      "source": [
        "left_outer"
      ],
      "metadata": {
        "id": "sGbeotk2cn27"
      },
      "id": "sGbeotk2cn27"
    },
    {
      "cell_type": "code",
      "source": [
        "df.join(deptdf, df[\"dept\"] == deptdf[\"id\"], \"left_outer\").show()\n",
        "\n"
      ],
      "metadata": {
        "colab": {
          "base_uri": "https://localhost:8080/"
        },
        "id": "hYXA5qqTcY9S",
        "outputId": "d12bdf60-b56c-46ca-dfb7-142e0685d668"
      },
      "id": "hYXA5qqTcY9S",
      "execution_count": 36,
      "outputs": [
        {
          "output_type": "stream",
          "name": "stdout",
          "text": [
            "+---+----+-----+------+-----+-----------+\n",
            "| id|name| dept|salary|   id|       name|\n",
            "+---+----+-----+------+-----+-----------+\n",
            "|  1| AAA|dept1|  1000|dept1|Deparment-1|\n",
            "|  2| BBB|dept1|  1100|dept1|Deparment-1|\n",
            "|  3| CCC|dept1|  3000|dept1|Deparment-1|\n",
            "|  4| DDD|dept1|  1500|dept1|Deparment-1|\n",
            "|  5| EEE|dept2|  8000|dept2|Deparment-2|\n",
            "| 10| JJJ|dept5|  3400| NULL|       NULL|\n",
            "|  7| GGG|dept3|  7100|dept3|Deparment-3|\n",
            "|  8| HHH|dept3|  3700|dept3|Deparment-3|\n",
            "|  9| III|dept3|  4500|dept3|Deparment-3|\n",
            "|  6| FFF|dept2|  7200|dept2|Deparment-2|\n",
            "+---+----+-----+------+-----+-----------+\n",
            "\n"
          ]
        }
      ]
    },
    {
      "cell_type": "markdown",
      "source": [
        "outer"
      ],
      "metadata": {
        "id": "Nt_Z2SGbcsvQ"
      },
      "id": "Nt_Z2SGbcsvQ"
    },
    {
      "cell_type": "code",
      "source": [
        "df.join(deptdf, df[\"dept\"] == deptdf[\"id\"], \"outer\").show()\n",
        "\n"
      ],
      "metadata": {
        "colab": {
          "base_uri": "https://localhost:8080/"
        },
        "id": "_zhwMNSycrd3",
        "outputId": "62e06029-52c1-4c4a-9491-12490de6a89f"
      },
      "id": "_zhwMNSycrd3",
      "execution_count": 37,
      "outputs": [
        {
          "output_type": "stream",
          "name": "stdout",
          "text": [
            "+----+----+-----+------+-----+-----------+\n",
            "|  id|name| dept|salary|   id|       name|\n",
            "+----+----+-----+------+-----+-----------+\n",
            "|   1| AAA|dept1|  1000|dept1|Deparment-1|\n",
            "|   2| BBB|dept1|  1100|dept1|Deparment-1|\n",
            "|   3| CCC|dept1|  3000|dept1|Deparment-1|\n",
            "|   4| DDD|dept1|  1500|dept1|Deparment-1|\n",
            "|   5| EEE|dept2|  8000|dept2|Deparment-2|\n",
            "|   6| FFF|dept2|  7200|dept2|Deparment-2|\n",
            "|   7| GGG|dept3|  7100|dept3|Deparment-3|\n",
            "|   8| HHH|dept3|  3700|dept3|Deparment-3|\n",
            "|   9| III|dept3|  4500|dept3|Deparment-3|\n",
            "|NULL|NULL| NULL|  NULL|dept4|Deparment-4|\n",
            "|  10| JJJ|dept5|  3400| NULL|       NULL|\n",
            "+----+----+-----+------+-----+-----------+\n",
            "\n"
          ]
        }
      ]
    },
    {
      "cell_type": "code",
      "source": [
        "# Register DataFrame as Temporary Table\n",
        "df.createOrReplaceTempView(\"temp_table\")\n",
        "# Execute SQL-Like query.\n",
        "spark.sql(\"select * from temp_table where id = 3\").show()\n",
        "\n"
      ],
      "metadata": {
        "colab": {
          "base_uri": "https://localhost:8080/"
        },
        "id": "yQhV0Qcnct76",
        "outputId": "e0c958f8-91fe-4f8a-fefd-02dc3d7c865b"
      },
      "id": "yQhV0Qcnct76",
      "execution_count": 38,
      "outputs": [
        {
          "output_type": "stream",
          "name": "stdout",
          "text": [
            "+---+----+-----+------+\n",
            "| id|name| dept|salary|\n",
            "+---+----+-----+------+\n",
            "|  3| CCC|dept1|  3000|\n",
            "+---+----+-----+------+\n",
            "\n"
          ]
        }
      ]
    },
    {
      "cell_type": "code",
      "source": [
        "spark.sql(\"select distinct id from temp_table\").show(10)\n",
        "\n"
      ],
      "metadata": {
        "colab": {
          "base_uri": "https://localhost:8080/"
        },
        "id": "e443wKfWdFPv",
        "outputId": "94481cee-9999-4b35-cabc-fb27a16d9750"
      },
      "id": "e443wKfWdFPv",
      "execution_count": 39,
      "outputs": [
        {
          "output_type": "stream",
          "name": "stdout",
          "text": [
            "+---+\n",
            "| id|\n",
            "+---+\n",
            "|  5|\n",
            "|  1|\n",
            "|  3|\n",
            "|  2|\n",
            "|  4|\n",
            "|  7|\n",
            "|  6|\n",
            "|  9|\n",
            "| 10|\n",
            "|  8|\n",
            "+---+\n",
            "\n"
          ]
        }
      ]
    },
    {
      "cell_type": "code",
      "source": [
        "spark.sql(\"select * from temp_table where salary >= 1500\").show(10)"
      ],
      "metadata": {
        "colab": {
          "base_uri": "https://localhost:8080/"
        },
        "id": "4wrZdTXrdLrh",
        "outputId": "bfeffca9-ad2b-4716-fe4e-d5d262f9bc0b"
      },
      "id": "4wrZdTXrdLrh",
      "execution_count": 40,
      "outputs": [
        {
          "output_type": "stream",
          "name": "stdout",
          "text": [
            "+---+----+-----+------+\n",
            "| id|name| dept|salary|\n",
            "+---+----+-----+------+\n",
            "|  3| CCC|dept1|  3000|\n",
            "|  4| DDD|dept1|  1500|\n",
            "|  5| EEE|dept2|  8000|\n",
            "|  6| FFF|dept2|  7200|\n",
            "|  7| GGG|dept3|  7100|\n",
            "|  8| HHH|dept3|  3700|\n",
            "|  9| III|dept3|  4500|\n",
            "| 10| JJJ|dept5|  3400|\n",
            "+---+----+-----+------+\n",
            "\n"
          ]
        }
      ]
    },
    {
      "cell_type": "markdown",
      "source": [
        "Guardar un dataframe como un archivo CSV"
      ],
      "metadata": {
        "id": "WgJH42ArdfD0"
      },
      "id": "WgJH42ArdfD0"
    },
    {
      "cell_type": "code",
      "source": [
        "df.coalesce(1).write.format(\"csv\").option(\"header\", \"true\").option(\"delimiter\", \";\").save(\"clientes1\")"
      ],
      "metadata": {
        "id": "cRRBFaiud9eF"
      },
      "id": "cRRBFaiud9eF",
      "execution_count": 41,
      "outputs": []
    },
    {
      "cell_type": "markdown",
      "source": [
        "# Practica 1"
      ],
      "metadata": {
        "id": "RDxApo6_e9sT"
      },
      "id": "RDxApo6_e9sT"
    },
    {
      "cell_type": "code",
      "source": [
        "from pyspark.sql.types import StructField, StringType, IntegerType"
      ],
      "metadata": {
        "id": "I-whF57ejfYh"
      },
      "id": "I-whF57ejfYh",
      "execution_count": 42,
      "outputs": []
    },
    {
      "cell_type": "markdown",
      "source": [
        "Creammos los esquemas o las tablas"
      ],
      "metadata": {
        "id": "RaFj3Pa9k6lk"
      },
      "id": "RaFj3Pa9k6lk"
    },
    {
      "cell_type": "code",
      "source": [
        "# define el esquema de las tablas\n",
        "persona_schema = StructType([\n",
        "StructField(\"idpersona\", IntegerType(), nullable=False),\n",
        "StructField(\"nombre\", StringType(), nullable=False),\n",
        "StructField(\"apellido\", StringType(), nullable=False),\n",
        "StructField(\"cedula\", StringType(), nullable=False),\n",
        "StructField(\"celular\", StringType(), nullable=False),\n",
        "])\n",
        "\n",
        "materia_schema = StructType([\n",
        "StructField(\"idmateria\", IntegerType(), nullable=False),\n",
        "StructField(\"nombre\", StringType(), nullable=False),\n",
        "StructField(\"num_horas\", StringType(), nullable=False)\n",
        "])\n",
        "\n",
        "curso_schema = StructType([\n",
        "StructField(\"idcurso\", IntegerType(), nullable=False),\n",
        "StructField(\"idpersona\", IntegerType(), nullable=False),\n",
        "StructField(\"idmateria\", IntegerType(), nullable=False),\n",
        "StructField(\"nombre\", StringType(), nullable=False),\n",
        "StructField(\"nota\", StringType(), nullable=False)])"
      ],
      "metadata": {
        "id": "vPaeXuY3fAcX"
      },
      "id": "vPaeXuY3fAcX",
      "execution_count": 43,
      "outputs": []
    },
    {
      "cell_type": "markdown",
      "source": [
        "Insertamos datos necesarios en cada una de las tablas"
      ],
      "metadata": {
        "id": "3oLkZIDSk_op"
      },
      "id": "3oLkZIDSk_op"
    },
    {
      "cell_type": "code",
      "source": [
        "per = [\n",
        "    (0, \"Carlos\", \"Astudillo\", \"0000000001\", \"0958880331\"),\n",
        "    (1, \"Jonnathan\", \"Astudillo\", \"0000000002\", \"0985662514\"),\n",
        "    (2, \"Danny\", \"Auquilla\", \"0000000003\", \"0990000001\"),\n",
        "    (3, \"Victor\", \"Cabrera\", \"0000000004\", \"0993118236\"),\n",
        "    (4, \"Paula\", \"Gomez\", \"0000000005\", \"0998264130\"),\n",
        "    (5, \"Maicol\", \"Lojano\", \"0000000006\", \"099486071\"),\n",
        "    (6, \"Kevin\", \"Lojano\", \"0000000007\", \"0987799450\"),\n",
        "    (7, \"Jose\", \"Muños\", \"0000000008\", \"0997026632\"),\n",
        "    (8, \"Danny\", \"Pineda\", \"0000000009\", \"0963325761\"),\n",
        "    (9, \"Paul\", \"Rodriguez\", \"0106422496\", \"0998938189\"),\n",
        "    (10, \"Ariel\", \"Saquicela\", \"0000000010\", \"0978998281\"),\n",
        "    (11, \"Calva\", \"Morocho\", \"0000000011\", \"0000000001\")\n",
        "]"
      ],
      "metadata": {
        "id": "mAFV0MSTjvjx"
      },
      "id": "mAFV0MSTjvjx",
      "execution_count": 44,
      "outputs": []
    },
    {
      "cell_type": "code",
      "source": [
        "mat = [\n",
        "    (\"0MD\", \"Mineria de datos\", 7),\n",
        "    (\"1MR\", \"Marcos de referencia\", 5),\n",
        "    (\"2IN\", \"Inteligencia de negocios\", 5),\n",
        "    (\"3EP\", \"Etica Profesional\", 2),\n",
        "    (\"4E\", \"Emprendimiento\", 3),\n",
        "    (\"5AP\", \"Aprendizaje profundo\", 5)\n",
        "]"
      ],
      "metadata": {
        "id": "pUt_J6RXjwqd"
      },
      "id": "pUt_J6RXjwqd",
      "execution_count": 45,
      "outputs": []
    },
    {
      "cell_type": "code",
      "source": [
        "curso = [\n",
        "    (\"M3A\", 2, \"1MR\",\"Big Data\",5.91),\n",
        "    (\"M3A\", 3, \"1MR\",\"Big Data\",8.79),\n",
        "    (\"M3A\", 5, \"1MR\",\"Big Data\",9.32),\n",
        "    (\"M3A\", 9, \"1MR\",\"Big Data\",9.13),\n",
        "    (\"M3A\", 10, \"1MR\",\"Big Data\",6.17),\n",
        "    (\"M3A\", 0, \"1MR\",\"Big Data\",9.40),\n",
        "    (\"M3A\", 1, \"0MD\",\"Big Data\",9.17),\n",
        "    (\"M3A\", 2, \"0MD\",\"Big Data\",8.53),\n",
        "    (\"M3A\", 3, \"0MD\",\"Big Data\",8.63),\n",
        "    (\"M3A\", 4, \"0MD\",\"Big Data\",9.24),\n",
        "    (\"M3A\", 5, \"0MD\",\"Big Data\",9.05),\n",
        "    (\"M3A\", 7, \"0MD\",\"Big Data\",9.71),\n",
        "    (\"M3A\", 8, \"0MD\",\"Big Data\",8.74),\n",
        "    (\"M3A\", 9, \"0MD\",\"Big Data\",9.28),\n",
        "    (\"M3A\", 10, \"0MD\",\"Big Data\",5.78),\n",
        "    (\"M3A\", 2, \"4E\",\"Big Data\",9.77),\n",
        "    (\"M3A\", 3, \"4E\",\"Big Data\",9.11),\n",
        "    (\"M3A\", 11, \"4E\",\"Big Data\",6.59),\n",
        "    (\"M3A\", 6, \"4E\",\"Big Data\",4.59),\n",
        "    (\"M3A\", 9, \"4E\",\"Big Data\",9.17),\n",
        "    (\"M3A\", 10, \"4E\",\"Big Data\",6.08),\n",
        "    (\"M3A\", 0, \"5AP\",\"Big Data\",8.74),\n",
        "    (\"M3A\", 1, \"5AP\",\"Big Data\",7.64),\n",
        "    (\"M3A\", 2, \"5AP\",\"Big Data\",5.63),\n",
        "    (\"M3A\", 3, \"5AP\",\"Big Data\",8.68),\n",
        "    (\"M3A\", 4, \"5AP\",\"Big Data\",8.57),\n",
        "    (\"M3A\", 5, \"5AP\",\"Big Data\",9.06),\n",
        "    (\"M3A\", 6, \"5AP\",\"Big Data\",2.75),\n",
        "    (\"M3A\", 7, \"5AP\",\"Big Data\",9.01),\n",
        "    (\"M3A\", 8, \"5AP\",\"Big Data\",8.39),\n",
        "    (\"M3A\", 9, \"5AP\",\"Big Data\",9.15),\n",
        "    (\"M3A\", 10,\"5AP\",\"Big Data\",8.35),\n",
        "    (\"M3A\", 0, \"2IN\",\"Big Data\",1.00),\n",
        "    (\"M3A\", 1, \"2IN\",\"Big Data\",1.00),\n",
        "    (\"M3A\", 2, \"2IN\",\"Big Data\",1.00),\n",
        "    (\"M3A\", 3, \"2IN\",\"Big Data\",1.00),\n",
        "    (\"M3A\", 5, \"2IN\",\"Big Data\",1.00),\n",
        "    (\"M3A\", 6, \"2IN\",\"Big Data\",1.00),\n",
        "    (\"M3A\", 8, \"2IN\",\"Big Data\",1.00),\n",
        "    (\"M3A\", 10,\"2IN\",\"Big Data\",1.00),\n",
        "    (\"M3A\", 3,\"2IN\",\"Big Data\",1.00),\n",
        "    (\"M3A\", 11,\"2IN\",\"Big Data\",1.00),\n",
        "    (\"M3A\", 6,\"2IN\",\"Big Data\",1.00),\n",
        "    (\"M3A\", 10,\"2IN\",\"Big Data\",1.00),\n",
        "\n",
        "\n",
        "]\n"
      ],
      "metadata": {
        "id": "DH-gjvR_c8cI"
      },
      "id": "DH-gjvR_c8cI",
      "execution_count": 46,
      "outputs": []
    },
    {
      "cell_type": "code",
      "source": [
        "df_persona = spark.createDataFrame(per, [\"id_persona\", \"nombre\", \"apellido\", \"cedula\", \"celular\"])\n",
        "df_materia = spark.createDataFrame(mat, [\"id_Materia\", \"nombre\", \"Nro_horas\"])\n",
        "df_curso = spark.createDataFrame(curso, [\"id_curso\", \"id_persona\", \"id_materia\", \"nombre\", \"nota\"])"
      ],
      "metadata": {
        "id": "cDoWLtd_ibJw"
      },
      "id": "cDoWLtd_ibJw",
      "execution_count": 52,
      "outputs": []
    },
    {
      "cell_type": "code",
      "source": [
        "df_persona.printSchema()\n",
        "df_persona.show()"
      ],
      "metadata": {
        "colab": {
          "base_uri": "https://localhost:8080/"
        },
        "id": "w6mqaXdAn9NC",
        "outputId": "d32cc133-5ff0-4743-f47e-e40f28d0c1d2"
      },
      "id": "w6mqaXdAn9NC",
      "execution_count": 53,
      "outputs": [
        {
          "output_type": "stream",
          "name": "stdout",
          "text": [
            "root\n",
            " |-- id_persona: long (nullable = true)\n",
            " |-- nombre: string (nullable = true)\n",
            " |-- apellido: string (nullable = true)\n",
            " |-- cedula: string (nullable = true)\n",
            " |-- celular: string (nullable = true)\n",
            "\n",
            "+----------+---------+---------+----------+----------+\n",
            "|id_persona|   nombre| apellido|    cedula|   celular|\n",
            "+----------+---------+---------+----------+----------+\n",
            "|         0|   Carlos|Astudillo|0000000001|0958880331|\n",
            "|         1|Jonnathan|Astudillo|0000000002|0985662514|\n",
            "|         2|    Danny| Auquilla|0000000003|0990000001|\n",
            "|         3|   Victor|  Cabrera|0000000004|0993118236|\n",
            "|         4|    Paula|    Gomez|0000000005|0998264130|\n",
            "|         5|   Maicol|   Lojano|0000000006| 099486071|\n",
            "|         6|    Kevin|   Lojano|0000000007|0987799450|\n",
            "|         7|     Jose|    Muños|0000000008|0997026632|\n",
            "|         8|    Danny|   Pineda|0000000009|0963325761|\n",
            "|         9|     Paul|Rodriguez|0106422496|0998938189|\n",
            "|        10|    Ariel|Saquicela|0000000010|0978998281|\n",
            "|        11|    Calva|  Morocho|0000000011|0000000001|\n",
            "+----------+---------+---------+----------+----------+\n",
            "\n"
          ]
        }
      ]
    },
    {
      "cell_type": "code",
      "source": [
        "df_persona.count()"
      ],
      "metadata": {
        "colab": {
          "base_uri": "https://localhost:8080/"
        },
        "id": "sXpr43Ay3i27",
        "outputId": "c21455da-3f06-4f87-adc9-84033257afe9"
      },
      "id": "sXpr43Ay3i27",
      "execution_count": 54,
      "outputs": [
        {
          "output_type": "execute_result",
          "data": {
            "text/plain": [
              "12"
            ]
          },
          "metadata": {},
          "execution_count": 54
        }
      ]
    },
    {
      "cell_type": "code",
      "source": [
        "df_materia.count()"
      ],
      "metadata": {
        "colab": {
          "base_uri": "https://localhost:8080/"
        },
        "id": "CzXuHoTl3nTz",
        "outputId": "84af1093-500e-4832-bfb1-69b6dd296038"
      },
      "id": "CzXuHoTl3nTz",
      "execution_count": 55,
      "outputs": [
        {
          "output_type": "execute_result",
          "data": {
            "text/plain": [
              "6"
            ]
          },
          "metadata": {},
          "execution_count": 55
        }
      ]
    },
    {
      "cell_type": "code",
      "source": [
        "df_curso.count()"
      ],
      "metadata": {
        "colab": {
          "base_uri": "https://localhost:8080/"
        },
        "id": "p6Zz1aWQ3v3H",
        "outputId": "250f0c5a-cf86-4e65-8016-2af6b962e2a8"
      },
      "id": "p6Zz1aWQ3v3H",
      "execution_count": 56,
      "outputs": [
        {
          "output_type": "execute_result",
          "data": {
            "text/plain": [
              "44"
            ]
          },
          "metadata": {},
          "execution_count": 56
        }
      ]
    },
    {
      "cell_type": "code",
      "source": [
        "df_materia.printSchema()\n",
        "df_materia.show()"
      ],
      "metadata": {
        "colab": {
          "base_uri": "https://localhost:8080/"
        },
        "id": "P-_QNhoNoHhv",
        "outputId": "2fd54950-065c-4d9a-f15d-218418418fc3"
      },
      "id": "P-_QNhoNoHhv",
      "execution_count": 57,
      "outputs": [
        {
          "output_type": "stream",
          "name": "stdout",
          "text": [
            "root\n",
            " |-- id_Materia: string (nullable = true)\n",
            " |-- nombre: string (nullable = true)\n",
            " |-- Nro_horas: long (nullable = true)\n",
            "\n",
            "+----------+--------------------+---------+\n",
            "|id_Materia|              nombre|Nro_horas|\n",
            "+----------+--------------------+---------+\n",
            "|       0MD|    Mineria de datos|        7|\n",
            "|       1MR|Marcos de referencia|        5|\n",
            "|       2IN|Inteligencia de n...|        5|\n",
            "|       3EP|   Etica Profesional|        2|\n",
            "|        4E|      Emprendimiento|        3|\n",
            "|       5AP|Aprendizaje profundo|        5|\n",
            "+----------+--------------------+---------+\n",
            "\n"
          ]
        }
      ]
    },
    {
      "cell_type": "code",
      "source": [
        "df_curso.printSchema()\n",
        "df_curso.show()"
      ],
      "metadata": {
        "colab": {
          "base_uri": "https://localhost:8080/"
        },
        "id": "a4eSf71uoVL6",
        "outputId": "7e730959-0ebe-4ff0-d0dd-a5d14d906079"
      },
      "id": "a4eSf71uoVL6",
      "execution_count": 58,
      "outputs": [
        {
          "output_type": "stream",
          "name": "stdout",
          "text": [
            "root\n",
            " |-- id_curso: string (nullable = true)\n",
            " |-- id_persona: long (nullable = true)\n",
            " |-- id_materia: string (nullable = true)\n",
            " |-- nombre: string (nullable = true)\n",
            " |-- nota: double (nullable = true)\n",
            "\n",
            "+--------+----------+----------+--------+----+\n",
            "|id_curso|id_persona|id_materia|  nombre|nota|\n",
            "+--------+----------+----------+--------+----+\n",
            "|     M3A|         2|       1MR|Big Data|5.91|\n",
            "|     M3A|         3|       1MR|Big Data|8.79|\n",
            "|     M3A|         5|       1MR|Big Data|9.32|\n",
            "|     M3A|         9|       1MR|Big Data|9.13|\n",
            "|     M3A|        10|       1MR|Big Data|6.17|\n",
            "|     M3A|         0|       1MR|Big Data| 9.4|\n",
            "|     M3A|         1|       0MD|Big Data|9.17|\n",
            "|     M3A|         2|       0MD|Big Data|8.53|\n",
            "|     M3A|         3|       0MD|Big Data|8.63|\n",
            "|     M3A|         4|       0MD|Big Data|9.24|\n",
            "|     M3A|         5|       0MD|Big Data|9.05|\n",
            "|     M3A|         7|       0MD|Big Data|9.71|\n",
            "|     M3A|         8|       0MD|Big Data|8.74|\n",
            "|     M3A|         9|       0MD|Big Data|9.28|\n",
            "|     M3A|        10|       0MD|Big Data|5.78|\n",
            "|     M3A|         2|        4E|Big Data|9.77|\n",
            "|     M3A|         3|        4E|Big Data|9.11|\n",
            "|     M3A|        11|        4E|Big Data|6.59|\n",
            "|     M3A|         6|        4E|Big Data|4.59|\n",
            "|     M3A|         9|        4E|Big Data|9.17|\n",
            "+--------+----------+----------+--------+----+\n",
            "only showing top 20 rows\n",
            "\n"
          ]
        }
      ]
    },
    {
      "cell_type": "code",
      "source": [
        "df_persona.dtypes"
      ],
      "metadata": {
        "colab": {
          "base_uri": "https://localhost:8080/"
        },
        "id": "2fAmzHy637aF",
        "outputId": "557dd22b-6d47-4bd0-f0c7-0b603c106817"
      },
      "id": "2fAmzHy637aF",
      "execution_count": 59,
      "outputs": [
        {
          "output_type": "execute_result",
          "data": {
            "text/plain": [
              "[('id_persona', 'bigint'),\n",
              " ('nombre', 'string'),\n",
              " ('apellido', 'string'),\n",
              " ('cedula', 'string'),\n",
              " ('celular', 'string')]"
            ]
          },
          "metadata": {},
          "execution_count": 59
        }
      ]
    },
    {
      "cell_type": "code",
      "source": [
        "df_materia.dtypes"
      ],
      "metadata": {
        "colab": {
          "base_uri": "https://localhost:8080/"
        },
        "id": "TpswNb8f3_uv",
        "outputId": "2f1ed5f5-d3dc-4556-9ea8-d3ddcb0df753"
      },
      "id": "TpswNb8f3_uv",
      "execution_count": 60,
      "outputs": [
        {
          "output_type": "execute_result",
          "data": {
            "text/plain": [
              "[('id_Materia', 'string'), ('nombre', 'string'), ('Nro_horas', 'bigint')]"
            ]
          },
          "metadata": {},
          "execution_count": 60
        }
      ]
    },
    {
      "cell_type": "code",
      "source": [
        "df_curso.dtypes"
      ],
      "metadata": {
        "colab": {
          "base_uri": "https://localhost:8080/"
        },
        "id": "A5zJUOcJ4D1v",
        "outputId": "7c9d8dea-aaf7-4760-b3ed-0930784a091b"
      },
      "id": "A5zJUOcJ4D1v",
      "execution_count": 61,
      "outputs": [
        {
          "output_type": "execute_result",
          "data": {
            "text/plain": [
              "[('id_curso', 'string'),\n",
              " ('id_persona', 'bigint'),\n",
              " ('id_materia', 'string'),\n",
              " ('nombre', 'string'),\n",
              " ('nota', 'double')]"
            ]
          },
          "metadata": {},
          "execution_count": 61
        }
      ]
    },
    {
      "cell_type": "code",
      "source": [
        "df_persona.schema"
      ],
      "metadata": {
        "colab": {
          "base_uri": "https://localhost:8080/"
        },
        "id": "PLpNizuo4GPu",
        "outputId": "2cd895ab-7bc8-4d32-8739-fd64aca4031e"
      },
      "id": "PLpNizuo4GPu",
      "execution_count": 62,
      "outputs": [
        {
          "output_type": "execute_result",
          "data": {
            "text/plain": [
              "StructType([StructField('id_persona', LongType(), True), StructField('nombre', StringType(), True), StructField('apellido', StringType(), True), StructField('cedula', StringType(), True), StructField('celular', StringType(), True)])"
            ]
          },
          "metadata": {},
          "execution_count": 62
        }
      ]
    },
    {
      "cell_type": "code",
      "source": [
        "df_persona.printSchema"
      ],
      "metadata": {
        "colab": {
          "base_uri": "https://localhost:8080/",
          "height": 186
        },
        "id": "oCqUrGIh5EHG",
        "outputId": "e5f8393b-03f3-4695-ebf8-1d952bbe7a4a"
      },
      "id": "oCqUrGIh5EHG",
      "execution_count": 63,
      "outputs": [
        {
          "output_type": "execute_result",
          "data": {
            "text/plain": [
              "<bound method DataFrame.printSchema of DataFrame[id_persona: bigint, nombre: string, apellido: string, cedula: string, celular: string]>"
            ],
            "text/html": [
              "<div style=\"max-width:800px; border: 1px solid var(--colab-border-color);\"><style>\n",
              "      pre.function-repr-contents {\n",
              "        overflow-x: auto;\n",
              "        padding: 8px 12px;\n",
              "        max-height: 500px;\n",
              "      }\n",
              "\n",
              "      pre.function-repr-contents.function-repr-contents-collapsed {\n",
              "        cursor: pointer;\n",
              "        max-height: 100px;\n",
              "      }\n",
              "    </style>\n",
              "    <pre style=\"white-space: initial; background:\n",
              "         var(--colab-secondary-surface-color); padding: 8px 12px;\n",
              "         border-bottom: 1px solid var(--colab-border-color);\"><b>pyspark.sql.dataframe.DataFrame.printSchema</b><br/>def printSchema(level: Optional[int]=None) -&gt; None</pre><pre class=\"function-repr-contents function-repr-contents-collapsed\" style=\"\"><a class=\"filepath\" style=\"display:none\" href=\"#\">/usr/local/lib/python3.10/dist-packages/pyspark/sql/dataframe.py</a>Prints out the schema in the tree format.\n",
              "Optionally allows to specify how many levels to print if schema is nested.\n",
              "\n",
              ".. versionadded:: 1.3.0\n",
              "\n",
              ".. versionchanged:: 3.4.0\n",
              "    Supports Spark Connect.\n",
              "\n",
              "Parameters\n",
              "----------\n",
              "level : int, optional, default None\n",
              "    How many levels to print for nested schemas.\n",
              "\n",
              "    .. versionchanged:: 3.5.0\n",
              "        Added Level parameter.\n",
              "\n",
              "Examples\n",
              "--------\n",
              "&gt;&gt;&gt; df = spark.createDataFrame(\n",
              "...     [(14, &quot;Tom&quot;), (23, &quot;Alice&quot;), (16, &quot;Bob&quot;)], [&quot;age&quot;, &quot;name&quot;])\n",
              "&gt;&gt;&gt; df.printSchema()\n",
              "root\n",
              " |-- age: long (nullable = true)\n",
              " |-- name: string (nullable = true)\n",
              "\n",
              "&gt;&gt;&gt; df = spark.createDataFrame([(1, (2,2))], [&quot;a&quot;, &quot;b&quot;])\n",
              "&gt;&gt;&gt; df.printSchema(1)\n",
              "root\n",
              " |-- a: long (nullable = true)\n",
              " |-- b: struct (nullable = true)\n",
              "\n",
              "&gt;&gt;&gt; df.printSchema(2)\n",
              "root\n",
              " |-- a: long (nullable = true)\n",
              " |-- b: struct (nullable = true)\n",
              " |    |-- _1: long (nullable = true)\n",
              " |    |-- _2: long (nullable = true)</pre>\n",
              "      <script>\n",
              "      if (google.colab.kernel.accessAllowed && google.colab.files && google.colab.files.view) {\n",
              "        for (const element of document.querySelectorAll('.filepath')) {\n",
              "          element.style.display = 'block'\n",
              "          element.onclick = (event) => {\n",
              "            event.preventDefault();\n",
              "            event.stopPropagation();\n",
              "            google.colab.files.view(element.textContent, 581);\n",
              "          };\n",
              "        }\n",
              "      }\n",
              "      for (const element of document.querySelectorAll('.function-repr-contents')) {\n",
              "        element.onclick = (event) => {\n",
              "          event.preventDefault();\n",
              "          event.stopPropagation();\n",
              "          element.classList.toggle('function-repr-contents-collapsed');\n",
              "        };\n",
              "      }\n",
              "      </script>\n",
              "      </div>"
            ]
          },
          "metadata": {},
          "execution_count": 63
        }
      ]
    },
    {
      "cell_type": "markdown",
      "source": [
        "Agrupar"
      ],
      "metadata": {
        "id": "rLzRqfR65ny6"
      },
      "id": "rLzRqfR65ny6"
    },
    {
      "cell_type": "code",
      "source": [
        "from pyspark.sql.functions import count, sum, avg, max, min"
      ],
      "metadata": {
        "id": "e9O8telC5PQQ"
      },
      "id": "e9O8telC5PQQ",
      "execution_count": 64,
      "outputs": []
    },
    {
      "cell_type": "code",
      "source": [
        "df_curso.sort(\"nota\").show(5)"
      ],
      "metadata": {
        "colab": {
          "base_uri": "https://localhost:8080/"
        },
        "id": "W50wR4-R6K4I",
        "outputId": "572b3d30-81e0-4119-fef8-aaa3c3b79000"
      },
      "id": "W50wR4-R6K4I",
      "execution_count": 66,
      "outputs": [
        {
          "output_type": "stream",
          "name": "stdout",
          "text": [
            "+--------+----------+----------+--------+----+\n",
            "|id_curso|id_persona|id_materia|  nombre|nota|\n",
            "+--------+----------+----------+--------+----+\n",
            "|     M3A|         3|       2IN|Big Data| 1.0|\n",
            "|     M3A|         3|       2IN|Big Data| 1.0|\n",
            "|     M3A|         5|       2IN|Big Data| 1.0|\n",
            "|     M3A|         1|       2IN|Big Data| 1.0|\n",
            "|     M3A|         6|       2IN|Big Data| 1.0|\n",
            "+--------+----------+----------+--------+----+\n",
            "only showing top 5 rows\n",
            "\n"
          ]
        }
      ]
    },
    {
      "cell_type": "code",
      "source": [
        "spark.sql(\"SELECT * FROM curso_temp WHERE nota >= 7\").show(10)\n"
      ],
      "metadata": {
        "colab": {
          "base_uri": "https://localhost:8080/"
        },
        "id": "u4tBDIVK0Xyg",
        "outputId": "c604ec4b-5081-4358-deca-18ed8efb3da7"
      },
      "id": "u4tBDIVK0Xyg",
      "execution_count": 73,
      "outputs": [
        {
          "output_type": "stream",
          "name": "stdout",
          "text": [
            "+--------+----------+----------+--------+----+\n",
            "|id_curso|id_persona|id_materia|  nombre|nota|\n",
            "+--------+----------+----------+--------+----+\n",
            "|     M3A|         3|       1MR|Big Data|8.79|\n",
            "|     M3A|         5|       1MR|Big Data|9.32|\n",
            "|     M3A|         9|       1MR|Big Data|9.13|\n",
            "|     M3A|         0|       1MR|Big Data| 9.4|\n",
            "|     M3A|         1|       0MD|Big Data|9.17|\n",
            "|     M3A|         2|       0MD|Big Data|8.53|\n",
            "|     M3A|         3|       0MD|Big Data|8.63|\n",
            "|     M3A|         4|       0MD|Big Data|9.24|\n",
            "|     M3A|         5|       0MD|Big Data|9.05|\n",
            "|     M3A|         7|       0MD|Big Data|9.71|\n",
            "+--------+----------+----------+--------+----+\n",
            "only showing top 10 rows\n",
            "\n"
          ]
        }
      ]
    },
    {
      "cell_type": "markdown",
      "source": [
        "Guardar un dataframe como un archivo csv"
      ],
      "metadata": {
        "id": "iF_bT2WV1OGd"
      },
      "id": "iF_bT2WV1OGd"
    },
    {
      "cell_type": "code",
      "source": [
        "# Convertir las listas a DataFrames de Pandas\n",
        "per_df = pd.DataFrame(per, columns=[\"id_persona\", \"nombre\", \"apellido\", \"cedula\", \"celular\"])\n",
        "mat_df = pd.DataFrame(mat, columns=[\"id_Materia\", \"nombre\", \"Nro_horas\"])\n",
        "curso_df = pd.DataFrame(curso, columns=[\"idCurso\", \"id_persona\", \"id_Materia\", \"nombre\", \"nota\"])\n",
        "\n",
        "# Guardar DataFrames en un archivo Excel\n",
        "with pd.ExcelWriter(\"Notas.xlsx\") as writer:\n",
        "    per_df.to_excel(writer, sheet_name=\"Personas\", index=False)\n",
        "    mat_df.to_excel(writer, sheet_name=\"Materias\", index=False)\n",
        "    curso_df.to_excel(writer, sheet_name=\"Cursos\", index=False)\n",
        "\n",
        "# Descargar el archivo Excel\n",
        "from google.colab import files\n",
        "files.download(\"Notas.xlsx\")\n"
      ],
      "metadata": {
        "id": "-QhQ0DDl1NcF",
        "colab": {
          "base_uri": "https://localhost:8080/",
          "height": 17
        },
        "outputId": "1efc4bab-e5cc-4ead-e1d3-003bbb0d5baf"
      },
      "id": "-QhQ0DDl1NcF",
      "execution_count": 74,
      "outputs": [
        {
          "output_type": "display_data",
          "data": {
            "text/plain": [
              "<IPython.core.display.Javascript object>"
            ],
            "application/javascript": [
              "\n",
              "    async function download(id, filename, size) {\n",
              "      if (!google.colab.kernel.accessAllowed) {\n",
              "        return;\n",
              "      }\n",
              "      const div = document.createElement('div');\n",
              "      const label = document.createElement('label');\n",
              "      label.textContent = `Downloading \"${filename}\": `;\n",
              "      div.appendChild(label);\n",
              "      const progress = document.createElement('progress');\n",
              "      progress.max = size;\n",
              "      div.appendChild(progress);\n",
              "      document.body.appendChild(div);\n",
              "\n",
              "      const buffers = [];\n",
              "      let downloaded = 0;\n",
              "\n",
              "      const channel = await google.colab.kernel.comms.open(id);\n",
              "      // Send a message to notify the kernel that we're ready.\n",
              "      channel.send({})\n",
              "\n",
              "      for await (const message of channel.messages) {\n",
              "        // Send a message to notify the kernel that we're ready.\n",
              "        channel.send({})\n",
              "        if (message.buffers) {\n",
              "          for (const buffer of message.buffers) {\n",
              "            buffers.push(buffer);\n",
              "            downloaded += buffer.byteLength;\n",
              "            progress.value = downloaded;\n",
              "          }\n",
              "        }\n",
              "      }\n",
              "      const blob = new Blob(buffers, {type: 'application/binary'});\n",
              "      const a = document.createElement('a');\n",
              "      a.href = window.URL.createObjectURL(blob);\n",
              "      a.download = filename;\n",
              "      div.appendChild(a);\n",
              "      a.click();\n",
              "      div.remove();\n",
              "    }\n",
              "  "
            ]
          },
          "metadata": {}
        },
        {
          "output_type": "display_data",
          "data": {
            "text/plain": [
              "<IPython.core.display.Javascript object>"
            ],
            "application/javascript": [
              "download(\"download_4dc56b69-c3ac-48d6-bc13-56d54551a7e7\", \"Notas.xlsx\", 7788)"
            ]
          },
          "metadata": {}
        }
      ]
    }
  ],
  "metadata": {
    "kernelspec": {
      "display_name": "Python 3 (ipykernel)",
      "language": "python",
      "name": "python3"
    },
    "language_info": {
      "codemirror_mode": {
        "name": "ipython",
        "version": 3
      },
      "file_extension": ".py",
      "mimetype": "text/x-python",
      "name": "python",
      "nbconvert_exporter": "python",
      "pygments_lexer": "ipython3",
      "version": "3.11.5"
    },
    "colab": {
      "provenance": []
    }
  },
  "nbformat": 4,
  "nbformat_minor": 5
}