{
  "cells": [
    {
      "cell_type": "markdown",
      "metadata": {
        "id": "s_kLd3T14fGo"
      },
      "source": [
        "#   MLlib: La librería de aprendizaje automático escalable de Apache Spark"
      ]
    },
    {
      "cell_type": "markdown",
      "metadata": {
        "id": "CHShvam54fGr"
      },
      "source": [
        "MLlib es la biblioteca de aprendizaje automático (Machine Learning) de Apache Spark. Está diseñada para ser escalable y eficiente, permitiendo realizar tareas de aprendizaje automático en grandes volúmenes de datos de manera distribuida.\n",
        "\n",
        "## Características de MLlib:\n",
        "\n",
        "### 1. Escalabilidad:\n",
        "\n",
        "Puede manejar grandes volúmenes de datos distribuidos en clústeres, lo que la hace adecuada para big data.\n",
        "\n",
        "### 2.Rendimiento:\n",
        "\n",
        "Está optimizada para proporcionar un rendimiento rápido y eficiente, aprovechando el procesamiento en memoria de Spark.\n",
        "\n",
        "### 3.Facilidad de uso:\n",
        "\n",
        "Ofrece una API sencilla y consistente, disponible en múltiples lenguajes como Java, Scala, Python y R.\n",
        "\n",
        "###  4.Interoperabilidad:\n",
        "\n",
        "Puede integrarse fácilmente con otras bibliotecas de Spark, como Spark SQL y DataFrames, facilitando el preprocesamiento de datos y la manipulación de conjuntos de datos.\n",
        "\n",
        "### 5.Amplitud de algoritmos:\n",
        "\n",
        "Proporciona una amplia gama de algoritmos de aprendizaje automático, que incluyen clasificación, regresión, clustering, filtrado colaborativo y reducción de dimensionalidad.\n",
        "\n",
        "## Componentes principales de MLlib:\n",
        "\n",
        "### 1.Algoritmos de aprendizaje automático:\n",
        "\n",
        "- Clasificación: Ejemplos incluyen la regresión logística y el árbol de decisión.\n",
        "- Regresión: Ejemplos incluyen la regresión lineal y la regresión de árboles.\n",
        "- Clustering: Ejemplo incluye k-means.\n",
        "- Filtrado colaborativo: Ejemplo incluye la factorización de matrices para recomendaciones.\n",
        "\n",
        "### 2.Pipelines:\n",
        "\n",
        "- Permite crear flujos de trabajo de Machine Learning reutilizables y configurables, que incluyen etapas de preprocesamiento, transformación de datos y modelado.\n",
        "\n",
        "### 3.Transformaciones y preprocesamiento de datos:\n",
        "\n",
        "- Herramientas para normalización de datos, escalado, manejo de valores faltantes, codificación de variables categóricas, etc.\n",
        "\n",
        "### 4.Evaluación de modelos:\n",
        "\n",
        "- Métricas y herramientas para evaluar el rendimiento de los modelos, como precisión, recall, F1 score, entre otros.\n",
        "\n",
        "### 5.Persistencia de modelos:\n",
        "\n",
        "- Soporte para guardar y cargar modelos entrenados para reutilizarlos o para producción.\n",
        "\n",
        "MLlib se destaca por su capacidad para manejar datos a gran escala y por su integración nativa con el ecosistema Spark, lo que facilita la creación de pipelines de datos y modelos de Machine Learning robustos y escalables\n"
      ]
    },
    {
      "cell_type": "markdown",
      "metadata": {
        "id": "JlBu5fN74fGs"
      },
      "source": [
        "En este notebook aprenderemos a entrenar modelos de Machine Learning con Spark, utilizando la librería de MLlib"
      ]
    },
    {
      "cell_type": "code",
      "execution_count": 1,
      "metadata": {
        "id": "uDdXSRGm4fGt",
        "colab": {
          "base_uri": "https://localhost:8080/"
        },
        "outputId": "ee761e1b-8689-4844-b0fc-2e859540dd1d"
      },
      "outputs": [
        {
          "output_type": "stream",
          "name": "stdout",
          "text": [
            "Collecting jupyter_contrib_nbextensions\n",
            "  Downloading jupyter_contrib_nbextensions-0.7.0.tar.gz (23.5 MB)\n",
            "\u001b[2K     \u001b[90m━━━━━━━━━━━━━━━━━━━━━━━━━━━━━━━━━━━━━━━━\u001b[0m \u001b[32m23.5/23.5 MB\u001b[0m \u001b[31m20.9 MB/s\u001b[0m eta \u001b[36m0:00:00\u001b[0m\n",
            "\u001b[?25h  Preparing metadata (setup.py) ... \u001b[?25l\u001b[?25hdone\n",
            "Requirement already satisfied: ipython_genutils in /usr/local/lib/python3.10/dist-packages (from jupyter_contrib_nbextensions) (0.2.0)\n",
            "Collecting jupyter_contrib_core>=0.3.3 (from jupyter_contrib_nbextensions)\n",
            "  Downloading jupyter_contrib_core-0.4.2.tar.gz (17 kB)\n",
            "  Preparing metadata (setup.py) ... \u001b[?25l\u001b[?25hdone\n",
            "Requirement already satisfied: jupyter_core in /usr/local/lib/python3.10/dist-packages (from jupyter_contrib_nbextensions) (5.7.2)\n",
            "Collecting jupyter_highlight_selected_word>=0.1.1 (from jupyter_contrib_nbextensions)\n",
            "  Downloading jupyter_highlight_selected_word-0.2.0-py2.py3-none-any.whl (11 kB)\n",
            "Collecting jupyter_nbextensions_configurator>=0.4.0 (from jupyter_contrib_nbextensions)\n",
            "  Downloading jupyter_nbextensions_configurator-0.6.4-py2.py3-none-any.whl (466 kB)\n",
            "\u001b[2K     \u001b[90m━━━━━━━━━━━━━━━━━━━━━━━━━━━━━━━━━━━━━━━━\u001b[0m \u001b[32m466.9/466.9 kB\u001b[0m \u001b[31m34.9 MB/s\u001b[0m eta \u001b[36m0:00:00\u001b[0m\n",
            "\u001b[?25hRequirement already satisfied: nbconvert>=6.0 in /usr/local/lib/python3.10/dist-packages (from jupyter_contrib_nbextensions) (6.5.4)\n",
            "Requirement already satisfied: notebook>=6.0 in /usr/local/lib/python3.10/dist-packages (from jupyter_contrib_nbextensions) (6.5.5)\n",
            "Requirement already satisfied: tornado in /usr/local/lib/python3.10/dist-packages (from jupyter_contrib_nbextensions) (6.3.3)\n",
            "Requirement already satisfied: traitlets>=4.1 in /usr/local/lib/python3.10/dist-packages (from jupyter_contrib_nbextensions) (5.7.1)\n",
            "Requirement already satisfied: lxml in /usr/local/lib/python3.10/dist-packages (from jupyter_contrib_nbextensions) (4.9.4)\n",
            "Requirement already satisfied: setuptools in /usr/local/lib/python3.10/dist-packages (from jupyter_contrib_core>=0.3.3->jupyter_contrib_nbextensions) (67.7.2)\n",
            "Requirement already satisfied: jupyter-server in /usr/local/lib/python3.10/dist-packages (from jupyter_nbextensions_configurator>=0.4.0->jupyter_contrib_nbextensions) (1.24.0)\n",
            "Requirement already satisfied: pyyaml in /usr/local/lib/python3.10/dist-packages (from jupyter_nbextensions_configurator>=0.4.0->jupyter_contrib_nbextensions) (6.0.1)\n",
            "Requirement already satisfied: beautifulsoup4 in /usr/local/lib/python3.10/dist-packages (from nbconvert>=6.0->jupyter_contrib_nbextensions) (4.12.3)\n",
            "Requirement already satisfied: bleach in /usr/local/lib/python3.10/dist-packages (from nbconvert>=6.0->jupyter_contrib_nbextensions) (6.1.0)\n",
            "Requirement already satisfied: defusedxml in /usr/local/lib/python3.10/dist-packages (from nbconvert>=6.0->jupyter_contrib_nbextensions) (0.7.1)\n",
            "Requirement already satisfied: entrypoints>=0.2.2 in /usr/local/lib/python3.10/dist-packages (from nbconvert>=6.0->jupyter_contrib_nbextensions) (0.4)\n",
            "Requirement already satisfied: jinja2>=3.0 in /usr/local/lib/python3.10/dist-packages (from nbconvert>=6.0->jupyter_contrib_nbextensions) (3.1.4)\n",
            "Requirement already satisfied: jupyterlab-pygments in /usr/local/lib/python3.10/dist-packages (from nbconvert>=6.0->jupyter_contrib_nbextensions) (0.3.0)\n",
            "Requirement already satisfied: MarkupSafe>=2.0 in /usr/local/lib/python3.10/dist-packages (from nbconvert>=6.0->jupyter_contrib_nbextensions) (2.1.5)\n",
            "Requirement already satisfied: mistune<2,>=0.8.1 in /usr/local/lib/python3.10/dist-packages (from nbconvert>=6.0->jupyter_contrib_nbextensions) (0.8.4)\n",
            "Requirement already satisfied: nbclient>=0.5.0 in /usr/local/lib/python3.10/dist-packages (from nbconvert>=6.0->jupyter_contrib_nbextensions) (0.10.0)\n",
            "Requirement already satisfied: nbformat>=5.1 in /usr/local/lib/python3.10/dist-packages (from nbconvert>=6.0->jupyter_contrib_nbextensions) (5.10.4)\n",
            "Requirement already satisfied: packaging in /usr/local/lib/python3.10/dist-packages (from nbconvert>=6.0->jupyter_contrib_nbextensions) (24.1)\n",
            "Requirement already satisfied: pandocfilters>=1.4.1 in /usr/local/lib/python3.10/dist-packages (from nbconvert>=6.0->jupyter_contrib_nbextensions) (1.5.1)\n",
            "Requirement already satisfied: pygments>=2.4.1 in /usr/local/lib/python3.10/dist-packages (from nbconvert>=6.0->jupyter_contrib_nbextensions) (2.16.1)\n",
            "Requirement already satisfied: tinycss2 in /usr/local/lib/python3.10/dist-packages (from nbconvert>=6.0->jupyter_contrib_nbextensions) (1.3.0)\n",
            "Requirement already satisfied: platformdirs>=2.5 in /usr/local/lib/python3.10/dist-packages (from jupyter_core->jupyter_contrib_nbextensions) (4.2.2)\n",
            "Requirement already satisfied: pyzmq<25,>=17 in /usr/local/lib/python3.10/dist-packages (from notebook>=6.0->jupyter_contrib_nbextensions) (24.0.1)\n",
            "Requirement already satisfied: argon2-cffi in /usr/local/lib/python3.10/dist-packages (from notebook>=6.0->jupyter_contrib_nbextensions) (23.1.0)\n",
            "Requirement already satisfied: jupyter-client<8,>=5.3.4 in /usr/local/lib/python3.10/dist-packages (from notebook>=6.0->jupyter_contrib_nbextensions) (6.1.12)\n",
            "Requirement already satisfied: nest-asyncio>=1.5 in /usr/local/lib/python3.10/dist-packages (from notebook>=6.0->jupyter_contrib_nbextensions) (1.6.0)\n",
            "Requirement already satisfied: ipykernel in /usr/local/lib/python3.10/dist-packages (from notebook>=6.0->jupyter_contrib_nbextensions) (5.5.6)\n",
            "Requirement already satisfied: Send2Trash>=1.8.0 in /usr/local/lib/python3.10/dist-packages (from notebook>=6.0->jupyter_contrib_nbextensions) (1.8.3)\n",
            "Requirement already satisfied: terminado>=0.8.3 in /usr/local/lib/python3.10/dist-packages (from notebook>=6.0->jupyter_contrib_nbextensions) (0.18.1)\n",
            "Requirement already satisfied: prometheus-client in /usr/local/lib/python3.10/dist-packages (from notebook>=6.0->jupyter_contrib_nbextensions) (0.20.0)\n",
            "Requirement already satisfied: nbclassic>=0.4.7 in /usr/local/lib/python3.10/dist-packages (from notebook>=6.0->jupyter_contrib_nbextensions) (1.1.0)\n",
            "Requirement already satisfied: python-dateutil>=2.1 in /usr/local/lib/python3.10/dist-packages (from jupyter-client<8,>=5.3.4->notebook>=6.0->jupyter_contrib_nbextensions) (2.8.2)\n",
            "Requirement already satisfied: notebook-shim>=0.2.3 in /usr/local/lib/python3.10/dist-packages (from nbclassic>=0.4.7->notebook>=6.0->jupyter_contrib_nbextensions) (0.2.4)\n",
            "Requirement already satisfied: fastjsonschema>=2.15 in /usr/local/lib/python3.10/dist-packages (from nbformat>=5.1->nbconvert>=6.0->jupyter_contrib_nbextensions) (2.20.0)\n",
            "Requirement already satisfied: jsonschema>=2.6 in /usr/local/lib/python3.10/dist-packages (from nbformat>=5.1->nbconvert>=6.0->jupyter_contrib_nbextensions) (4.19.2)\n",
            "Requirement already satisfied: ptyprocess in /usr/local/lib/python3.10/dist-packages (from terminado>=0.8.3->notebook>=6.0->jupyter_contrib_nbextensions) (0.7.0)\n",
            "Requirement already satisfied: argon2-cffi-bindings in /usr/local/lib/python3.10/dist-packages (from argon2-cffi->notebook>=6.0->jupyter_contrib_nbextensions) (21.2.0)\n",
            "Requirement already satisfied: soupsieve>1.2 in /usr/local/lib/python3.10/dist-packages (from beautifulsoup4->nbconvert>=6.0->jupyter_contrib_nbextensions) (2.5)\n",
            "Requirement already satisfied: six>=1.9.0 in /usr/local/lib/python3.10/dist-packages (from bleach->nbconvert>=6.0->jupyter_contrib_nbextensions) (1.16.0)\n",
            "Requirement already satisfied: webencodings in /usr/local/lib/python3.10/dist-packages (from bleach->nbconvert>=6.0->jupyter_contrib_nbextensions) (0.5.1)\n",
            "Requirement already satisfied: ipython>=5.0.0 in /usr/local/lib/python3.10/dist-packages (from ipykernel->notebook>=6.0->jupyter_contrib_nbextensions) (7.34.0)\n",
            "Requirement already satisfied: anyio<4,>=3.1.0 in /usr/local/lib/python3.10/dist-packages (from jupyter-server->jupyter_nbextensions_configurator>=0.4.0->jupyter_contrib_nbextensions) (3.7.1)\n",
            "Requirement already satisfied: websocket-client in /usr/local/lib/python3.10/dist-packages (from jupyter-server->jupyter_nbextensions_configurator>=0.4.0->jupyter_contrib_nbextensions) (1.8.0)\n",
            "Requirement already satisfied: idna>=2.8 in /usr/local/lib/python3.10/dist-packages (from anyio<4,>=3.1.0->jupyter-server->jupyter_nbextensions_configurator>=0.4.0->jupyter_contrib_nbextensions) (3.7)\n",
            "Requirement already satisfied: sniffio>=1.1 in /usr/local/lib/python3.10/dist-packages (from anyio<4,>=3.1.0->jupyter-server->jupyter_nbextensions_configurator>=0.4.0->jupyter_contrib_nbextensions) (1.3.1)\n",
            "Requirement already satisfied: exceptiongroup in /usr/local/lib/python3.10/dist-packages (from anyio<4,>=3.1.0->jupyter-server->jupyter_nbextensions_configurator>=0.4.0->jupyter_contrib_nbextensions) (1.2.1)\n",
            "Collecting jedi>=0.16 (from ipython>=5.0.0->ipykernel->notebook>=6.0->jupyter_contrib_nbextensions)\n",
            "  Downloading jedi-0.19.1-py2.py3-none-any.whl (1.6 MB)\n",
            "\u001b[2K     \u001b[90m━━━━━━━━━━━━━━━━━━━━━━━━━━━━━━━━━━━━━━━━\u001b[0m \u001b[32m1.6/1.6 MB\u001b[0m \u001b[31m39.8 MB/s\u001b[0m eta \u001b[36m0:00:00\u001b[0m\n",
            "\u001b[?25hRequirement already satisfied: decorator in /usr/local/lib/python3.10/dist-packages (from ipython>=5.0.0->ipykernel->notebook>=6.0->jupyter_contrib_nbextensions) (4.4.2)\n",
            "Requirement already satisfied: pickleshare in /usr/local/lib/python3.10/dist-packages (from ipython>=5.0.0->ipykernel->notebook>=6.0->jupyter_contrib_nbextensions) (0.7.5)\n",
            "Requirement already satisfied: prompt-toolkit!=3.0.0,!=3.0.1,<3.1.0,>=2.0.0 in /usr/local/lib/python3.10/dist-packages (from ipython>=5.0.0->ipykernel->notebook>=6.0->jupyter_contrib_nbextensions) (3.0.47)\n",
            "Requirement already satisfied: backcall in /usr/local/lib/python3.10/dist-packages (from ipython>=5.0.0->ipykernel->notebook>=6.0->jupyter_contrib_nbextensions) (0.2.0)\n",
            "Requirement already satisfied: matplotlib-inline in /usr/local/lib/python3.10/dist-packages (from ipython>=5.0.0->ipykernel->notebook>=6.0->jupyter_contrib_nbextensions) (0.1.7)\n",
            "Requirement already satisfied: pexpect>4.3 in /usr/local/lib/python3.10/dist-packages (from ipython>=5.0.0->ipykernel->notebook>=6.0->jupyter_contrib_nbextensions) (4.9.0)\n",
            "Requirement already satisfied: attrs>=22.2.0 in /usr/local/lib/python3.10/dist-packages (from jsonschema>=2.6->nbformat>=5.1->nbconvert>=6.0->jupyter_contrib_nbextensions) (23.2.0)\n",
            "Requirement already satisfied: jsonschema-specifications>=2023.03.6 in /usr/local/lib/python3.10/dist-packages (from jsonschema>=2.6->nbformat>=5.1->nbconvert>=6.0->jupyter_contrib_nbextensions) (2023.12.1)\n",
            "Requirement already satisfied: referencing>=0.28.4 in /usr/local/lib/python3.10/dist-packages (from jsonschema>=2.6->nbformat>=5.1->nbconvert>=6.0->jupyter_contrib_nbextensions) (0.35.1)\n",
            "Requirement already satisfied: rpds-py>=0.7.1 in /usr/local/lib/python3.10/dist-packages (from jsonschema>=2.6->nbformat>=5.1->nbconvert>=6.0->jupyter_contrib_nbextensions) (0.18.1)\n",
            "Requirement already satisfied: cffi>=1.0.1 in /usr/local/lib/python3.10/dist-packages (from argon2-cffi-bindings->argon2-cffi->notebook>=6.0->jupyter_contrib_nbextensions) (1.16.0)\n",
            "Requirement already satisfied: pycparser in /usr/local/lib/python3.10/dist-packages (from cffi>=1.0.1->argon2-cffi-bindings->argon2-cffi->notebook>=6.0->jupyter_contrib_nbextensions) (2.22)\n",
            "Requirement already satisfied: parso<0.9.0,>=0.8.3 in /usr/local/lib/python3.10/dist-packages (from jedi>=0.16->ipython>=5.0.0->ipykernel->notebook>=6.0->jupyter_contrib_nbextensions) (0.8.4)\n",
            "Requirement already satisfied: wcwidth in /usr/local/lib/python3.10/dist-packages (from prompt-toolkit!=3.0.0,!=3.0.1,<3.1.0,>=2.0.0->ipython>=5.0.0->ipykernel->notebook>=6.0->jupyter_contrib_nbextensions) (0.2.13)\n",
            "Building wheels for collected packages: jupyter_contrib_nbextensions, jupyter_contrib_core\n",
            "  Building wheel for jupyter_contrib_nbextensions (setup.py) ... \u001b[?25l\u001b[?25hdone\n",
            "  Created wheel for jupyter_contrib_nbextensions: filename=jupyter_contrib_nbextensions-0.7.0-py2.py3-none-any.whl size=23428780 sha256=72bc4faf19e0155b77b676d0f31961b684c63e578171d579a6ab1f45da2cd4c8\n",
            "  Stored in directory: /root/.cache/pip/wheels/ea/cc/7d/99ef154f984726b1201c0f72cfe9c9d7c5132c1a2ae4d8677f\n",
            "  Building wheel for jupyter_contrib_core (setup.py) ... \u001b[?25l\u001b[?25hdone\n",
            "  Created wheel for jupyter_contrib_core: filename=jupyter_contrib_core-0.4.2-py2.py3-none-any.whl size=17482 sha256=c8083b42fda93b80d6806ddbf34e1b804cd8d6db6fb67bb6b5d1d7fad2f9bbf3\n",
            "  Stored in directory: /root/.cache/pip/wheels/a9/52/88/e0643cdfd68f0562087918c37dd583378648dbc3df68b907f7\n",
            "Successfully built jupyter_contrib_nbextensions jupyter_contrib_core\n",
            "Installing collected packages: jupyter_highlight_selected_word, jedi, jupyter_contrib_core, jupyter_nbextensions_configurator, jupyter_contrib_nbextensions\n",
            "Successfully installed jedi-0.19.1 jupyter_contrib_core-0.4.2 jupyter_contrib_nbextensions-0.7.0 jupyter_highlight_selected_word-0.2.0 jupyter_nbextensions_configurator-0.6.4\n"
          ]
        }
      ],
      "source": [
        "!pip install jupyter_contrib_nbextensions"
      ]
    },
    {
      "cell_type": "code",
      "source": [
        "!pip install findspark pyspark"
      ],
      "metadata": {
        "colab": {
          "base_uri": "https://localhost:8080/"
        },
        "id": "gw1I4VtcAGsG",
        "outputId": "01f690f5-e80e-4564-e307-240879f9a895"
      },
      "execution_count": 4,
      "outputs": [
        {
          "output_type": "stream",
          "name": "stdout",
          "text": [
            "Collecting findspark\n",
            "  Downloading findspark-2.0.1-py2.py3-none-any.whl (4.4 kB)\n",
            "Collecting pyspark\n",
            "  Downloading pyspark-3.5.1.tar.gz (317.0 MB)\n",
            "\u001b[2K     \u001b[90m━━━━━━━━━━━━━━━━━━━━━━━━━━━━━━━━━━━━━━━━\u001b[0m \u001b[32m317.0/317.0 MB\u001b[0m \u001b[31m2.1 MB/s\u001b[0m eta \u001b[36m0:00:00\u001b[0m\n",
            "\u001b[?25h  Preparing metadata (setup.py) ... \u001b[?25l\u001b[?25hdone\n",
            "Requirement already satisfied: py4j==0.10.9.7 in /usr/local/lib/python3.10/dist-packages (from pyspark) (0.10.9.7)\n",
            "Building wheels for collected packages: pyspark\n",
            "  Building wheel for pyspark (setup.py) ... \u001b[?25l\u001b[?25hdone\n",
            "  Created wheel for pyspark: filename=pyspark-3.5.1-py2.py3-none-any.whl size=317488491 sha256=7ac04a127dd86944610cb14210fbbcaae49492bf81f7243bdf5b4cadc1ef5e8a\n",
            "  Stored in directory: /root/.cache/pip/wheels/80/1d/60/2c256ed38dddce2fdd93be545214a63e02fbd8d74fb0b7f3a6\n",
            "Successfully built pyspark\n",
            "Installing collected packages: findspark, pyspark\n",
            "Successfully installed findspark-2.0.1 pyspark-3.5.1\n"
          ]
        }
      ]
    },
    {
      "cell_type": "markdown",
      "metadata": {
        "id": "1NMk-Q004fGu"
      },
      "source": [
        "#### Fase 1. Importación y análisis de datos\n",
        "\n",
        "Pimero, instalemos cualquier dependencia necesaria y configuremos nuestro entorno Spark."
      ]
    },
    {
      "cell_type": "code",
      "execution_count": 5,
      "metadata": {
        "scrolled": true,
        "id": "rQ8qRX554fGu"
      },
      "outputs": [],
      "source": [
        "import findspark\n",
        "findspark.init()\n",
        "\n",
        "import pandas as pd\n",
        "import pyspark"
      ]
    },
    {
      "cell_type": "code",
      "execution_count": 6,
      "metadata": {
        "id": "3gHTorML4fGu"
      },
      "outputs": [],
      "source": [
        "from pyspark.sql import SparkSession\n",
        "\n",
        "\n",
        "spark = SparkSession.builder \\\n",
        "    .appName(\"AnalisisNotasEstudiantes\") \\\n",
        "    .getOrCreate()\n"
      ]
    },
    {
      "cell_type": "code",
      "execution_count": 7,
      "metadata": {
        "id": "g4F3A2Oa4fGu",
        "outputId": "a48f960a-0a64-425d-e227-0208930bc268",
        "colab": {
          "base_uri": "https://localhost:8080/",
          "height": 219
        }
      },
      "outputs": [
        {
          "output_type": "execute_result",
          "data": {
            "text/plain": [
              "<pyspark.sql.session.SparkSession at 0x7f8901f1eda0>"
            ],
            "text/html": [
              "\n",
              "            <div>\n",
              "                <p><b>SparkSession - in-memory</b></p>\n",
              "                \n",
              "        <div>\n",
              "            <p><b>SparkContext</b></p>\n",
              "\n",
              "            <p><a href=\"http://cf9596247651:4040\">Spark UI</a></p>\n",
              "\n",
              "            <dl>\n",
              "              <dt>Version</dt>\n",
              "                <dd><code>v3.5.1</code></dd>\n",
              "              <dt>Master</dt>\n",
              "                <dd><code>local[*]</code></dd>\n",
              "              <dt>AppName</dt>\n",
              "                <dd><code>AnalisisNotasEstudiantes</code></dd>\n",
              "            </dl>\n",
              "        </div>\n",
              "        \n",
              "            </div>\n",
              "        "
            ]
          },
          "metadata": {},
          "execution_count": 7
        }
      ],
      "source": [
        "spark"
      ]
    },
    {
      "cell_type": "code",
      "source": [
        "# Datos de personas\n",
        "per = [\n",
        "    (0, \"Carlos\", \"Astudillo\", \"0000000001\", \"0958880331\"),\n",
        "    (1, \"Jonnathan\", \"Astudillo\", \"0000000002\", \"0985662514\"),\n",
        "    (2, \"Danny\", \"Auquilla\", \"0000000003\", \"0990000001\"),\n",
        "    (3, \"Victor\", \"Cabrera\", \"0000000004\", \"0993118236\"),\n",
        "    (4, \"Paula\", \"Gomez\", \"0000000005\", \"0998264130\"),\n",
        "    (5, \"Maicol\", \"Lojano\", \"0000000006\", \"099486071\"),\n",
        "    (6, \"Kevin\", \"Lojano\", \"0000000007\", \"0987799450\"),\n",
        "    (7, \"Jose\", \"Muños\", \"0000000008\", \"0997026632\"),\n",
        "    (8, \"Danny\", \"Pineda\", \"0000000009\", \"0963325761\"),\n",
        "    (9, \"Paul\", \"Rodriguez\", \"0106422496\", \"0998938189\"),\n",
        "    (10, \"Ariel\", \"Saquicela\", \"0000000010\", \"0978998281\"),\n",
        "    (11, \"Calva\", \"Morocho\", \"0000000011\", \"0000000001\")\n",
        "]\n",
        "\n",
        "# Datos de materias\n",
        "mat = [\n",
        "    (\"0MD\", \"Mineria de datos\", 7),\n",
        "    (\"1MR\", \"Marcos de referencia\", 5),\n",
        "    (\"2IN\", \"Inteligencia de negocios\", 5),\n",
        "    (\"3EP\", \"Etica Profesional\", 2),\n",
        "    (\"4E\", \"Emprendimiento\", 3),\n",
        "    (\"5AP\", \"Aprendizaje profundo\", 5)\n",
        "]\n",
        "\n",
        "# Datos de cursos (id_curso, id_estudiante, id_materia, asistencia, nota_diagnostico, nota_parcial, nota_final)\n",
        "curso = [\n",
        "    (\"M3A\", 2, \"1MR\", 90, 6.0, 6.5, 5.91),\n",
        "    (\"M3A\", 3, \"1MR\", 85, 7.0, 8.0, 8.79),\n",
        "    (\"M3A\", 5, \"1MR\", 95, 9.0, 9.5, 9.32),\n",
        "    (\"M3A\", 9, \"1MR\", 88, 8.0, 9.0, 9.13),\n",
        "    (\"M3A\", 10, \"1MR\", 92, 6.0, 6.5, 6.17),\n",
        "    (\"M3A\", 0, \"1MR\", 100, 9.5, 9.0, 9.40),\n",
        "    (\"M3A\", 1, \"0MD\", 75, 7.0, 8.5, 9.17),\n",
        "    (\"M3A\", 2, \"0MD\", 80, 8.0, 8.5, 8.53),\n",
        "    (\"M3A\", 3, \"0MD\", 85, 8.5, 8.5, 8.63),\n",
        "    (\"M3A\", 4, \"0MD\", 90, 9.0, 9.0, 9.24),\n",
        "    (\"M3A\", 5, \"0MD\", 95, 9.0, 9.0, 9.05),\n",
        "    (\"M3A\", 7, \"0MD\", 90, 8.5, 9.0, 9.71),\n",
        "    (\"M3A\", 8, \"0MD\", 88, 8.0, 8.5, 8.74),\n",
        "    (\"M3A\", 9, \"0MD\", 85, 8.0, 9.0, 9.28),\n",
        "    (\"M3A\", 10, \"0MD\", 75, 6.0, 6.0, 5.78),\n",
        "    (\"M3A\", 2, \"4E\", 80, 8.5, 9.0, 9.77),\n",
        "    (\"M3A\", 3, \"4E\", 85, 8.5, 9.0, 9.11),\n",
        "    (\"M3A\", 11, \"4E\", 90, 6.0, 7.0, 6.59),\n",
        "    (\"M3A\", 6, \"4E\", 75, 4.0, 5.0, 4.59),\n",
        "    (\"M3A\", 9, \"4E\", 92, 8.5, 9.0, 9.17),\n",
        "    (\"M3A\", 10, \"4E\", 85, 6.0, 6.5, 6.08),\n",
        "    (\"M3A\", 0, \"5AP\", 90, 8.0, 8.5, 8.74),\n",
        "    (\"M3A\", 1, \"5AP\", 85, 7.0, 7.5, 7.64),\n",
        "    (\"M3A\", 2, \"5AP\", 80, 5.5, 5.0, 5.63),\n",
        "    (\"M3A\", 3, \"5AP\", 85, 8.0, 8.5, 8.68),\n",
        "    (\"M3A\", 4, \"5AP\", 90, 8.5, 8.0, 8.57),\n",
        "    (\"M3A\", 5, \"5AP\", 95, 9.0, 9.5, 9.06),\n",
        "    (\"M3A\", 6, \"5AP\", 75, 2.0, 3.0, 2.75),\n",
        "    (\"M3A\", 7, \"5AP\", 88, 8.5, 9.0, 9.01),\n",
        "    (\"M3A\", 8, \"5AP\", 85, 8.0, 8.5, 8.39),\n",
        "    (\"M3A\", 9, \"5AP\", 90, 8.5, 9.0, 9.15),\n",
        "    (\"M3A\", 10, \"5AP\", 85, 8.0, 8.0, 8.35),\n",
        "    (\"M3A\", 0, \"2IN\", 70, 1.0, 1.0, 1.00),\n",
        "    (\"M3A\", 1, \"2IN\", 75, 1.0, 1.0, 1.00),\n",
        "    (\"M3A\", 2, \"2IN\", 80, 1.0, 1.0, 1.00),\n",
        "    (\"M3A\", 3, \"2IN\", 85, 1.0, 1.0, 1.00),\n",
        "    (\"M3A\", 5, \"2IN\", 90, 1.0, 1.0, 1.00),\n",
        "    (\"M3A\", 6, \"2IN\", 95, 1.0, 1.0, 1.00),\n",
        "    (\"M3A\", 8, \"2IN\", 80, 1.0, 1.0, 1.00),\n",
        "    (\"M3A\", 10, \"2IN\", 85, 1.0, 1.0, 1.00),\n",
        "    (\"M3A\", 3, \"2IN\", 90, 1.0, 1.0, 1.00),\n",
        "    (\"M3A\", 11, \"2IN\", 95, 1.0, 1.0, 1.00),\n",
        "    (\"M3A\", 6, \"2IN\", 70, 1.0, 1.0, 1.00),\n",
        "    (\"M3A\", 10, \"2IN\", 75, 1.0, 1.0, 1.00)\n",
        "]\n",
        "\n",
        "# Crear DataFrames\n",
        "per_df = spark.createDataFrame(per, [\"id_persona\", \"nombre\", \"apellido\", \"cedula\", \"celular\"])\n",
        "mat_df = spark.createDataFrame(mat, [\"id_materia\", \"nombre_materia\", \"nro_horas\"])\n",
        "curso_df = spark.createDataFrame(curso, [\"id_curso\", \"id_estudiante\", \"id_materia\", \"asistencia\", \"nota_diagnostico\", \"nota_parcial\", \"nota_final\"])\n",
        "\n",
        "# Mostrar DataFrames\n",
        "per_df.show()\n",
        "mat_df.show()\n",
        "curso_df.show()\n",
        "\n",
        "\n",
        "\n",
        "\n",
        "\n",
        "\n",
        "\n",
        "\n"
      ],
      "metadata": {
        "colab": {
          "base_uri": "https://localhost:8080/"
        },
        "id": "lM7eJ-xS_gOu",
        "outputId": "79ba21da-e673-42b5-fd6d-c9ac7c17de4b"
      },
      "execution_count": 8,
      "outputs": [
        {
          "output_type": "stream",
          "name": "stdout",
          "text": [
            "+----------+---------+---------+----------+----------+\n",
            "|id_persona|   nombre| apellido|    cedula|   celular|\n",
            "+----------+---------+---------+----------+----------+\n",
            "|         0|   Carlos|Astudillo|0000000001|0958880331|\n",
            "|         1|Jonnathan|Astudillo|0000000002|0985662514|\n",
            "|         2|    Danny| Auquilla|0000000003|0990000001|\n",
            "|         3|   Victor|  Cabrera|0000000004|0993118236|\n",
            "|         4|    Paula|    Gomez|0000000005|0998264130|\n",
            "|         5|   Maicol|   Lojano|0000000006| 099486071|\n",
            "|         6|    Kevin|   Lojano|0000000007|0987799450|\n",
            "|         7|     Jose|    Muños|0000000008|0997026632|\n",
            "|         8|    Danny|   Pineda|0000000009|0963325761|\n",
            "|         9|     Paul|Rodriguez|0106422496|0998938189|\n",
            "|        10|    Ariel|Saquicela|0000000010|0978998281|\n",
            "|        11|    Calva|  Morocho|0000000011|0000000001|\n",
            "+----------+---------+---------+----------+----------+\n",
            "\n",
            "+----------+--------------------+---------+\n",
            "|id_materia|      nombre_materia|nro_horas|\n",
            "+----------+--------------------+---------+\n",
            "|       0MD|    Mineria de datos|        7|\n",
            "|       1MR|Marcos de referencia|        5|\n",
            "|       2IN|Inteligencia de n...|        5|\n",
            "|       3EP|   Etica Profesional|        2|\n",
            "|        4E|      Emprendimiento|        3|\n",
            "|       5AP|Aprendizaje profundo|        5|\n",
            "+----------+--------------------+---------+\n",
            "\n",
            "+--------+-------------+----------+----------+----------------+------------+----------+\n",
            "|id_curso|id_estudiante|id_materia|asistencia|nota_diagnostico|nota_parcial|nota_final|\n",
            "+--------+-------------+----------+----------+----------------+------------+----------+\n",
            "|     M3A|            2|       1MR|        90|             6.0|         6.5|      5.91|\n",
            "|     M3A|            3|       1MR|        85|             7.0|         8.0|      8.79|\n",
            "|     M3A|            5|       1MR|        95|             9.0|         9.5|      9.32|\n",
            "|     M3A|            9|       1MR|        88|             8.0|         9.0|      9.13|\n",
            "|     M3A|           10|       1MR|        92|             6.0|         6.5|      6.17|\n",
            "|     M3A|            0|       1MR|       100|             9.5|         9.0|       9.4|\n",
            "|     M3A|            1|       0MD|        75|             7.0|         8.5|      9.17|\n",
            "|     M3A|            2|       0MD|        80|             8.0|         8.5|      8.53|\n",
            "|     M3A|            3|       0MD|        85|             8.5|         8.5|      8.63|\n",
            "|     M3A|            4|       0MD|        90|             9.0|         9.0|      9.24|\n",
            "|     M3A|            5|       0MD|        95|             9.0|         9.0|      9.05|\n",
            "|     M3A|            7|       0MD|        90|             8.5|         9.0|      9.71|\n",
            "|     M3A|            8|       0MD|        88|             8.0|         8.5|      8.74|\n",
            "|     M3A|            9|       0MD|        85|             8.0|         9.0|      9.28|\n",
            "|     M3A|           10|       0MD|        75|             6.0|         6.0|      5.78|\n",
            "|     M3A|            2|        4E|        80|             8.5|         9.0|      9.77|\n",
            "|     M3A|            3|        4E|        85|             8.5|         9.0|      9.11|\n",
            "|     M3A|           11|        4E|        90|             6.0|         7.0|      6.59|\n",
            "|     M3A|            6|        4E|        75|             4.0|         5.0|      4.59|\n",
            "|     M3A|            9|        4E|        92|             8.5|         9.0|      9.17|\n",
            "+--------+-------------+----------+----------+----------------+------------+----------+\n",
            "only showing top 20 rows\n",
            "\n"
          ]
        }
      ]
    },
    {
      "cell_type": "code",
      "execution_count": 9,
      "metadata": {
        "id": "CZrJOwCE4fGv",
        "outputId": "40d13414-9dfe-4f34-9975-cbc5c715704e",
        "colab": {
          "base_uri": "https://localhost:8080/"
        }
      },
      "outputs": [
        {
          "output_type": "stream",
          "name": "stdout",
          "text": [
            "+--------+-------------+----------+----------+----------------+------------+----------+\n",
            "|id_curso|id_estudiante|id_materia|asistencia|nota_diagnostico|nota_parcial|nota_final|\n",
            "+--------+-------------+----------+----------+----------------+------------+----------+\n",
            "|     M3A|            2|       1MR|        90|             6.0|         6.5|      5.91|\n",
            "|     M3A|            3|       1MR|        85|             7.0|         8.0|      8.79|\n",
            "|     M3A|            5|       1MR|        95|             9.0|         9.5|      9.32|\n",
            "|     M3A|            9|       1MR|        88|             8.0|         9.0|      9.13|\n",
            "|     M3A|           10|       1MR|        92|             6.0|         6.5|      6.17|\n",
            "+--------+-------------+----------+----------+----------------+------------+----------+\n",
            "only showing top 5 rows\n",
            "\n"
          ]
        }
      ],
      "source": [
        "curso_df.show(5)"
      ]
    },
    {
      "cell_type": "code",
      "execution_count": 11,
      "metadata": {
        "id": "-WDT_UHq4fGw",
        "outputId": "42946499-b36f-46b8-ec11-6ecbb70a982d",
        "colab": {
          "base_uri": "https://localhost:8080/",
          "height": 206
        }
      },
      "outputs": [
        {
          "output_type": "execute_result",
          "data": {
            "text/plain": [
              "  id_curso  id_estudiante id_materia  asistencia  nota_diagnostico  \\\n",
              "0      M3A              2        1MR          90               6.0   \n",
              "1      M3A              3        1MR          85               7.0   \n",
              "2      M3A              5        1MR          95               9.0   \n",
              "3      M3A              9        1MR          88               8.0   \n",
              "4      M3A             10        1MR          92               6.0   \n",
              "\n",
              "   nota_parcial  nota_final  \n",
              "0           6.5        5.91  \n",
              "1           8.0        8.79  \n",
              "2           9.5        9.32  \n",
              "3           9.0        9.13  \n",
              "4           6.5        6.17  "
            ],
            "text/html": [
              "\n",
              "  <div id=\"df-95ee7444-4bc0-4e6f-9dd5-af72c6a8fd52\" class=\"colab-df-container\">\n",
              "    <div>\n",
              "<style scoped>\n",
              "    .dataframe tbody tr th:only-of-type {\n",
              "        vertical-align: middle;\n",
              "    }\n",
              "\n",
              "    .dataframe tbody tr th {\n",
              "        vertical-align: top;\n",
              "    }\n",
              "\n",
              "    .dataframe thead th {\n",
              "        text-align: right;\n",
              "    }\n",
              "</style>\n",
              "<table border=\"1\" class=\"dataframe\">\n",
              "  <thead>\n",
              "    <tr style=\"text-align: right;\">\n",
              "      <th></th>\n",
              "      <th>id_curso</th>\n",
              "      <th>id_estudiante</th>\n",
              "      <th>id_materia</th>\n",
              "      <th>asistencia</th>\n",
              "      <th>nota_diagnostico</th>\n",
              "      <th>nota_parcial</th>\n",
              "      <th>nota_final</th>\n",
              "    </tr>\n",
              "  </thead>\n",
              "  <tbody>\n",
              "    <tr>\n",
              "      <th>0</th>\n",
              "      <td>M3A</td>\n",
              "      <td>2</td>\n",
              "      <td>1MR</td>\n",
              "      <td>90</td>\n",
              "      <td>6.0</td>\n",
              "      <td>6.5</td>\n",
              "      <td>5.91</td>\n",
              "    </tr>\n",
              "    <tr>\n",
              "      <th>1</th>\n",
              "      <td>M3A</td>\n",
              "      <td>3</td>\n",
              "      <td>1MR</td>\n",
              "      <td>85</td>\n",
              "      <td>7.0</td>\n",
              "      <td>8.0</td>\n",
              "      <td>8.79</td>\n",
              "    </tr>\n",
              "    <tr>\n",
              "      <th>2</th>\n",
              "      <td>M3A</td>\n",
              "      <td>5</td>\n",
              "      <td>1MR</td>\n",
              "      <td>95</td>\n",
              "      <td>9.0</td>\n",
              "      <td>9.5</td>\n",
              "      <td>9.32</td>\n",
              "    </tr>\n",
              "    <tr>\n",
              "      <th>3</th>\n",
              "      <td>M3A</td>\n",
              "      <td>9</td>\n",
              "      <td>1MR</td>\n",
              "      <td>88</td>\n",
              "      <td>8.0</td>\n",
              "      <td>9.0</td>\n",
              "      <td>9.13</td>\n",
              "    </tr>\n",
              "    <tr>\n",
              "      <th>4</th>\n",
              "      <td>M3A</td>\n",
              "      <td>10</td>\n",
              "      <td>1MR</td>\n",
              "      <td>92</td>\n",
              "      <td>6.0</td>\n",
              "      <td>6.5</td>\n",
              "      <td>6.17</td>\n",
              "    </tr>\n",
              "  </tbody>\n",
              "</table>\n",
              "</div>\n",
              "    <div class=\"colab-df-buttons\">\n",
              "\n",
              "  <div class=\"colab-df-container\">\n",
              "    <button class=\"colab-df-convert\" onclick=\"convertToInteractive('df-95ee7444-4bc0-4e6f-9dd5-af72c6a8fd52')\"\n",
              "            title=\"Convert this dataframe to an interactive table.\"\n",
              "            style=\"display:none;\">\n",
              "\n",
              "  <svg xmlns=\"http://www.w3.org/2000/svg\" height=\"24px\" viewBox=\"0 -960 960 960\">\n",
              "    <path d=\"M120-120v-720h720v720H120Zm60-500h600v-160H180v160Zm220 220h160v-160H400v160Zm0 220h160v-160H400v160ZM180-400h160v-160H180v160Zm440 0h160v-160H620v160ZM180-180h160v-160H180v160Zm440 0h160v-160H620v160Z\"/>\n",
              "  </svg>\n",
              "    </button>\n",
              "\n",
              "  <style>\n",
              "    .colab-df-container {\n",
              "      display:flex;\n",
              "      gap: 12px;\n",
              "    }\n",
              "\n",
              "    .colab-df-convert {\n",
              "      background-color: #E8F0FE;\n",
              "      border: none;\n",
              "      border-radius: 50%;\n",
              "      cursor: pointer;\n",
              "      display: none;\n",
              "      fill: #1967D2;\n",
              "      height: 32px;\n",
              "      padding: 0 0 0 0;\n",
              "      width: 32px;\n",
              "    }\n",
              "\n",
              "    .colab-df-convert:hover {\n",
              "      background-color: #E2EBFA;\n",
              "      box-shadow: 0px 1px 2px rgba(60, 64, 67, 0.3), 0px 1px 3px 1px rgba(60, 64, 67, 0.15);\n",
              "      fill: #174EA6;\n",
              "    }\n",
              "\n",
              "    .colab-df-buttons div {\n",
              "      margin-bottom: 4px;\n",
              "    }\n",
              "\n",
              "    [theme=dark] .colab-df-convert {\n",
              "      background-color: #3B4455;\n",
              "      fill: #D2E3FC;\n",
              "    }\n",
              "\n",
              "    [theme=dark] .colab-df-convert:hover {\n",
              "      background-color: #434B5C;\n",
              "      box-shadow: 0px 1px 3px 1px rgba(0, 0, 0, 0.15);\n",
              "      filter: drop-shadow(0px 1px 2px rgba(0, 0, 0, 0.3));\n",
              "      fill: #FFFFFF;\n",
              "    }\n",
              "  </style>\n",
              "\n",
              "    <script>\n",
              "      const buttonEl =\n",
              "        document.querySelector('#df-95ee7444-4bc0-4e6f-9dd5-af72c6a8fd52 button.colab-df-convert');\n",
              "      buttonEl.style.display =\n",
              "        google.colab.kernel.accessAllowed ? 'block' : 'none';\n",
              "\n",
              "      async function convertToInteractive(key) {\n",
              "        const element = document.querySelector('#df-95ee7444-4bc0-4e6f-9dd5-af72c6a8fd52');\n",
              "        const dataTable =\n",
              "          await google.colab.kernel.invokeFunction('convertToInteractive',\n",
              "                                                    [key], {});\n",
              "        if (!dataTable) return;\n",
              "\n",
              "        const docLinkHtml = 'Like what you see? Visit the ' +\n",
              "          '<a target=\"_blank\" href=https://colab.research.google.com/notebooks/data_table.ipynb>data table notebook</a>'\n",
              "          + ' to learn more about interactive tables.';\n",
              "        element.innerHTML = '';\n",
              "        dataTable['output_type'] = 'display_data';\n",
              "        await google.colab.output.renderOutput(dataTable, element);\n",
              "        const docLink = document.createElement('div');\n",
              "        docLink.innerHTML = docLinkHtml;\n",
              "        element.appendChild(docLink);\n",
              "      }\n",
              "    </script>\n",
              "  </div>\n",
              "\n",
              "\n",
              "<div id=\"df-805fc8aa-675c-4e30-8d07-37cc872f8e7b\">\n",
              "  <button class=\"colab-df-quickchart\" onclick=\"quickchart('df-805fc8aa-675c-4e30-8d07-37cc872f8e7b')\"\n",
              "            title=\"Suggest charts\"\n",
              "            style=\"display:none;\">\n",
              "\n",
              "<svg xmlns=\"http://www.w3.org/2000/svg\" height=\"24px\"viewBox=\"0 0 24 24\"\n",
              "     width=\"24px\">\n",
              "    <g>\n",
              "        <path d=\"M19 3H5c-1.1 0-2 .9-2 2v14c0 1.1.9 2 2 2h14c1.1 0 2-.9 2-2V5c0-1.1-.9-2-2-2zM9 17H7v-7h2v7zm4 0h-2V7h2v10zm4 0h-2v-4h2v4z\"/>\n",
              "    </g>\n",
              "</svg>\n",
              "  </button>\n",
              "\n",
              "<style>\n",
              "  .colab-df-quickchart {\n",
              "      --bg-color: #E8F0FE;\n",
              "      --fill-color: #1967D2;\n",
              "      --hover-bg-color: #E2EBFA;\n",
              "      --hover-fill-color: #174EA6;\n",
              "      --disabled-fill-color: #AAA;\n",
              "      --disabled-bg-color: #DDD;\n",
              "  }\n",
              "\n",
              "  [theme=dark] .colab-df-quickchart {\n",
              "      --bg-color: #3B4455;\n",
              "      --fill-color: #D2E3FC;\n",
              "      --hover-bg-color: #434B5C;\n",
              "      --hover-fill-color: #FFFFFF;\n",
              "      --disabled-bg-color: #3B4455;\n",
              "      --disabled-fill-color: #666;\n",
              "  }\n",
              "\n",
              "  .colab-df-quickchart {\n",
              "    background-color: var(--bg-color);\n",
              "    border: none;\n",
              "    border-radius: 50%;\n",
              "    cursor: pointer;\n",
              "    display: none;\n",
              "    fill: var(--fill-color);\n",
              "    height: 32px;\n",
              "    padding: 0;\n",
              "    width: 32px;\n",
              "  }\n",
              "\n",
              "  .colab-df-quickchart:hover {\n",
              "    background-color: var(--hover-bg-color);\n",
              "    box-shadow: 0 1px 2px rgba(60, 64, 67, 0.3), 0 1px 3px 1px rgba(60, 64, 67, 0.15);\n",
              "    fill: var(--button-hover-fill-color);\n",
              "  }\n",
              "\n",
              "  .colab-df-quickchart-complete:disabled,\n",
              "  .colab-df-quickchart-complete:disabled:hover {\n",
              "    background-color: var(--disabled-bg-color);\n",
              "    fill: var(--disabled-fill-color);\n",
              "    box-shadow: none;\n",
              "  }\n",
              "\n",
              "  .colab-df-spinner {\n",
              "    border: 2px solid var(--fill-color);\n",
              "    border-color: transparent;\n",
              "    border-bottom-color: var(--fill-color);\n",
              "    animation:\n",
              "      spin 1s steps(1) infinite;\n",
              "  }\n",
              "\n",
              "  @keyframes spin {\n",
              "    0% {\n",
              "      border-color: transparent;\n",
              "      border-bottom-color: var(--fill-color);\n",
              "      border-left-color: var(--fill-color);\n",
              "    }\n",
              "    20% {\n",
              "      border-color: transparent;\n",
              "      border-left-color: var(--fill-color);\n",
              "      border-top-color: var(--fill-color);\n",
              "    }\n",
              "    30% {\n",
              "      border-color: transparent;\n",
              "      border-left-color: var(--fill-color);\n",
              "      border-top-color: var(--fill-color);\n",
              "      border-right-color: var(--fill-color);\n",
              "    }\n",
              "    40% {\n",
              "      border-color: transparent;\n",
              "      border-right-color: var(--fill-color);\n",
              "      border-top-color: var(--fill-color);\n",
              "    }\n",
              "    60% {\n",
              "      border-color: transparent;\n",
              "      border-right-color: var(--fill-color);\n",
              "    }\n",
              "    80% {\n",
              "      border-color: transparent;\n",
              "      border-right-color: var(--fill-color);\n",
              "      border-bottom-color: var(--fill-color);\n",
              "    }\n",
              "    90% {\n",
              "      border-color: transparent;\n",
              "      border-bottom-color: var(--fill-color);\n",
              "    }\n",
              "  }\n",
              "</style>\n",
              "\n",
              "  <script>\n",
              "    async function quickchart(key) {\n",
              "      const quickchartButtonEl =\n",
              "        document.querySelector('#' + key + ' button');\n",
              "      quickchartButtonEl.disabled = true;  // To prevent multiple clicks.\n",
              "      quickchartButtonEl.classList.add('colab-df-spinner');\n",
              "      try {\n",
              "        const charts = await google.colab.kernel.invokeFunction(\n",
              "            'suggestCharts', [key], {});\n",
              "      } catch (error) {\n",
              "        console.error('Error during call to suggestCharts:', error);\n",
              "      }\n",
              "      quickchartButtonEl.classList.remove('colab-df-spinner');\n",
              "      quickchartButtonEl.classList.add('colab-df-quickchart-complete');\n",
              "    }\n",
              "    (() => {\n",
              "      let quickchartButtonEl =\n",
              "        document.querySelector('#df-805fc8aa-675c-4e30-8d07-37cc872f8e7b button');\n",
              "      quickchartButtonEl.style.display =\n",
              "        google.colab.kernel.accessAllowed ? 'block' : 'none';\n",
              "    })();\n",
              "  </script>\n",
              "</div>\n",
              "\n",
              "    </div>\n",
              "  </div>\n"
            ],
            "application/vnd.google.colaboratory.intrinsic+json": {
              "type": "dataframe",
              "summary": "{\n  \"name\": \"curso_df\",\n  \"rows\": 5,\n  \"fields\": [\n    {\n      \"column\": \"id_curso\",\n      \"properties\": {\n        \"dtype\": \"category\",\n        \"num_unique_values\": 1,\n        \"samples\": [\n          \"M3A\"\n        ],\n        \"semantic_type\": \"\",\n        \"description\": \"\"\n      }\n    },\n    {\n      \"column\": \"id_estudiante\",\n      \"properties\": {\n        \"dtype\": \"number\",\n        \"std\": 3,\n        \"min\": 2,\n        \"max\": 10,\n        \"num_unique_values\": 5,\n        \"samples\": [\n          3\n        ],\n        \"semantic_type\": \"\",\n        \"description\": \"\"\n      }\n    },\n    {\n      \"column\": \"id_materia\",\n      \"properties\": {\n        \"dtype\": \"category\",\n        \"num_unique_values\": 1,\n        \"samples\": [\n          \"1MR\"\n        ],\n        \"semantic_type\": \"\",\n        \"description\": \"\"\n      }\n    },\n    {\n      \"column\": \"asistencia\",\n      \"properties\": {\n        \"dtype\": \"number\",\n        \"std\": 3,\n        \"min\": 85,\n        \"max\": 95,\n        \"num_unique_values\": 5,\n        \"samples\": [\n          85\n        ],\n        \"semantic_type\": \"\",\n        \"description\": \"\"\n      }\n    },\n    {\n      \"column\": \"nota_diagnostico\",\n      \"properties\": {\n        \"dtype\": \"number\",\n        \"std\": 1.3038404810405297,\n        \"min\": 6.0,\n        \"max\": 9.0,\n        \"num_unique_values\": 4,\n        \"samples\": [\n          7.0\n        ],\n        \"semantic_type\": \"\",\n        \"description\": \"\"\n      }\n    },\n    {\n      \"column\": \"nota_parcial\",\n      \"properties\": {\n        \"dtype\": \"number\",\n        \"std\": 1.3874436925511606,\n        \"min\": 6.5,\n        \"max\": 9.5,\n        \"num_unique_values\": 4,\n        \"samples\": [\n          8.0\n        ],\n        \"semantic_type\": \"\",\n        \"description\": \"\"\n      }\n    },\n    {\n      \"column\": \"nota_final\",\n      \"properties\": {\n        \"dtype\": \"number\",\n        \"std\": 1.6783861295899702,\n        \"min\": 5.91,\n        \"max\": 9.32,\n        \"num_unique_values\": 5,\n        \"samples\": [\n          8.79\n        ],\n        \"semantic_type\": \"\",\n        \"description\": \"\"\n      }\n    }\n  ]\n}"
            }
          },
          "metadata": {},
          "execution_count": 11
        }
      ],
      "source": [
        "curso_df.toPandas().head()"
      ]
    },
    {
      "cell_type": "code",
      "execution_count": 12,
      "metadata": {
        "id": "d4gF5mXl4fGw",
        "outputId": "3b601314-791e-4bc5-9bf4-1bf92b5c21d6",
        "colab": {
          "base_uri": "https://localhost:8080/"
        }
      },
      "outputs": [
        {
          "output_type": "stream",
          "name": "stdout",
          "text": [
            "+--------+-------------+----------+----------+----------------+------------+----------+\n",
            "|id_curso|id_estudiante|id_materia|asistencia|nota_diagnostico|nota_parcial|nota_final|\n",
            "+--------+-------------+----------+----------+----------------+------------+----------+\n",
            "|     M3A|            2|       1MR|        90|             6.0|         6.5|      5.91|\n",
            "|     M3A|            3|       1MR|        85|             7.0|         8.0|      8.79|\n",
            "|     M3A|            5|       1MR|        95|             9.0|         9.5|      9.32|\n",
            "|     M3A|            9|       1MR|        88|             8.0|         9.0|      9.13|\n",
            "|     M3A|           10|       1MR|        92|             6.0|         6.5|      6.17|\n",
            "+--------+-------------+----------+----------+----------------+------------+----------+\n",
            "only showing top 5 rows\n",
            "\n"
          ]
        }
      ],
      "source": [
        "curso_df.show(5)"
      ]
    },
    {
      "cell_type": "code",
      "execution_count": 13,
      "metadata": {
        "id": "3pVZE0vN4fGw",
        "outputId": "85a472d2-df3d-413f-9829-aa14f612c1e8",
        "colab": {
          "base_uri": "https://localhost:8080/"
        }
      },
      "outputs": [
        {
          "output_type": "execute_result",
          "data": {
            "text/plain": [
              "44"
            ]
          },
          "metadata": {},
          "execution_count": 13
        }
      ],
      "source": [
        "curso_df.count()"
      ]
    },
    {
      "cell_type": "code",
      "execution_count": 14,
      "metadata": {
        "id": "4LNWKo3K4fGw",
        "outputId": "8907a8c1-fab0-4f71-df07-f5f7305d38bd",
        "colab": {
          "base_uri": "https://localhost:8080/"
        }
      },
      "outputs": [
        {
          "output_type": "execute_result",
          "data": {
            "text/plain": [
              "[('id_curso', 'string'),\n",
              " ('id_estudiante', 'bigint'),\n",
              " ('id_materia', 'string'),\n",
              " ('asistencia', 'bigint'),\n",
              " ('nota_diagnostico', 'double'),\n",
              " ('nota_parcial', 'double'),\n",
              " ('nota_final', 'double')]"
            ]
          },
          "metadata": {},
          "execution_count": 14
        }
      ],
      "source": [
        "curso_df.dtypes"
      ]
    },
    {
      "cell_type": "code",
      "execution_count": 15,
      "metadata": {
        "id": "weVqnumY4fGx"
      },
      "outputs": [],
      "source": [
        "from pyspark.sql.types import *\n",
        "\n",
        "# Crear sesión de Spark\n",
        "spark = SparkSession.builder \\\n",
        "    .appName(\"AnalisisNotasEstudiantes\") \\\n",
        "    .getOrCreate()\n",
        "\n",
        "# Definir esquemas para los DataFrames\n",
        "\n",
        "# Esquema para el DataFrame de personas\n",
        "personas_schema = StructType([\n",
        "    StructField('id_persona', IntegerType(), True),\n",
        "    StructField('nombre', StringType(), True),\n",
        "    StructField('apellido', StringType(), True),\n",
        "    StructField('cedula', StringType(), True),\n",
        "    StructField('celular', StringType(), True)\n",
        "])\n",
        "\n",
        "# Esquema para el DataFrame de materias\n",
        "materias_schema = StructType([\n",
        "    StructField('id_materia', StringType(), True),\n",
        "    StructField('nombre_materia', StringType(), True),\n",
        "    StructField('nro_horas', IntegerType(), True)\n",
        "])\n",
        "\n",
        "# Esquema para el DataFrame de cursos\n",
        "cursos_schema = StructType([\n",
        "    StructField('id_curso', StringType(), True),\n",
        "    StructField('id_estudiante', IntegerType(), True),\n",
        "    StructField('id_materia', StringType(), True),\n",
        "    StructField('asistencia', IntegerType(), True),\n",
        "    StructField('nota_diagnostico', DoubleType(), True),\n",
        "    StructField('nota_parcial', DoubleType(), True),\n",
        "    StructField('nota_final', DoubleType(), True)\n",
        "])"
      ]
    },
    {
      "cell_type": "code",
      "execution_count": 16,
      "metadata": {
        "id": "BNejSWrs4fGx",
        "outputId": "170c4841-bca6-4dfa-9e9a-909b43442f22",
        "colab": {
          "base_uri": "https://localhost:8080/"
        }
      },
      "outputs": [
        {
          "output_type": "stream",
          "name": "stdout",
          "text": [
            "root\n",
            " |-- id_curso: string (nullable = true)\n",
            " |-- id_estudiante: long (nullable = true)\n",
            " |-- id_materia: string (nullable = true)\n",
            " |-- asistencia: long (nullable = true)\n",
            " |-- nota_diagnostico: double (nullable = true)\n",
            " |-- nota_parcial: double (nullable = true)\n",
            " |-- nota_final: double (nullable = true)\n",
            "\n"
          ]
        }
      ],
      "source": [
        "curso_df.printSchema()"
      ]
    },
    {
      "cell_type": "code",
      "execution_count": 17,
      "metadata": {
        "id": "6AXHwpdf4fGx",
        "outputId": "e17f4913-f01d-475f-ce3f-f23cf4fe137f",
        "colab": {
          "base_uri": "https://localhost:8080/",
          "height": 206
        }
      },
      "outputs": [
        {
          "output_type": "execute_result",
          "data": {
            "text/plain": [
              "  summary id_curso      id_estudiante id_materia         asistencia  \\\n",
              "0   count       44                 44         44                 44   \n",
              "1    mean     None  5.431818181818182       None   85.4090909090909   \n",
              "2  stddev     None  3.446587306190954       None  7.221795762693306   \n",
              "3     min      M3A                  0        0MD                 70   \n",
              "4     max      M3A                 11        5AP                100   \n",
              "\n",
              "     nota_diagnostico       nota_parcial         nota_final  \n",
              "0                  44                 44                 44  \n",
              "1  5.7272727272727275  6.056818181818182  6.139318181818182  \n",
              "2  3.2358000079318754  3.389820447139905  3.494623377070655  \n",
              "3                 1.0                1.0                1.0  \n",
              "4                 9.5                9.5               9.77  "
            ],
            "text/html": [
              "\n",
              "  <div id=\"df-21745640-b5ce-4454-a5db-b15cd2bd15c4\" class=\"colab-df-container\">\n",
              "    <div>\n",
              "<style scoped>\n",
              "    .dataframe tbody tr th:only-of-type {\n",
              "        vertical-align: middle;\n",
              "    }\n",
              "\n",
              "    .dataframe tbody tr th {\n",
              "        vertical-align: top;\n",
              "    }\n",
              "\n",
              "    .dataframe thead th {\n",
              "        text-align: right;\n",
              "    }\n",
              "</style>\n",
              "<table border=\"1\" class=\"dataframe\">\n",
              "  <thead>\n",
              "    <tr style=\"text-align: right;\">\n",
              "      <th></th>\n",
              "      <th>summary</th>\n",
              "      <th>id_curso</th>\n",
              "      <th>id_estudiante</th>\n",
              "      <th>id_materia</th>\n",
              "      <th>asistencia</th>\n",
              "      <th>nota_diagnostico</th>\n",
              "      <th>nota_parcial</th>\n",
              "      <th>nota_final</th>\n",
              "    </tr>\n",
              "  </thead>\n",
              "  <tbody>\n",
              "    <tr>\n",
              "      <th>0</th>\n",
              "      <td>count</td>\n",
              "      <td>44</td>\n",
              "      <td>44</td>\n",
              "      <td>44</td>\n",
              "      <td>44</td>\n",
              "      <td>44</td>\n",
              "      <td>44</td>\n",
              "      <td>44</td>\n",
              "    </tr>\n",
              "    <tr>\n",
              "      <th>1</th>\n",
              "      <td>mean</td>\n",
              "      <td>None</td>\n",
              "      <td>5.431818181818182</td>\n",
              "      <td>None</td>\n",
              "      <td>85.4090909090909</td>\n",
              "      <td>5.7272727272727275</td>\n",
              "      <td>6.056818181818182</td>\n",
              "      <td>6.139318181818182</td>\n",
              "    </tr>\n",
              "    <tr>\n",
              "      <th>2</th>\n",
              "      <td>stddev</td>\n",
              "      <td>None</td>\n",
              "      <td>3.446587306190954</td>\n",
              "      <td>None</td>\n",
              "      <td>7.221795762693306</td>\n",
              "      <td>3.2358000079318754</td>\n",
              "      <td>3.389820447139905</td>\n",
              "      <td>3.494623377070655</td>\n",
              "    </tr>\n",
              "    <tr>\n",
              "      <th>3</th>\n",
              "      <td>min</td>\n",
              "      <td>M3A</td>\n",
              "      <td>0</td>\n",
              "      <td>0MD</td>\n",
              "      <td>70</td>\n",
              "      <td>1.0</td>\n",
              "      <td>1.0</td>\n",
              "      <td>1.0</td>\n",
              "    </tr>\n",
              "    <tr>\n",
              "      <th>4</th>\n",
              "      <td>max</td>\n",
              "      <td>M3A</td>\n",
              "      <td>11</td>\n",
              "      <td>5AP</td>\n",
              "      <td>100</td>\n",
              "      <td>9.5</td>\n",
              "      <td>9.5</td>\n",
              "      <td>9.77</td>\n",
              "    </tr>\n",
              "  </tbody>\n",
              "</table>\n",
              "</div>\n",
              "    <div class=\"colab-df-buttons\">\n",
              "\n",
              "  <div class=\"colab-df-container\">\n",
              "    <button class=\"colab-df-convert\" onclick=\"convertToInteractive('df-21745640-b5ce-4454-a5db-b15cd2bd15c4')\"\n",
              "            title=\"Convert this dataframe to an interactive table.\"\n",
              "            style=\"display:none;\">\n",
              "\n",
              "  <svg xmlns=\"http://www.w3.org/2000/svg\" height=\"24px\" viewBox=\"0 -960 960 960\">\n",
              "    <path d=\"M120-120v-720h720v720H120Zm60-500h600v-160H180v160Zm220 220h160v-160H400v160Zm0 220h160v-160H400v160ZM180-400h160v-160H180v160Zm440 0h160v-160H620v160ZM180-180h160v-160H180v160Zm440 0h160v-160H620v160Z\"/>\n",
              "  </svg>\n",
              "    </button>\n",
              "\n",
              "  <style>\n",
              "    .colab-df-container {\n",
              "      display:flex;\n",
              "      gap: 12px;\n",
              "    }\n",
              "\n",
              "    .colab-df-convert {\n",
              "      background-color: #E8F0FE;\n",
              "      border: none;\n",
              "      border-radius: 50%;\n",
              "      cursor: pointer;\n",
              "      display: none;\n",
              "      fill: #1967D2;\n",
              "      height: 32px;\n",
              "      padding: 0 0 0 0;\n",
              "      width: 32px;\n",
              "    }\n",
              "\n",
              "    .colab-df-convert:hover {\n",
              "      background-color: #E2EBFA;\n",
              "      box-shadow: 0px 1px 2px rgba(60, 64, 67, 0.3), 0px 1px 3px 1px rgba(60, 64, 67, 0.15);\n",
              "      fill: #174EA6;\n",
              "    }\n",
              "\n",
              "    .colab-df-buttons div {\n",
              "      margin-bottom: 4px;\n",
              "    }\n",
              "\n",
              "    [theme=dark] .colab-df-convert {\n",
              "      background-color: #3B4455;\n",
              "      fill: #D2E3FC;\n",
              "    }\n",
              "\n",
              "    [theme=dark] .colab-df-convert:hover {\n",
              "      background-color: #434B5C;\n",
              "      box-shadow: 0px 1px 3px 1px rgba(0, 0, 0, 0.15);\n",
              "      filter: drop-shadow(0px 1px 2px rgba(0, 0, 0, 0.3));\n",
              "      fill: #FFFFFF;\n",
              "    }\n",
              "  </style>\n",
              "\n",
              "    <script>\n",
              "      const buttonEl =\n",
              "        document.querySelector('#df-21745640-b5ce-4454-a5db-b15cd2bd15c4 button.colab-df-convert');\n",
              "      buttonEl.style.display =\n",
              "        google.colab.kernel.accessAllowed ? 'block' : 'none';\n",
              "\n",
              "      async function convertToInteractive(key) {\n",
              "        const element = document.querySelector('#df-21745640-b5ce-4454-a5db-b15cd2bd15c4');\n",
              "        const dataTable =\n",
              "          await google.colab.kernel.invokeFunction('convertToInteractive',\n",
              "                                                    [key], {});\n",
              "        if (!dataTable) return;\n",
              "\n",
              "        const docLinkHtml = 'Like what you see? Visit the ' +\n",
              "          '<a target=\"_blank\" href=https://colab.research.google.com/notebooks/data_table.ipynb>data table notebook</a>'\n",
              "          + ' to learn more about interactive tables.';\n",
              "        element.innerHTML = '';\n",
              "        dataTable['output_type'] = 'display_data';\n",
              "        await google.colab.output.renderOutput(dataTable, element);\n",
              "        const docLink = document.createElement('div');\n",
              "        docLink.innerHTML = docLinkHtml;\n",
              "        element.appendChild(docLink);\n",
              "      }\n",
              "    </script>\n",
              "  </div>\n",
              "\n",
              "\n",
              "<div id=\"df-f6c94c1c-b3d0-43d2-8f6f-d1b91d394692\">\n",
              "  <button class=\"colab-df-quickchart\" onclick=\"quickchart('df-f6c94c1c-b3d0-43d2-8f6f-d1b91d394692')\"\n",
              "            title=\"Suggest charts\"\n",
              "            style=\"display:none;\">\n",
              "\n",
              "<svg xmlns=\"http://www.w3.org/2000/svg\" height=\"24px\"viewBox=\"0 0 24 24\"\n",
              "     width=\"24px\">\n",
              "    <g>\n",
              "        <path d=\"M19 3H5c-1.1 0-2 .9-2 2v14c0 1.1.9 2 2 2h14c1.1 0 2-.9 2-2V5c0-1.1-.9-2-2-2zM9 17H7v-7h2v7zm4 0h-2V7h2v10zm4 0h-2v-4h2v4z\"/>\n",
              "    </g>\n",
              "</svg>\n",
              "  </button>\n",
              "\n",
              "<style>\n",
              "  .colab-df-quickchart {\n",
              "      --bg-color: #E8F0FE;\n",
              "      --fill-color: #1967D2;\n",
              "      --hover-bg-color: #E2EBFA;\n",
              "      --hover-fill-color: #174EA6;\n",
              "      --disabled-fill-color: #AAA;\n",
              "      --disabled-bg-color: #DDD;\n",
              "  }\n",
              "\n",
              "  [theme=dark] .colab-df-quickchart {\n",
              "      --bg-color: #3B4455;\n",
              "      --fill-color: #D2E3FC;\n",
              "      --hover-bg-color: #434B5C;\n",
              "      --hover-fill-color: #FFFFFF;\n",
              "      --disabled-bg-color: #3B4455;\n",
              "      --disabled-fill-color: #666;\n",
              "  }\n",
              "\n",
              "  .colab-df-quickchart {\n",
              "    background-color: var(--bg-color);\n",
              "    border: none;\n",
              "    border-radius: 50%;\n",
              "    cursor: pointer;\n",
              "    display: none;\n",
              "    fill: var(--fill-color);\n",
              "    height: 32px;\n",
              "    padding: 0;\n",
              "    width: 32px;\n",
              "  }\n",
              "\n",
              "  .colab-df-quickchart:hover {\n",
              "    background-color: var(--hover-bg-color);\n",
              "    box-shadow: 0 1px 2px rgba(60, 64, 67, 0.3), 0 1px 3px 1px rgba(60, 64, 67, 0.15);\n",
              "    fill: var(--button-hover-fill-color);\n",
              "  }\n",
              "\n",
              "  .colab-df-quickchart-complete:disabled,\n",
              "  .colab-df-quickchart-complete:disabled:hover {\n",
              "    background-color: var(--disabled-bg-color);\n",
              "    fill: var(--disabled-fill-color);\n",
              "    box-shadow: none;\n",
              "  }\n",
              "\n",
              "  .colab-df-spinner {\n",
              "    border: 2px solid var(--fill-color);\n",
              "    border-color: transparent;\n",
              "    border-bottom-color: var(--fill-color);\n",
              "    animation:\n",
              "      spin 1s steps(1) infinite;\n",
              "  }\n",
              "\n",
              "  @keyframes spin {\n",
              "    0% {\n",
              "      border-color: transparent;\n",
              "      border-bottom-color: var(--fill-color);\n",
              "      border-left-color: var(--fill-color);\n",
              "    }\n",
              "    20% {\n",
              "      border-color: transparent;\n",
              "      border-left-color: var(--fill-color);\n",
              "      border-top-color: var(--fill-color);\n",
              "    }\n",
              "    30% {\n",
              "      border-color: transparent;\n",
              "      border-left-color: var(--fill-color);\n",
              "      border-top-color: var(--fill-color);\n",
              "      border-right-color: var(--fill-color);\n",
              "    }\n",
              "    40% {\n",
              "      border-color: transparent;\n",
              "      border-right-color: var(--fill-color);\n",
              "      border-top-color: var(--fill-color);\n",
              "    }\n",
              "    60% {\n",
              "      border-color: transparent;\n",
              "      border-right-color: var(--fill-color);\n",
              "    }\n",
              "    80% {\n",
              "      border-color: transparent;\n",
              "      border-right-color: var(--fill-color);\n",
              "      border-bottom-color: var(--fill-color);\n",
              "    }\n",
              "    90% {\n",
              "      border-color: transparent;\n",
              "      border-bottom-color: var(--fill-color);\n",
              "    }\n",
              "  }\n",
              "</style>\n",
              "\n",
              "  <script>\n",
              "    async function quickchart(key) {\n",
              "      const quickchartButtonEl =\n",
              "        document.querySelector('#' + key + ' button');\n",
              "      quickchartButtonEl.disabled = true;  // To prevent multiple clicks.\n",
              "      quickchartButtonEl.classList.add('colab-df-spinner');\n",
              "      try {\n",
              "        const charts = await google.colab.kernel.invokeFunction(\n",
              "            'suggestCharts', [key], {});\n",
              "      } catch (error) {\n",
              "        console.error('Error during call to suggestCharts:', error);\n",
              "      }\n",
              "      quickchartButtonEl.classList.remove('colab-df-spinner');\n",
              "      quickchartButtonEl.classList.add('colab-df-quickchart-complete');\n",
              "    }\n",
              "    (() => {\n",
              "      let quickchartButtonEl =\n",
              "        document.querySelector('#df-f6c94c1c-b3d0-43d2-8f6f-d1b91d394692 button');\n",
              "      quickchartButtonEl.style.display =\n",
              "        google.colab.kernel.accessAllowed ? 'block' : 'none';\n",
              "    })();\n",
              "  </script>\n",
              "</div>\n",
              "\n",
              "    </div>\n",
              "  </div>\n"
            ],
            "application/vnd.google.colaboratory.intrinsic+json": {
              "type": "dataframe",
              "summary": "{\n  \"name\": \"curso_df\",\n  \"rows\": 5,\n  \"fields\": [\n    {\n      \"column\": \"summary\",\n      \"properties\": {\n        \"dtype\": \"string\",\n        \"num_unique_values\": 5,\n        \"samples\": [\n          \"mean\",\n          \"max\",\n          \"stddev\"\n        ],\n        \"semantic_type\": \"\",\n        \"description\": \"\"\n      }\n    },\n    {\n      \"column\": \"id_curso\",\n      \"properties\": {\n        \"dtype\": \"category\",\n        \"num_unique_values\": 2,\n        \"samples\": [\n          \"M3A\",\n          \"44\"\n        ],\n        \"semantic_type\": \"\",\n        \"description\": \"\"\n      }\n    },\n    {\n      \"column\": \"id_estudiante\",\n      \"properties\": {\n        \"dtype\": \"string\",\n        \"num_unique_values\": 5,\n        \"samples\": [\n          \"5.431818181818182\",\n          \"11\"\n        ],\n        \"semantic_type\": \"\",\n        \"description\": \"\"\n      }\n    },\n    {\n      \"column\": \"id_materia\",\n      \"properties\": {\n        \"dtype\": \"string\",\n        \"num_unique_values\": 3,\n        \"samples\": [\n          \"44\",\n          \"0MD\"\n        ],\n        \"semantic_type\": \"\",\n        \"description\": \"\"\n      }\n    },\n    {\n      \"column\": \"asistencia\",\n      \"properties\": {\n        \"dtype\": \"string\",\n        \"num_unique_values\": 5,\n        \"samples\": [\n          \"85.4090909090909\",\n          \"100\"\n        ],\n        \"semantic_type\": \"\",\n        \"description\": \"\"\n      }\n    },\n    {\n      \"column\": \"nota_diagnostico\",\n      \"properties\": {\n        \"dtype\": \"string\",\n        \"num_unique_values\": 5,\n        \"samples\": [\n          \"5.7272727272727275\",\n          \"9.5\"\n        ],\n        \"semantic_type\": \"\",\n        \"description\": \"\"\n      }\n    },\n    {\n      \"column\": \"nota_parcial\",\n      \"properties\": {\n        \"dtype\": \"string\",\n        \"num_unique_values\": 5,\n        \"samples\": [\n          \"6.056818181818182\",\n          \"9.5\"\n        ],\n        \"semantic_type\": \"\",\n        \"description\": \"\"\n      }\n    },\n    {\n      \"column\": \"nota_final\",\n      \"properties\": {\n        \"dtype\": \"string\",\n        \"num_unique_values\": 5,\n        \"samples\": [\n          \"6.139318181818182\",\n          \"9.77\"\n        ],\n        \"semantic_type\": \"\",\n        \"description\": \"\"\n      }\n    }\n  ]\n}"
            }
          },
          "metadata": {},
          "execution_count": 17
        }
      ],
      "source": [
        "# Basics stats from our columns\n",
        "curso_df.describe().toPandas()"
      ]
    },
    {
      "cell_type": "code",
      "source": [
        "!pip install pandas-profiling\n"
      ],
      "metadata": {
        "colab": {
          "base_uri": "https://localhost:8080/"
        },
        "id": "tb2MxfXgCLRA",
        "outputId": "f54aaf65-9127-4c06-ba2a-748d14f4e41b"
      },
      "execution_count": 20,
      "outputs": [
        {
          "output_type": "stream",
          "name": "stdout",
          "text": [
            "Collecting pandas-profiling\n",
            "  Downloading pandas_profiling-3.6.6-py2.py3-none-any.whl (324 kB)\n",
            "\u001b[2K     \u001b[90m━━━━━━━━━━━━━━━━━━━━━━━━━━━━━━━━━━━━━━━━\u001b[0m \u001b[32m324.4/324.4 kB\u001b[0m \u001b[31m5.9 MB/s\u001b[0m eta \u001b[36m0:00:00\u001b[0m\n",
            "\u001b[?25hCollecting ydata-profiling (from pandas-profiling)\n",
            "  Downloading ydata_profiling-4.8.3-py2.py3-none-any.whl (359 kB)\n",
            "\u001b[2K     \u001b[90m━━━━━━━━━━━━━━━━━━━━━━━━━━━━━━━━━━━━━━━━\u001b[0m \u001b[32m359.5/359.5 kB\u001b[0m \u001b[31m11.4 MB/s\u001b[0m eta \u001b[36m0:00:00\u001b[0m\n",
            "\u001b[?25hRequirement already satisfied: scipy<1.14,>=1.4.1 in /usr/local/lib/python3.10/dist-packages (from ydata-profiling->pandas-profiling) (1.11.4)\n",
            "Requirement already satisfied: pandas!=1.4.0,<3,>1.1 in /usr/local/lib/python3.10/dist-packages (from ydata-profiling->pandas-profiling) (2.0.3)\n",
            "Requirement already satisfied: matplotlib<3.9,>=3.2 in /usr/local/lib/python3.10/dist-packages (from ydata-profiling->pandas-profiling) (3.7.1)\n",
            "Requirement already satisfied: pydantic>=2 in /usr/local/lib/python3.10/dist-packages (from ydata-profiling->pandas-profiling) (2.8.0)\n",
            "Requirement already satisfied: PyYAML<6.1,>=5.0.0 in /usr/local/lib/python3.10/dist-packages (from ydata-profiling->pandas-profiling) (6.0.1)\n",
            "Requirement already satisfied: jinja2<3.2,>=2.11.1 in /usr/local/lib/python3.10/dist-packages (from ydata-profiling->pandas-profiling) (3.1.4)\n",
            "Collecting visions[type_image_path]<0.7.7,>=0.7.5 (from ydata-profiling->pandas-profiling)\n",
            "  Downloading visions-0.7.6-py3-none-any.whl (104 kB)\n",
            "\u001b[2K     \u001b[90m━━━━━━━━━━━━━━━━━━━━━━━━━━━━━━━━━━━━━━━━\u001b[0m \u001b[32m104.8/104.8 kB\u001b[0m \u001b[31m8.9 MB/s\u001b[0m eta \u001b[36m0:00:00\u001b[0m\n",
            "\u001b[?25hRequirement already satisfied: numpy<2,>=1.16.0 in /usr/local/lib/python3.10/dist-packages (from ydata-profiling->pandas-profiling) (1.25.2)\n",
            "Collecting htmlmin==0.1.12 (from ydata-profiling->pandas-profiling)\n",
            "  Downloading htmlmin-0.1.12.tar.gz (19 kB)\n",
            "  Preparing metadata (setup.py) ... \u001b[?25l\u001b[?25hdone\n",
            "Collecting phik<0.13,>=0.11.1 (from ydata-profiling->pandas-profiling)\n",
            "  Downloading phik-0.12.4-cp310-cp310-manylinux_2_17_x86_64.manylinux2014_x86_64.whl (686 kB)\n",
            "\u001b[2K     \u001b[90m━━━━━━━━━━━━━━━━━━━━━━━━━━━━━━━━━━━━━━━━\u001b[0m \u001b[32m686.1/686.1 kB\u001b[0m \u001b[31m15.1 MB/s\u001b[0m eta \u001b[36m0:00:00\u001b[0m\n",
            "\u001b[?25hRequirement already satisfied: requests<3,>=2.24.0 in /usr/local/lib/python3.10/dist-packages (from ydata-profiling->pandas-profiling) (2.31.0)\n",
            "Requirement already satisfied: tqdm<5,>=4.48.2 in /usr/local/lib/python3.10/dist-packages (from ydata-profiling->pandas-profiling) (4.66.4)\n",
            "Requirement already satisfied: seaborn<0.14,>=0.10.1 in /usr/local/lib/python3.10/dist-packages (from ydata-profiling->pandas-profiling) (0.13.1)\n",
            "Collecting multimethod<2,>=1.4 (from ydata-profiling->pandas-profiling)\n",
            "  Downloading multimethod-1.12-py3-none-any.whl (10 kB)\n",
            "Requirement already satisfied: statsmodels<1,>=0.13.2 in /usr/local/lib/python3.10/dist-packages (from ydata-profiling->pandas-profiling) (0.14.2)\n",
            "Collecting typeguard<5,>=3 (from ydata-profiling->pandas-profiling)\n",
            "  Downloading typeguard-4.3.0-py3-none-any.whl (35 kB)\n",
            "Collecting imagehash==4.3.1 (from ydata-profiling->pandas-profiling)\n",
            "  Downloading ImageHash-4.3.1-py2.py3-none-any.whl (296 kB)\n",
            "\u001b[2K     \u001b[90m━━━━━━━━━━━━━━━━━━━━━━━━━━━━━━━━━━━━━━━━\u001b[0m \u001b[32m296.5/296.5 kB\u001b[0m \u001b[31m15.3 MB/s\u001b[0m eta \u001b[36m0:00:00\u001b[0m\n",
            "\u001b[?25hRequirement already satisfied: wordcloud>=1.9.1 in /usr/local/lib/python3.10/dist-packages (from ydata-profiling->pandas-profiling) (1.9.3)\n",
            "Collecting dacite>=1.8 (from ydata-profiling->pandas-profiling)\n",
            "  Downloading dacite-1.8.1-py3-none-any.whl (14 kB)\n",
            "Requirement already satisfied: numba<1,>=0.56.0 in /usr/local/lib/python3.10/dist-packages (from ydata-profiling->pandas-profiling) (0.58.1)\n",
            "Requirement already satisfied: PyWavelets in /usr/local/lib/python3.10/dist-packages (from imagehash==4.3.1->ydata-profiling->pandas-profiling) (1.6.0)\n",
            "Requirement already satisfied: pillow in /usr/local/lib/python3.10/dist-packages (from imagehash==4.3.1->ydata-profiling->pandas-profiling) (9.4.0)\n",
            "Requirement already satisfied: MarkupSafe>=2.0 in /usr/local/lib/python3.10/dist-packages (from jinja2<3.2,>=2.11.1->ydata-profiling->pandas-profiling) (2.1.5)\n",
            "Requirement already satisfied: contourpy>=1.0.1 in /usr/local/lib/python3.10/dist-packages (from matplotlib<3.9,>=3.2->ydata-profiling->pandas-profiling) (1.2.1)\n",
            "Requirement already satisfied: cycler>=0.10 in /usr/local/lib/python3.10/dist-packages (from matplotlib<3.9,>=3.2->ydata-profiling->pandas-profiling) (0.12.1)\n",
            "Requirement already satisfied: fonttools>=4.22.0 in /usr/local/lib/python3.10/dist-packages (from matplotlib<3.9,>=3.2->ydata-profiling->pandas-profiling) (4.53.0)\n",
            "Requirement already satisfied: kiwisolver>=1.0.1 in /usr/local/lib/python3.10/dist-packages (from matplotlib<3.9,>=3.2->ydata-profiling->pandas-profiling) (1.4.5)\n",
            "Requirement already satisfied: packaging>=20.0 in /usr/local/lib/python3.10/dist-packages (from matplotlib<3.9,>=3.2->ydata-profiling->pandas-profiling) (24.1)\n",
            "Requirement already satisfied: pyparsing>=2.3.1 in /usr/local/lib/python3.10/dist-packages (from matplotlib<3.9,>=3.2->ydata-profiling->pandas-profiling) (3.1.2)\n",
            "Requirement already satisfied: python-dateutil>=2.7 in /usr/local/lib/python3.10/dist-packages (from matplotlib<3.9,>=3.2->ydata-profiling->pandas-profiling) (2.8.2)\n",
            "Requirement already satisfied: llvmlite<0.42,>=0.41.0dev0 in /usr/local/lib/python3.10/dist-packages (from numba<1,>=0.56.0->ydata-profiling->pandas-profiling) (0.41.1)\n",
            "Requirement already satisfied: pytz>=2020.1 in /usr/local/lib/python3.10/dist-packages (from pandas!=1.4.0,<3,>1.1->ydata-profiling->pandas-profiling) (2023.4)\n",
            "Requirement already satisfied: tzdata>=2022.1 in /usr/local/lib/python3.10/dist-packages (from pandas!=1.4.0,<3,>1.1->ydata-profiling->pandas-profiling) (2024.1)\n",
            "Requirement already satisfied: joblib>=0.14.1 in /usr/local/lib/python3.10/dist-packages (from phik<0.13,>=0.11.1->ydata-profiling->pandas-profiling) (1.4.2)\n",
            "Requirement already satisfied: annotated-types>=0.4.0 in /usr/local/lib/python3.10/dist-packages (from pydantic>=2->ydata-profiling->pandas-profiling) (0.7.0)\n",
            "Requirement already satisfied: pydantic-core==2.20.0 in /usr/local/lib/python3.10/dist-packages (from pydantic>=2->ydata-profiling->pandas-profiling) (2.20.0)\n",
            "Requirement already satisfied: typing-extensions>=4.6.1 in /usr/local/lib/python3.10/dist-packages (from pydantic>=2->ydata-profiling->pandas-profiling) (4.12.2)\n",
            "Requirement already satisfied: charset-normalizer<4,>=2 in /usr/local/lib/python3.10/dist-packages (from requests<3,>=2.24.0->ydata-profiling->pandas-profiling) (3.3.2)\n",
            "Requirement already satisfied: idna<4,>=2.5 in /usr/local/lib/python3.10/dist-packages (from requests<3,>=2.24.0->ydata-profiling->pandas-profiling) (3.7)\n",
            "Requirement already satisfied: urllib3<3,>=1.21.1 in /usr/local/lib/python3.10/dist-packages (from requests<3,>=2.24.0->ydata-profiling->pandas-profiling) (2.0.7)\n",
            "Requirement already satisfied: certifi>=2017.4.17 in /usr/local/lib/python3.10/dist-packages (from requests<3,>=2.24.0->ydata-profiling->pandas-profiling) (2024.6.2)\n",
            "Requirement already satisfied: patsy>=0.5.6 in /usr/local/lib/python3.10/dist-packages (from statsmodels<1,>=0.13.2->ydata-profiling->pandas-profiling) (0.5.6)\n",
            "Requirement already satisfied: attrs>=19.3.0 in /usr/local/lib/python3.10/dist-packages (from visions[type_image_path]<0.7.7,>=0.7.5->ydata-profiling->pandas-profiling) (23.2.0)\n",
            "Requirement already satisfied: networkx>=2.4 in /usr/local/lib/python3.10/dist-packages (from visions[type_image_path]<0.7.7,>=0.7.5->ydata-profiling->pandas-profiling) (3.3)\n",
            "Requirement already satisfied: six in /usr/local/lib/python3.10/dist-packages (from patsy>=0.5.6->statsmodels<1,>=0.13.2->ydata-profiling->pandas-profiling) (1.16.0)\n",
            "Building wheels for collected packages: htmlmin\n",
            "  Building wheel for htmlmin (setup.py) ... \u001b[?25l\u001b[?25hdone\n",
            "  Created wheel for htmlmin: filename=htmlmin-0.1.12-py3-none-any.whl size=27080 sha256=9be56fbee4b8cee1695a40584e3fe25603bf2faa207914b9667a4d671ddba382\n",
            "  Stored in directory: /root/.cache/pip/wheels/dd/91/29/a79cecb328d01739e64017b6fb9a1ab9d8cb1853098ec5966d\n",
            "Successfully built htmlmin\n",
            "Installing collected packages: htmlmin, typeguard, multimethod, dacite, imagehash, visions, phik, ydata-profiling, pandas-profiling\n",
            "Successfully installed dacite-1.8.1 htmlmin-0.1.12 imagehash-4.3.1 multimethod-1.12 pandas-profiling-3.6.6 phik-0.12.4 typeguard-4.3.0 visions-0.7.6 ydata-profiling-4.8.3\n"
          ]
        }
      ]
    },
    {
      "cell_type": "code",
      "source": [
        "!pip install findspark pyspark pandas-profiling\n"
      ],
      "metadata": {
        "colab": {
          "base_uri": "https://localhost:8080/"
        },
        "id": "5VmtjG8yCoC7",
        "outputId": "e46b536f-7c92-482c-ed9a-5e01989a15c0"
      },
      "execution_count": 22,
      "outputs": [
        {
          "output_type": "stream",
          "name": "stdout",
          "text": [
            "Requirement already satisfied: findspark in /usr/local/lib/python3.10/dist-packages (2.0.1)\n",
            "Requirement already satisfied: pyspark in /usr/local/lib/python3.10/dist-packages (3.5.1)\n",
            "Requirement already satisfied: pandas-profiling in /usr/local/lib/python3.10/dist-packages (3.6.6)\n",
            "Requirement already satisfied: py4j==0.10.9.7 in /usr/local/lib/python3.10/dist-packages (from pyspark) (0.10.9.7)\n",
            "Requirement already satisfied: ydata-profiling in /usr/local/lib/python3.10/dist-packages (from pandas-profiling) (4.8.3)\n",
            "Requirement already satisfied: scipy<1.14,>=1.4.1 in /usr/local/lib/python3.10/dist-packages (from ydata-profiling->pandas-profiling) (1.11.4)\n",
            "Requirement already satisfied: pandas!=1.4.0,<3,>1.1 in /usr/local/lib/python3.10/dist-packages (from ydata-profiling->pandas-profiling) (2.0.3)\n",
            "Requirement already satisfied: matplotlib<3.9,>=3.2 in /usr/local/lib/python3.10/dist-packages (from ydata-profiling->pandas-profiling) (3.7.1)\n",
            "Requirement already satisfied: pydantic>=2 in /usr/local/lib/python3.10/dist-packages (from ydata-profiling->pandas-profiling) (2.8.0)\n",
            "Requirement already satisfied: PyYAML<6.1,>=5.0.0 in /usr/local/lib/python3.10/dist-packages (from ydata-profiling->pandas-profiling) (6.0.1)\n",
            "Requirement already satisfied: jinja2<3.2,>=2.11.1 in /usr/local/lib/python3.10/dist-packages (from ydata-profiling->pandas-profiling) (3.1.4)\n",
            "Requirement already satisfied: visions[type_image_path]<0.7.7,>=0.7.5 in /usr/local/lib/python3.10/dist-packages (from ydata-profiling->pandas-profiling) (0.7.6)\n",
            "Requirement already satisfied: numpy<2,>=1.16.0 in /usr/local/lib/python3.10/dist-packages (from ydata-profiling->pandas-profiling) (1.25.2)\n",
            "Requirement already satisfied: htmlmin==0.1.12 in /usr/local/lib/python3.10/dist-packages (from ydata-profiling->pandas-profiling) (0.1.12)\n",
            "Requirement already satisfied: phik<0.13,>=0.11.1 in /usr/local/lib/python3.10/dist-packages (from ydata-profiling->pandas-profiling) (0.12.4)\n",
            "Requirement already satisfied: requests<3,>=2.24.0 in /usr/local/lib/python3.10/dist-packages (from ydata-profiling->pandas-profiling) (2.31.0)\n",
            "Requirement already satisfied: tqdm<5,>=4.48.2 in /usr/local/lib/python3.10/dist-packages (from ydata-profiling->pandas-profiling) (4.66.4)\n",
            "Requirement already satisfied: seaborn<0.14,>=0.10.1 in /usr/local/lib/python3.10/dist-packages (from ydata-profiling->pandas-profiling) (0.13.1)\n",
            "Requirement already satisfied: multimethod<2,>=1.4 in /usr/local/lib/python3.10/dist-packages (from ydata-profiling->pandas-profiling) (1.12)\n",
            "Requirement already satisfied: statsmodels<1,>=0.13.2 in /usr/local/lib/python3.10/dist-packages (from ydata-profiling->pandas-profiling) (0.14.2)\n",
            "Requirement already satisfied: typeguard<5,>=3 in /usr/local/lib/python3.10/dist-packages (from ydata-profiling->pandas-profiling) (4.3.0)\n",
            "Requirement already satisfied: imagehash==4.3.1 in /usr/local/lib/python3.10/dist-packages (from ydata-profiling->pandas-profiling) (4.3.1)\n",
            "Requirement already satisfied: wordcloud>=1.9.1 in /usr/local/lib/python3.10/dist-packages (from ydata-profiling->pandas-profiling) (1.9.3)\n",
            "Requirement already satisfied: dacite>=1.8 in /usr/local/lib/python3.10/dist-packages (from ydata-profiling->pandas-profiling) (1.8.1)\n",
            "Requirement already satisfied: numba<1,>=0.56.0 in /usr/local/lib/python3.10/dist-packages (from ydata-profiling->pandas-profiling) (0.58.1)\n",
            "Requirement already satisfied: PyWavelets in /usr/local/lib/python3.10/dist-packages (from imagehash==4.3.1->ydata-profiling->pandas-profiling) (1.6.0)\n",
            "Requirement already satisfied: pillow in /usr/local/lib/python3.10/dist-packages (from imagehash==4.3.1->ydata-profiling->pandas-profiling) (9.4.0)\n",
            "Requirement already satisfied: MarkupSafe>=2.0 in /usr/local/lib/python3.10/dist-packages (from jinja2<3.2,>=2.11.1->ydata-profiling->pandas-profiling) (2.1.5)\n",
            "Requirement already satisfied: contourpy>=1.0.1 in /usr/local/lib/python3.10/dist-packages (from matplotlib<3.9,>=3.2->ydata-profiling->pandas-profiling) (1.2.1)\n",
            "Requirement already satisfied: cycler>=0.10 in /usr/local/lib/python3.10/dist-packages (from matplotlib<3.9,>=3.2->ydata-profiling->pandas-profiling) (0.12.1)\n",
            "Requirement already satisfied: fonttools>=4.22.0 in /usr/local/lib/python3.10/dist-packages (from matplotlib<3.9,>=3.2->ydata-profiling->pandas-profiling) (4.53.0)\n",
            "Requirement already satisfied: kiwisolver>=1.0.1 in /usr/local/lib/python3.10/dist-packages (from matplotlib<3.9,>=3.2->ydata-profiling->pandas-profiling) (1.4.5)\n",
            "Requirement already satisfied: packaging>=20.0 in /usr/local/lib/python3.10/dist-packages (from matplotlib<3.9,>=3.2->ydata-profiling->pandas-profiling) (24.1)\n",
            "Requirement already satisfied: pyparsing>=2.3.1 in /usr/local/lib/python3.10/dist-packages (from matplotlib<3.9,>=3.2->ydata-profiling->pandas-profiling) (3.1.2)\n",
            "Requirement already satisfied: python-dateutil>=2.7 in /usr/local/lib/python3.10/dist-packages (from matplotlib<3.9,>=3.2->ydata-profiling->pandas-profiling) (2.8.2)\n",
            "Requirement already satisfied: llvmlite<0.42,>=0.41.0dev0 in /usr/local/lib/python3.10/dist-packages (from numba<1,>=0.56.0->ydata-profiling->pandas-profiling) (0.41.1)\n",
            "Requirement already satisfied: pytz>=2020.1 in /usr/local/lib/python3.10/dist-packages (from pandas!=1.4.0,<3,>1.1->ydata-profiling->pandas-profiling) (2023.4)\n",
            "Requirement already satisfied: tzdata>=2022.1 in /usr/local/lib/python3.10/dist-packages (from pandas!=1.4.0,<3,>1.1->ydata-profiling->pandas-profiling) (2024.1)\n",
            "Requirement already satisfied: joblib>=0.14.1 in /usr/local/lib/python3.10/dist-packages (from phik<0.13,>=0.11.1->ydata-profiling->pandas-profiling) (1.4.2)\n",
            "Requirement already satisfied: annotated-types>=0.4.0 in /usr/local/lib/python3.10/dist-packages (from pydantic>=2->ydata-profiling->pandas-profiling) (0.7.0)\n",
            "Requirement already satisfied: pydantic-core==2.20.0 in /usr/local/lib/python3.10/dist-packages (from pydantic>=2->ydata-profiling->pandas-profiling) (2.20.0)\n",
            "Requirement already satisfied: typing-extensions>=4.6.1 in /usr/local/lib/python3.10/dist-packages (from pydantic>=2->ydata-profiling->pandas-profiling) (4.12.2)\n",
            "Requirement already satisfied: charset-normalizer<4,>=2 in /usr/local/lib/python3.10/dist-packages (from requests<3,>=2.24.0->ydata-profiling->pandas-profiling) (3.3.2)\n",
            "Requirement already satisfied: idna<4,>=2.5 in /usr/local/lib/python3.10/dist-packages (from requests<3,>=2.24.0->ydata-profiling->pandas-profiling) (3.7)\n",
            "Requirement already satisfied: urllib3<3,>=1.21.1 in /usr/local/lib/python3.10/dist-packages (from requests<3,>=2.24.0->ydata-profiling->pandas-profiling) (2.0.7)\n",
            "Requirement already satisfied: certifi>=2017.4.17 in /usr/local/lib/python3.10/dist-packages (from requests<3,>=2.24.0->ydata-profiling->pandas-profiling) (2024.6.2)\n",
            "Requirement already satisfied: patsy>=0.5.6 in /usr/local/lib/python3.10/dist-packages (from statsmodels<1,>=0.13.2->ydata-profiling->pandas-profiling) (0.5.6)\n",
            "Requirement already satisfied: attrs>=19.3.0 in /usr/local/lib/python3.10/dist-packages (from visions[type_image_path]<0.7.7,>=0.7.5->ydata-profiling->pandas-profiling) (23.2.0)\n",
            "Requirement already satisfied: networkx>=2.4 in /usr/local/lib/python3.10/dist-packages (from visions[type_image_path]<0.7.7,>=0.7.5->ydata-profiling->pandas-profiling) (3.3)\n",
            "Requirement already satisfied: six in /usr/local/lib/python3.10/dist-packages (from patsy>=0.5.6->statsmodels<1,>=0.13.2->ydata-profiling->pandas-profiling) (1.16.0)\n"
          ]
        }
      ]
    },
    {
      "cell_type": "code",
      "source": [
        "!pip install sweetviz\n"
      ],
      "metadata": {
        "colab": {
          "base_uri": "https://localhost:8080/"
        },
        "id": "_AqDjUS2C_Sx",
        "outputId": "45d73a15-de0c-4dd2-8501-2686a88b3920"
      },
      "execution_count": 24,
      "outputs": [
        {
          "output_type": "stream",
          "name": "stdout",
          "text": [
            "Collecting sweetviz\n",
            "  Downloading sweetviz-2.3.1-py3-none-any.whl (15.1 MB)\n",
            "\u001b[2K     \u001b[90m━━━━━━━━━━━━━━━━━━━━━━━━━━━━━━━━━━━━━━━━\u001b[0m \u001b[32m15.1/15.1 MB\u001b[0m \u001b[31m41.3 MB/s\u001b[0m eta \u001b[36m0:00:00\u001b[0m\n",
            "\u001b[?25hRequirement already satisfied: pandas!=1.0.0,!=1.0.1,!=1.0.2,>=0.25.3 in /usr/local/lib/python3.10/dist-packages (from sweetviz) (2.0.3)\n",
            "Requirement already satisfied: numpy>=1.16.0 in /usr/local/lib/python3.10/dist-packages (from sweetviz) (1.25.2)\n",
            "Requirement already satisfied: matplotlib>=3.1.3 in /usr/local/lib/python3.10/dist-packages (from sweetviz) (3.7.1)\n",
            "Requirement already satisfied: tqdm>=4.43.0 in /usr/local/lib/python3.10/dist-packages (from sweetviz) (4.66.4)\n",
            "Requirement already satisfied: scipy>=1.3.2 in /usr/local/lib/python3.10/dist-packages (from sweetviz) (1.11.4)\n",
            "Requirement already satisfied: jinja2>=2.11.1 in /usr/local/lib/python3.10/dist-packages (from sweetviz) (3.1.4)\n",
            "Requirement already satisfied: importlib-resources>=1.2.0 in /usr/local/lib/python3.10/dist-packages (from sweetviz) (6.4.0)\n",
            "Requirement already satisfied: MarkupSafe>=2.0 in /usr/local/lib/python3.10/dist-packages (from jinja2>=2.11.1->sweetviz) (2.1.5)\n",
            "Requirement already satisfied: contourpy>=1.0.1 in /usr/local/lib/python3.10/dist-packages (from matplotlib>=3.1.3->sweetviz) (1.2.1)\n",
            "Requirement already satisfied: cycler>=0.10 in /usr/local/lib/python3.10/dist-packages (from matplotlib>=3.1.3->sweetviz) (0.12.1)\n",
            "Requirement already satisfied: fonttools>=4.22.0 in /usr/local/lib/python3.10/dist-packages (from matplotlib>=3.1.3->sweetviz) (4.53.0)\n",
            "Requirement already satisfied: kiwisolver>=1.0.1 in /usr/local/lib/python3.10/dist-packages (from matplotlib>=3.1.3->sweetviz) (1.4.5)\n",
            "Requirement already satisfied: packaging>=20.0 in /usr/local/lib/python3.10/dist-packages (from matplotlib>=3.1.3->sweetviz) (24.1)\n",
            "Requirement already satisfied: pillow>=6.2.0 in /usr/local/lib/python3.10/dist-packages (from matplotlib>=3.1.3->sweetviz) (9.4.0)\n",
            "Requirement already satisfied: pyparsing>=2.3.1 in /usr/local/lib/python3.10/dist-packages (from matplotlib>=3.1.3->sweetviz) (3.1.2)\n",
            "Requirement already satisfied: python-dateutil>=2.7 in /usr/local/lib/python3.10/dist-packages (from matplotlib>=3.1.3->sweetviz) (2.8.2)\n",
            "Requirement already satisfied: pytz>=2020.1 in /usr/local/lib/python3.10/dist-packages (from pandas!=1.0.0,!=1.0.1,!=1.0.2,>=0.25.3->sweetviz) (2023.4)\n",
            "Requirement already satisfied: tzdata>=2022.1 in /usr/local/lib/python3.10/dist-packages (from pandas!=1.0.0,!=1.0.1,!=1.0.2,>=0.25.3->sweetviz) (2024.1)\n",
            "Requirement already satisfied: six>=1.5 in /usr/local/lib/python3.10/dist-packages (from python-dateutil>=2.7->matplotlib>=3.1.3->sweetviz) (1.16.0)\n",
            "Installing collected packages: sweetviz\n",
            "Successfully installed sweetviz-2.3.1\n"
          ]
        }
      ]
    },
    {
      "cell_type": "code",
      "source": [
        "!pip install findspark pyspark sweetviz\n"
      ],
      "metadata": {
        "colab": {
          "base_uri": "https://localhost:8080/"
        },
        "id": "CtF8RPqNC8V_",
        "outputId": "2fcb25e2-e23e-4eaa-ca0e-eb8093bef742"
      },
      "execution_count": 25,
      "outputs": [
        {
          "output_type": "stream",
          "name": "stdout",
          "text": [
            "Requirement already satisfied: findspark in /usr/local/lib/python3.10/dist-packages (2.0.1)\n",
            "Requirement already satisfied: pyspark in /usr/local/lib/python3.10/dist-packages (3.5.1)\n",
            "Requirement already satisfied: sweetviz in /usr/local/lib/python3.10/dist-packages (2.3.1)\n",
            "Requirement already satisfied: py4j==0.10.9.7 in /usr/local/lib/python3.10/dist-packages (from pyspark) (0.10.9.7)\n",
            "Requirement already satisfied: pandas!=1.0.0,!=1.0.1,!=1.0.2,>=0.25.3 in /usr/local/lib/python3.10/dist-packages (from sweetviz) (2.0.3)\n",
            "Requirement already satisfied: numpy>=1.16.0 in /usr/local/lib/python3.10/dist-packages (from sweetviz) (1.25.2)\n",
            "Requirement already satisfied: matplotlib>=3.1.3 in /usr/local/lib/python3.10/dist-packages (from sweetviz) (3.7.1)\n",
            "Requirement already satisfied: tqdm>=4.43.0 in /usr/local/lib/python3.10/dist-packages (from sweetviz) (4.66.4)\n",
            "Requirement already satisfied: scipy>=1.3.2 in /usr/local/lib/python3.10/dist-packages (from sweetviz) (1.11.4)\n",
            "Requirement already satisfied: jinja2>=2.11.1 in /usr/local/lib/python3.10/dist-packages (from sweetviz) (3.1.4)\n",
            "Requirement already satisfied: importlib-resources>=1.2.0 in /usr/local/lib/python3.10/dist-packages (from sweetviz) (6.4.0)\n",
            "Requirement already satisfied: MarkupSafe>=2.0 in /usr/local/lib/python3.10/dist-packages (from jinja2>=2.11.1->sweetviz) (2.1.5)\n",
            "Requirement already satisfied: contourpy>=1.0.1 in /usr/local/lib/python3.10/dist-packages (from matplotlib>=3.1.3->sweetviz) (1.2.1)\n",
            "Requirement already satisfied: cycler>=0.10 in /usr/local/lib/python3.10/dist-packages (from matplotlib>=3.1.3->sweetviz) (0.12.1)\n",
            "Requirement already satisfied: fonttools>=4.22.0 in /usr/local/lib/python3.10/dist-packages (from matplotlib>=3.1.3->sweetviz) (4.53.0)\n",
            "Requirement already satisfied: kiwisolver>=1.0.1 in /usr/local/lib/python3.10/dist-packages (from matplotlib>=3.1.3->sweetviz) (1.4.5)\n",
            "Requirement already satisfied: packaging>=20.0 in /usr/local/lib/python3.10/dist-packages (from matplotlib>=3.1.3->sweetviz) (24.1)\n",
            "Requirement already satisfied: pillow>=6.2.0 in /usr/local/lib/python3.10/dist-packages (from matplotlib>=3.1.3->sweetviz) (9.4.0)\n",
            "Requirement already satisfied: pyparsing>=2.3.1 in /usr/local/lib/python3.10/dist-packages (from matplotlib>=3.1.3->sweetviz) (3.1.2)\n",
            "Requirement already satisfied: python-dateutil>=2.7 in /usr/local/lib/python3.10/dist-packages (from matplotlib>=3.1.3->sweetviz) (2.8.2)\n",
            "Requirement already satisfied: pytz>=2020.1 in /usr/local/lib/python3.10/dist-packages (from pandas!=1.0.0,!=1.0.1,!=1.0.2,>=0.25.3->sweetviz) (2023.4)\n",
            "Requirement already satisfied: tzdata>=2022.1 in /usr/local/lib/python3.10/dist-packages (from pandas!=1.0.0,!=1.0.1,!=1.0.2,>=0.25.3->sweetviz) (2024.1)\n",
            "Requirement already satisfied: six>=1.5 in /usr/local/lib/python3.10/dist-packages (from python-dateutil>=2.7->matplotlib>=3.1.3->sweetviz) (1.16.0)\n"
          ]
        }
      ]
    },
    {
      "cell_type": "code",
      "execution_count": 32,
      "metadata": {
        "id": "OD2qiWQK4fGx",
        "outputId": "c61f927b-b376-4056-da84-9675f842610e",
        "colab": {
          "referenced_widgets": [
            "5bf02e38ff9b4b92bba61bc38598f8e1",
            "95b038eab4194ff986641b7a2d44a222",
            "82950a16c1a94d51bb203832355101dc",
            "c38b89dee14044de89f627d96ab601a7",
            "c89cf16c384348df869d4d0d35d2edb3",
            "03f82391c5e7406da374f04d6f794a85",
            "7eb8eb02cc3e46ec96cedc3a86e65f90",
            "516ea729f657497fac8c543aa2c8d3b5",
            "48052a9de82b4be2ac83fd3966e013c9",
            "bdf30244f7c4440e9409a6fcb18049cd",
            "87a2ce2a9a3a4e0b97107057fbd3d24b"
          ],
          "base_uri": "https://localhost:8080/",
          "height": 104
        }
      },
      "outputs": [
        {
          "output_type": "display_data",
          "data": {
            "text/plain": [
              "                                             |          | [  0%]   00:00 -> (? left)"
            ],
            "application/vnd.jupyter.widget-view+json": {
              "version_major": 2,
              "version_minor": 0,
              "model_id": "5bf02e38ff9b4b92bba61bc38598f8e1"
            }
          },
          "metadata": {}
        },
        {
          "output_type": "stream",
          "name": "stdout",
          "text": [
            "Report Reporte_Cursos.html was generated.\n",
            "Report Reporte_Cursos.html was generated! NOTEBOOK/COLAB USERS: the web browser MAY not pop up, regardless, the report IS saved in your notebook/colab files.\n"
          ]
        }
      ],
      "source": [
        "import sweetviz as sv\n",
        "# Convertir el DataFrame de cursos a pandas para el análisis\n",
        "df_pandas = curso_df.toPandas()\n",
        "\n",
        "# Generar el análisis de datos con Sweetviz\n",
        "reporte = sv.analyze(df_pandas)\n",
        "reporte.show_html('Reporte_Cursos.html', open_browser=False)\n",
        "\n",
        "# Mostrar el reporte generado\n",
        "reporte.show_html('Reporte_Cursos.html')"
      ]
    },
    {
      "cell_type": "code",
      "execution_count": 33,
      "metadata": {
        "id": "9P0YYz1A4fGy",
        "outputId": "5b5f4989-9958-4b0f-fd6a-bf0bca545a5e",
        "colab": {
          "base_uri": "https://localhost:8080/"
        }
      },
      "outputs": [
        {
          "output_type": "stream",
          "name": "stdout",
          "text": [
            "Report data.html was generated.\n"
          ]
        }
      ],
      "source": [
        "reporte.show_html('data.html', open_browser=False)"
      ]
    },
    {
      "cell_type": "markdown",
      "metadata": {
        "id": "vBtvdAoR4fGy"
      },
      "source": [
        "#### Fase 2. Pre-procesamiento de datos"
      ]
    },
    {
      "cell_type": "code",
      "execution_count": 34,
      "metadata": {
        "id": "UU0qY9S14fGy",
        "outputId": "a34747b4-70bd-458b-e7e6-705aeb173d06",
        "colab": {
          "base_uri": "https://localhost:8080/"
        }
      },
      "outputs": [
        {
          "output_type": "stream",
          "name": "stdout",
          "text": [
            "+--------+-------------+----------+----------+----------------+------------+----------+\n",
            "|id_curso|id_estudiante|id_materia|asistencia|nota_diagnostico|nota_parcial|nota_final|\n",
            "+--------+-------------+----------+----------+----------------+------------+----------+\n",
            "|     M3A|            2|       1MR|      90.0|             6.0|         6.5|      5.91|\n",
            "|     M3A|            3|       1MR|      85.0|             7.0|         8.0|      8.79|\n",
            "|     M3A|            5|       1MR|      95.0|             9.0|         9.5|      9.32|\n",
            "|     M3A|            9|       1MR|      88.0|             8.0|         9.0|      9.13|\n",
            "|     M3A|           10|       1MR|      92.0|             6.0|         6.5|      6.17|\n",
            "|     M3A|            0|       1MR|     100.0|             9.5|         9.0|       9.4|\n",
            "|     M3A|            1|       0MD|      75.0|             7.0|         8.5|      9.17|\n",
            "|     M3A|            2|       0MD|      80.0|             8.0|         8.5|      8.53|\n",
            "|     M3A|            3|       0MD|      85.0|             8.5|         8.5|      8.63|\n",
            "|     M3A|            4|       0MD|      90.0|             9.0|         9.0|      9.24|\n",
            "|     M3A|            5|       0MD|      95.0|             9.0|         9.0|      9.05|\n",
            "|     M3A|            7|       0MD|      90.0|             8.5|         9.0|      9.71|\n",
            "|     M3A|            8|       0MD|      88.0|             8.0|         8.5|      8.74|\n",
            "|     M3A|            9|       0MD|      85.0|             8.0|         9.0|      9.28|\n",
            "|     M3A|           10|       0MD|      75.0|             6.0|         6.0|      5.78|\n",
            "|     M3A|            2|        4E|      80.0|             8.5|         9.0|      9.77|\n",
            "|     M3A|            3|        4E|      85.0|             8.5|         9.0|      9.11|\n",
            "|     M3A|           11|        4E|      90.0|             6.0|         7.0|      6.59|\n",
            "|     M3A|            6|        4E|      75.0|             4.0|         5.0|      4.59|\n",
            "|     M3A|            9|        4E|      92.0|             8.5|         9.0|      9.17|\n",
            "+--------+-------------+----------+----------+----------------+------------+----------+\n",
            "only showing top 20 rows\n",
            "\n"
          ]
        }
      ],
      "source": [
        "from pyspark.sql.functions import col\n",
        "\n",
        "# Seleccionar y convertir columnas en el DataFrame de cursos\n",
        "dataset = curso_df.select(\n",
        "    col('id_curso'),\n",
        "    col('id_estudiante').cast('int'),\n",
        "    col('id_materia'),\n",
        "    col('asistencia').cast('float'),\n",
        "    col('nota_diagnostico').cast('float'),\n",
        "    col('nota_parcial').cast('float'),\n",
        "    col('nota_final').cast('float')\n",
        ")\n",
        "\n",
        "# Mostrar el DataFrame resultante\n",
        "dataset.show()"
      ]
    },
    {
      "cell_type": "code",
      "execution_count": 35,
      "metadata": {
        "id": "PZTCAhJG4fGy",
        "outputId": "0a8572f9-5f8e-4082-bf8c-7ba54a368bc8",
        "colab": {
          "base_uri": "https://localhost:8080/"
        }
      },
      "outputs": [
        {
          "output_type": "stream",
          "name": "stdout",
          "text": [
            "+--------+-------------+----------+----------+----------------+------------+----------+\n",
            "|id_curso|id_estudiante|id_materia|asistencia|nota_diagnostico|nota_parcial|nota_final|\n",
            "+--------+-------------+----------+----------+----------------+------------+----------+\n",
            "|       0|            0|         0|         0|               0|           0|         0|\n",
            "+--------+-------------+----------+----------+----------------+------------+----------+\n",
            "\n"
          ]
        }
      ],
      "source": [
        "from pyspark.sql.functions import isnull, when, count, col\n",
        "\n",
        "dataset.select([count(when(isnull(c), c)).alias(c) for c in dataset.columns]).show()"
      ]
    },
    {
      "cell_type": "code",
      "execution_count": 36,
      "metadata": {
        "id": "lW-OjOPn4fGy"
      },
      "outputs": [],
      "source": [
        "# Drop missing values\n",
        "dataset = dataset.replace('null', None)\\\n",
        "        .dropna(how='any')"
      ]
    },
    {
      "cell_type": "code",
      "execution_count": 37,
      "metadata": {
        "id": "1007icfa4fGz",
        "outputId": "06814556-019a-464e-a79b-d82b3c2b4745",
        "colab": {
          "base_uri": "https://localhost:8080/"
        }
      },
      "outputs": [
        {
          "output_type": "stream",
          "name": "stdout",
          "text": [
            "+--------+-------------+----------+----------+----------------+------------+----------+\n",
            "|id_curso|id_estudiante|id_materia|asistencia|nota_diagnostico|nota_parcial|nota_final|\n",
            "+--------+-------------+----------+----------+----------------+------------+----------+\n",
            "|     M3A|            2|       1MR|      90.0|             6.0|         6.5|      5.91|\n",
            "|     M3A|            3|       1MR|      85.0|             7.0|         8.0|      8.79|\n",
            "|     M3A|            5|       1MR|      95.0|             9.0|         9.5|      9.32|\n",
            "|     M3A|            9|       1MR|      88.0|             8.0|         9.0|      9.13|\n",
            "|     M3A|           10|       1MR|      92.0|             6.0|         6.5|      6.17|\n",
            "|     M3A|            0|       1MR|     100.0|             9.5|         9.0|       9.4|\n",
            "|     M3A|            1|       0MD|      75.0|             7.0|         8.5|      9.17|\n",
            "|     M3A|            2|       0MD|      80.0|             8.0|         8.5|      8.53|\n",
            "|     M3A|            3|       0MD|      85.0|             8.5|         8.5|      8.63|\n",
            "|     M3A|            4|       0MD|      90.0|             9.0|         9.0|      9.24|\n",
            "|     M3A|            5|       0MD|      95.0|             9.0|         9.0|      9.05|\n",
            "|     M3A|            7|       0MD|      90.0|             8.5|         9.0|      9.71|\n",
            "|     M3A|            8|       0MD|      88.0|             8.0|         8.5|      8.74|\n",
            "|     M3A|            9|       0MD|      85.0|             8.0|         9.0|      9.28|\n",
            "|     M3A|           10|       0MD|      75.0|             6.0|         6.0|      5.78|\n",
            "|     M3A|            2|        4E|      80.0|             8.5|         9.0|      9.77|\n",
            "|     M3A|            3|        4E|      85.0|             8.5|         9.0|      9.11|\n",
            "|     M3A|           11|        4E|      90.0|             6.0|         7.0|      6.59|\n",
            "|     M3A|            6|        4E|      75.0|             4.0|         5.0|      4.59|\n",
            "|     M3A|            9|        4E|      92.0|             8.5|         9.0|      9.17|\n",
            "+--------+-------------+----------+----------+----------------+------------+----------+\n",
            "only showing top 20 rows\n",
            "\n"
          ]
        }
      ],
      "source": [
        "dataset.show()"
      ]
    },
    {
      "cell_type": "code",
      "execution_count": 60,
      "metadata": {
        "id": "hUHX4eDJ4fGz",
        "outputId": "648e6fd7-f1f5-47ce-e2b6-f5d17e1c1270",
        "colab": {
          "base_uri": "https://localhost:8080/"
        }
      },
      "outputs": [
        {
          "output_type": "stream",
          "name": "stdout",
          "text": [
            "+--------+-------------+----------+------------+----------+--------------+\n",
            "|id_curso|id_estudiante|id_materia|nota_parcial|nota_final|id_curso_index|\n",
            "+--------+-------------+----------+------------+----------+--------------+\n",
            "|     M3A|            2|       1MR|         6.5|      5.91|           0.0|\n",
            "|     M3A|            3|       1MR|         8.0|      8.79|           0.0|\n",
            "|     M3A|            5|       1MR|         9.5|      9.32|           0.0|\n",
            "|     M3A|            9|       1MR|         9.0|      9.13|           0.0|\n",
            "|     M3A|           10|       1MR|         6.5|      6.17|           0.0|\n",
            "|     M3A|            0|       1MR|         9.0|       9.4|           0.0|\n",
            "|     M3A|            1|       0MD|         8.5|      9.17|           0.0|\n",
            "|     M3A|            2|       0MD|         8.5|      8.53|           0.0|\n",
            "|     M3A|            3|       0MD|         8.5|      8.63|           0.0|\n",
            "|     M3A|            4|       0MD|         9.0|      9.24|           0.0|\n",
            "|     M3A|            5|       0MD|         9.0|      9.05|           0.0|\n",
            "|     M3A|            7|       0MD|         9.0|      9.71|           0.0|\n",
            "|     M3A|            8|       0MD|         8.5|      8.74|           0.0|\n",
            "|     M3A|            9|       0MD|         9.0|      9.28|           0.0|\n",
            "|     M3A|           10|       0MD|         6.0|      5.78|           0.0|\n",
            "|     M3A|            2|        4E|         9.0|      9.77|           0.0|\n",
            "|     M3A|            3|        4E|         9.0|      9.11|           0.0|\n",
            "|     M3A|           11|        4E|         7.0|      6.59|           0.0|\n",
            "|     M3A|            6|        4E|         5.0|      4.59|           0.0|\n",
            "|     M3A|            9|        4E|         9.0|      9.17|           0.0|\n",
            "+--------+-------------+----------+------------+----------+--------------+\n",
            "only showing top 20 rows\n",
            "\n",
            "['id_curso', 'id_estudiante', 'id_materia', 'nota_parcial', 'nota_final', 'id_curso_index']\n",
            "+--------+-------------+----------+------------+----------+--------------+----------------+\n",
            "|id_curso|id_estudiante|id_materia|nota_parcial|nota_final|id_curso_index|id_materia_index|\n",
            "+--------+-------------+----------+------------+----------+--------------+----------------+\n",
            "|     M3A|            2|       1MR|         6.5|      5.91|           0.0|             3.0|\n",
            "|     M3A|            3|       1MR|         8.0|      8.79|           0.0|             3.0|\n",
            "|     M3A|            5|       1MR|         9.5|      9.32|           0.0|             3.0|\n",
            "|     M3A|            9|       1MR|         9.0|      9.13|           0.0|             3.0|\n",
            "|     M3A|           10|       1MR|         6.5|      6.17|           0.0|             3.0|\n",
            "|     M3A|            0|       1MR|         9.0|       9.4|           0.0|             3.0|\n",
            "|     M3A|            1|       0MD|         8.5|      9.17|           0.0|             2.0|\n",
            "|     M3A|            2|       0MD|         8.5|      8.53|           0.0|             2.0|\n",
            "|     M3A|            3|       0MD|         8.5|      8.63|           0.0|             2.0|\n",
            "|     M3A|            4|       0MD|         9.0|      9.24|           0.0|             2.0|\n",
            "|     M3A|            5|       0MD|         9.0|      9.05|           0.0|             2.0|\n",
            "|     M3A|            7|       0MD|         9.0|      9.71|           0.0|             2.0|\n",
            "|     M3A|            8|       0MD|         8.5|      8.74|           0.0|             2.0|\n",
            "|     M3A|            9|       0MD|         9.0|      9.28|           0.0|             2.0|\n",
            "|     M3A|           10|       0MD|         6.0|      5.78|           0.0|             2.0|\n",
            "|     M3A|            2|        4E|         9.0|      9.77|           0.0|             4.0|\n",
            "|     M3A|            3|        4E|         9.0|      9.11|           0.0|             4.0|\n",
            "|     M3A|           11|        4E|         7.0|      6.59|           0.0|             4.0|\n",
            "|     M3A|            6|        4E|         5.0|      4.59|           0.0|             4.0|\n",
            "|     M3A|            9|        4E|         9.0|      9.17|           0.0|             4.0|\n",
            "+--------+-------------+----------+------------+----------+--------------+----------------+\n",
            "only showing top 20 rows\n",
            "\n",
            "['id_curso', 'id_estudiante', 'id_materia', 'nota_parcial', 'nota_final', 'id_curso_index', 'id_materia_index']\n"
          ]
        }
      ],
      "source": [
        "from pyspark.ml.feature import StringIndexer\n",
        "\n",
        "# Indexar 'id_curso' a 'id_curso_index'\n",
        "indexer_curso = StringIndexer(\n",
        "    inputCol='id_curso',\n",
        "    outputCol='id_curso_index',\n",
        "    handleInvalid='keep'\n",
        ")\n",
        "\n",
        "# Ajustar y transformar el DataFrame\n",
        "dataset = indexer_curso.fit(dataset).transform(dataset)\n",
        "\n",
        "# Verifica que la columna 'id_curso_index' fue creada\n",
        "dataset.show()\n",
        "print(dataset.columns)  # Asegúrate de que 'id_curso_index' está en las columnas\n",
        "\n",
        "# Indexar 'id_materia' a 'id_materia_index'\n",
        "indexer_materia = StringIndexer(\n",
        "    inputCol='id_materia',\n",
        "    outputCol='id_materia_index',\n",
        "    handleInvalid='keep'\n",
        ")\n",
        "\n",
        "# Ajustar y transformar el DataFrame\n",
        "dataset = indexer_materia.fit(dataset).transform(dataset)\n",
        "\n",
        "# Verifica que la columna 'id_materia_index' fue creada\n",
        "dataset.show()\n",
        "print(dataset.columns)  # Asegúrate de que 'id_materia_index' está en las columna\n"
      ]
    },
    {
      "cell_type": "code",
      "execution_count": 43,
      "metadata": {
        "id": "ewwXwxSF4fGz",
        "outputId": "fac975bc-3e03-4c10-ce31-fe7e7c26ad91",
        "colab": {
          "base_uri": "https://localhost:8080/"
        }
      },
      "outputs": [
        {
          "output_type": "execute_result",
          "data": {
            "text/plain": [
              "[('id_curso', 'string'),\n",
              " ('id_estudiante', 'int'),\n",
              " ('id_materia', 'string'),\n",
              " ('asistencia', 'float'),\n",
              " ('nota_diagnostico', 'float'),\n",
              " ('nota_parcial', 'float'),\n",
              " ('nota_final', 'float')]"
            ]
          },
          "metadata": {},
          "execution_count": 43
        }
      ],
      "source": [
        "dataset.dtypes"
      ]
    },
    {
      "cell_type": "code",
      "execution_count": 52,
      "metadata": {
        "id": "dhPdMiN54fGz",
        "outputId": "0c9011c9-b7b4-48e0-ecfe-4341644760bc",
        "colab": {
          "base_uri": "https://localhost:8080/"
        }
      },
      "outputs": [
        {
          "output_type": "stream",
          "name": "stdout",
          "text": [
            "+--------+-------------+----------+------------+----------+\n",
            "|id_curso|id_estudiante|id_materia|nota_parcial|nota_final|\n",
            "+--------+-------------+----------+------------+----------+\n",
            "|     M3A|            2|       1MR|         6.5|      5.91|\n",
            "|     M3A|            3|       1MR|         8.0|      8.79|\n",
            "|     M3A|            5|       1MR|         9.5|      9.32|\n",
            "|     M3A|            9|       1MR|         9.0|      9.13|\n",
            "|     M3A|           10|       1MR|         6.5|      6.17|\n",
            "|     M3A|            0|       1MR|         9.0|       9.4|\n",
            "|     M3A|            1|       0MD|         8.5|      9.17|\n",
            "|     M3A|            2|       0MD|         8.5|      8.53|\n",
            "|     M3A|            3|       0MD|         8.5|      8.63|\n",
            "|     M3A|            4|       0MD|         9.0|      9.24|\n",
            "|     M3A|            5|       0MD|         9.0|      9.05|\n",
            "|     M3A|            7|       0MD|         9.0|      9.71|\n",
            "|     M3A|            8|       0MD|         8.5|      8.74|\n",
            "|     M3A|            9|       0MD|         9.0|      9.28|\n",
            "|     M3A|           10|       0MD|         6.0|      5.78|\n",
            "|     M3A|            2|        4E|         9.0|      9.77|\n",
            "|     M3A|            3|        4E|         9.0|      9.11|\n",
            "|     M3A|           11|        4E|         7.0|      6.59|\n",
            "|     M3A|            6|        4E|         5.0|      4.59|\n",
            "|     M3A|            9|        4E|         9.0|      9.17|\n",
            "+--------+-------------+----------+------------+----------+\n",
            "only showing top 20 rows\n",
            "\n"
          ]
        }
      ],
      "source": [
        "# Drop unnecessary columns\n",
        "dataset = dataset.drop('asistencia')\n",
        "dataset = dataset.drop('nota_diagnostico')\n",
        "dataset.show()"
      ]
    },
    {
      "cell_type": "code",
      "execution_count": 64,
      "metadata": {
        "id": "Hcqj-big4fGz",
        "colab": {
          "base_uri": "https://localhost:8080/"
        },
        "outputId": "1ad105dd-2985-4ba3-e407-2a35ecd01337"
      },
      "outputs": [
        {
          "output_type": "stream",
          "name": "stdout",
          "text": [
            "+--------+-------------+----------+------------+----------+--------------+----------------+-------------------------------+\n",
            "|id_curso|id_estudiante|id_materia|nota_parcial|nota_final|id_curso_index|id_materia_index|features                       |\n",
            "+--------+-------------+----------+------------+----------+--------------+----------------+-------------------------------+\n",
            "|M3A     |2            |1MR       |6.5         |5.91      |0.0           |3.0             |[0.0,3.0,6.5,5.909999847412109]|\n",
            "|M3A     |3            |1MR       |8.0         |8.79      |0.0           |3.0             |[0.0,3.0,8.0,8.789999961853027]|\n",
            "|M3A     |5            |1MR       |9.5         |9.32      |0.0           |3.0             |[0.0,3.0,9.5,9.319999694824219]|\n",
            "|M3A     |9            |1MR       |9.0         |9.13      |0.0           |3.0             |[0.0,3.0,9.0,9.130000114440918]|\n",
            "|M3A     |10           |1MR       |6.5         |6.17      |0.0           |3.0             |[0.0,3.0,6.5,6.170000076293945]|\n",
            "|M3A     |0            |1MR       |9.0         |9.4       |0.0           |3.0             |[0.0,3.0,9.0,9.399999618530273]|\n",
            "|M3A     |1            |0MD       |8.5         |9.17      |0.0           |2.0             |[0.0,2.0,8.5,9.170000076293945]|\n",
            "|M3A     |2            |0MD       |8.5         |8.53      |0.0           |2.0             |[0.0,2.0,8.5,8.529999732971191]|\n",
            "|M3A     |3            |0MD       |8.5         |8.63      |0.0           |2.0             |[0.0,2.0,8.5,8.630000114440918]|\n",
            "|M3A     |4            |0MD       |9.0         |9.24      |0.0           |2.0             |[0.0,2.0,9.0,9.239999771118164]|\n",
            "|M3A     |5            |0MD       |9.0         |9.05      |0.0           |2.0             |[0.0,2.0,9.0,9.050000190734863]|\n",
            "|M3A     |7            |0MD       |9.0         |9.71      |0.0           |2.0             |[0.0,2.0,9.0,9.710000038146973]|\n",
            "|M3A     |8            |0MD       |8.5         |8.74      |0.0           |2.0             |[0.0,2.0,8.5,8.739999771118164]|\n",
            "|M3A     |9            |0MD       |9.0         |9.28      |0.0           |2.0             |[0.0,2.0,9.0,9.279999732971191]|\n",
            "|M3A     |10           |0MD       |6.0         |5.78      |0.0           |2.0             |[0.0,2.0,6.0,5.78000020980835] |\n",
            "|M3A     |2            |4E        |9.0         |9.77      |0.0           |4.0             |[0.0,4.0,9.0,9.770000457763672]|\n",
            "|M3A     |3            |4E        |9.0         |9.11      |0.0           |4.0             |[0.0,4.0,9.0,9.109999656677246]|\n",
            "|M3A     |11           |4E        |7.0         |6.59      |0.0           |4.0             |[0.0,4.0,7.0,6.590000152587891]|\n",
            "|M3A     |6            |4E        |5.0         |4.59      |0.0           |4.0             |[0.0,4.0,5.0,4.590000152587891]|\n",
            "|M3A     |9            |4E        |9.0         |9.17      |0.0           |4.0             |[0.0,4.0,9.0,9.170000076293945]|\n",
            "+--------+-------------+----------+------------+----------+--------------+----------------+-------------------------------+\n",
            "only showing top 20 rows\n",
            "\n"
          ]
        }
      ],
      "source": [
        "from pyspark.ml.feature import VectorAssembler\n",
        "\n",
        "# Lista de las características a usar en el VectorAssembler\n",
        "required_features = ['id_curso_index',\n",
        "                     'id_materia_index',\n",
        "                     'nota_parcial',\n",
        "                     'nota_final'\n",
        "                    ]\n",
        "\n",
        "# Verificar que todas las columnas necesarias están en el DataFrame\n",
        "missing_features = [feature for feature in required_features if feature not in dataset.columns]\n",
        "if missing_features:\n",
        "    print(f\"Las siguientes columnas están ausentes: {missing_features}\")\n",
        "else:\n",
        "    # Crear el VectorAssembler\n",
        "    assembler = VectorAssembler(inputCols=required_features, outputCol='features')\n",
        "\n",
        "    # Transformar el DataFrame para incluir la columna de características\n",
        "    transformed_data = assembler.transform(dataset)\n",
        "\n",
        "    # Mostrar el DataFrame resultante con la columna 'features'\n",
        "    transformed_data.show(truncate=False)"
      ]
    },
    {
      "cell_type": "code",
      "execution_count": 65,
      "metadata": {
        "scrolled": true,
        "id": "gAcGrDSm4fGz",
        "outputId": "2d7be15c-8bbb-456e-97f5-54bc44498e31",
        "colab": {
          "base_uri": "https://localhost:8080/"
        }
      },
      "outputs": [
        {
          "output_type": "stream",
          "name": "stdout",
          "text": [
            "+--------+-------------+----------+------------+----------+--------------+----------------+--------------------+\n",
            "|id_curso|id_estudiante|id_materia|nota_parcial|nota_final|id_curso_index|id_materia_index|            features|\n",
            "+--------+-------------+----------+------------+----------+--------------+----------------+--------------------+\n",
            "|     M3A|            2|       1MR|         6.5|      5.91|           0.0|             3.0|[0.0,3.0,6.5,5.90...|\n",
            "|     M3A|            3|       1MR|         8.0|      8.79|           0.0|             3.0|[0.0,3.0,8.0,8.78...|\n",
            "|     M3A|            5|       1MR|         9.5|      9.32|           0.0|             3.0|[0.0,3.0,9.5,9.31...|\n",
            "|     M3A|            9|       1MR|         9.0|      9.13|           0.0|             3.0|[0.0,3.0,9.0,9.13...|\n",
            "|     M3A|           10|       1MR|         6.5|      6.17|           0.0|             3.0|[0.0,3.0,6.5,6.17...|\n",
            "|     M3A|            0|       1MR|         9.0|       9.4|           0.0|             3.0|[0.0,3.0,9.0,9.39...|\n",
            "|     M3A|            1|       0MD|         8.5|      9.17|           0.0|             2.0|[0.0,2.0,8.5,9.17...|\n",
            "|     M3A|            2|       0MD|         8.5|      8.53|           0.0|             2.0|[0.0,2.0,8.5,8.52...|\n",
            "|     M3A|            3|       0MD|         8.5|      8.63|           0.0|             2.0|[0.0,2.0,8.5,8.63...|\n",
            "|     M3A|            4|       0MD|         9.0|      9.24|           0.0|             2.0|[0.0,2.0,9.0,9.23...|\n",
            "|     M3A|            5|       0MD|         9.0|      9.05|           0.0|             2.0|[0.0,2.0,9.0,9.05...|\n",
            "|     M3A|            7|       0MD|         9.0|      9.71|           0.0|             2.0|[0.0,2.0,9.0,9.71...|\n",
            "|     M3A|            8|       0MD|         8.5|      8.74|           0.0|             2.0|[0.0,2.0,8.5,8.73...|\n",
            "|     M3A|            9|       0MD|         9.0|      9.28|           0.0|             2.0|[0.0,2.0,9.0,9.27...|\n",
            "|     M3A|           10|       0MD|         6.0|      5.78|           0.0|             2.0|[0.0,2.0,6.0,5.78...|\n",
            "|     M3A|            2|        4E|         9.0|      9.77|           0.0|             4.0|[0.0,4.0,9.0,9.77...|\n",
            "|     M3A|            3|        4E|         9.0|      9.11|           0.0|             4.0|[0.0,4.0,9.0,9.10...|\n",
            "|     M3A|           11|        4E|         7.0|      6.59|           0.0|             4.0|[0.0,4.0,7.0,6.59...|\n",
            "|     M3A|            6|        4E|         5.0|      4.59|           0.0|             4.0|[0.0,4.0,5.0,4.59...|\n",
            "|     M3A|            9|        4E|         9.0|      9.17|           0.0|             4.0|[0.0,4.0,9.0,9.17...|\n",
            "+--------+-------------+----------+------------+----------+--------------+----------------+--------------------+\n",
            "only showing top 20 rows\n",
            "\n"
          ]
        }
      ],
      "source": [
        "transformed_data.show()"
      ]
    },
    {
      "cell_type": "code",
      "execution_count": 66,
      "metadata": {
        "id": "nHwgvw5k4fG0",
        "outputId": "e57db92c-3672-4f65-ea4f-fa41e054088d",
        "colab": {
          "base_uri": "https://localhost:8080/"
        }
      },
      "outputs": [
        {
          "output_type": "execute_result",
          "data": {
            "text/plain": [
              "Row(id_curso='M3A', id_estudiante=2, id_materia='1MR', nota_parcial=6.5, nota_final=5.909999847412109, id_curso_index=0.0, id_materia_index=3.0, features=DenseVector([0.0, 3.0, 6.5, 5.91]))"
            ]
          },
          "metadata": {},
          "execution_count": 66
        }
      ],
      "source": [
        "transformed_data.head()"
      ]
    },
    {
      "cell_type": "markdown",
      "metadata": {
        "id": "EjK43FDr4fG0"
      },
      "source": [
        "#### Fase 3. Entrenamiento del modelo\n"
      ]
    },
    {
      "cell_type": "code",
      "execution_count": 67,
      "metadata": {
        "id": "73FgFvjY4fG0"
      },
      "outputs": [],
      "source": [
        "(training_data, test_data) = transformed_data.randomSplit([0.8,0.2])"
      ]
    },
    {
      "cell_type": "code",
      "execution_count": 77,
      "metadata": {
        "id": "ipXmkWxd4fG0"
      },
      "outputs": [],
      "source": [
        "from pyspark.ml.classification import RandomForestClassifier\n",
        "\n",
        "rf = RandomForestClassifier(labelCol='id_estudiante',\n",
        "                            featuresCol='features',\n",
        "                            maxDepth=5)"
      ]
    },
    {
      "cell_type": "code",
      "execution_count": 78,
      "metadata": {
        "id": "H8zmEebZ4fG1"
      },
      "outputs": [],
      "source": [
        "model = rf.fit(training_data)"
      ]
    },
    {
      "cell_type": "code",
      "execution_count": 70,
      "metadata": {
        "id": "wrpMRiP34fG1"
      },
      "outputs": [],
      "source": [
        "# Predict with the test dataset\n",
        "predictions = model.transform(test_data)"
      ]
    },
    {
      "cell_type": "markdown",
      "metadata": {
        "id": "YO0GPUll4fG1"
      },
      "source": [
        "#### Fase 4. Evaluación del modelo"
      ]
    },
    {
      "cell_type": "code",
      "execution_count": 73,
      "metadata": {
        "id": "AEfNLw0A4fG1"
      },
      "outputs": [],
      "source": [
        "# Evaluate our model\n",
        "from pyspark.ml.evaluation import MulticlassClassificationEvaluator\n",
        "\n",
        "evaluator = MulticlassClassificationEvaluator(\n",
        "    labelCol='id_materia',\n",
        "    predictionCol='prediction',\n",
        "    metricName='accuracy'\n",
        ")"
      ]
    },
    {
      "cell_type": "code",
      "execution_count": 74,
      "metadata": {
        "id": "8qHD98eC4fG1",
        "outputId": "992197e2-4915-44e1-ce3d-6954e8c21174",
        "colab": {
          "base_uri": "https://localhost:8080/"
        }
      },
      "outputs": [
        {
          "output_type": "stream",
          "name": "stdout",
          "text": [
            "Test Accuracy = 0.2857142857142857\n"
          ]
        }
      ],
      "source": [
        "# Accuracy\n",
        "accuracy = evaluator.evaluate(predictions)\n",
        "print('Test Accuracy =', accuracy)"
      ]
    },
    {
      "cell_type": "code",
      "execution_count": null,
      "metadata": {
        "id": "ciXdUc0i4fG1"
      },
      "outputs": [],
      "source": []
    }
  ],
  "metadata": {
    "kernelspec": {
      "display_name": "Python 3 (ipykernel)",
      "language": "python",
      "name": "python3"
    },
    "language_info": {
      "codemirror_mode": {
        "name": "ipython",
        "version": 3
      },
      "file_extension": ".py",
      "mimetype": "text/x-python",
      "name": "python",
      "nbconvert_exporter": "python",
      "pygments_lexer": "ipython3",
      "version": "3.10.9"
    },
    "colab": {
      "provenance": []
    },
    "widgets": {
      "application/vnd.jupyter.widget-state+json": {
        "5bf02e38ff9b4b92bba61bc38598f8e1": {
          "model_module": "@jupyter-widgets/controls",
          "model_name": "HBoxModel",
          "model_module_version": "1.5.0",
          "state": {
            "_dom_classes": [],
            "_model_module": "@jupyter-widgets/controls",
            "_model_module_version": "1.5.0",
            "_model_name": "HBoxModel",
            "_view_count": null,
            "_view_module": "@jupyter-widgets/controls",
            "_view_module_version": "1.5.0",
            "_view_name": "HBoxView",
            "box_style": "",
            "children": [
              "IPY_MODEL_95b038eab4194ff986641b7a2d44a222",
              "IPY_MODEL_82950a16c1a94d51bb203832355101dc",
              "IPY_MODEL_c38b89dee14044de89f627d96ab601a7"
            ],
            "layout": "IPY_MODEL_c89cf16c384348df869d4d0d35d2edb3"
          }
        },
        "95b038eab4194ff986641b7a2d44a222": {
          "model_module": "@jupyter-widgets/controls",
          "model_name": "HTMLModel",
          "model_module_version": "1.5.0",
          "state": {
            "_dom_classes": [],
            "_model_module": "@jupyter-widgets/controls",
            "_model_module_version": "1.5.0",
            "_model_name": "HTMLModel",
            "_view_count": null,
            "_view_module": "@jupyter-widgets/controls",
            "_view_module_version": "1.5.0",
            "_view_name": "HTMLView",
            "description": "",
            "description_tooltip": null,
            "layout": "IPY_MODEL_03f82391c5e7406da374f04d6f794a85",
            "placeholder": "​",
            "style": "IPY_MODEL_7eb8eb02cc3e46ec96cedc3a86e65f90",
            "value": "Done! Use &#x27;show&#x27; commands to display/save.   "
          }
        },
        "82950a16c1a94d51bb203832355101dc": {
          "model_module": "@jupyter-widgets/controls",
          "model_name": "FloatProgressModel",
          "model_module_version": "1.5.0",
          "state": {
            "_dom_classes": [],
            "_model_module": "@jupyter-widgets/controls",
            "_model_module_version": "1.5.0",
            "_model_name": "FloatProgressModel",
            "_view_count": null,
            "_view_module": "@jupyter-widgets/controls",
            "_view_module_version": "1.5.0",
            "_view_name": "ProgressView",
            "bar_style": "success",
            "description": "",
            "description_tooltip": null,
            "layout": "IPY_MODEL_516ea729f657497fac8c543aa2c8d3b5",
            "max": 1,
            "min": 0,
            "orientation": "horizontal",
            "style": "IPY_MODEL_48052a9de82b4be2ac83fd3966e013c9",
            "value": 1
          }
        },
        "c38b89dee14044de89f627d96ab601a7": {
          "model_module": "@jupyter-widgets/controls",
          "model_name": "HTMLModel",
          "model_module_version": "1.5.0",
          "state": {
            "_dom_classes": [],
            "_model_module": "@jupyter-widgets/controls",
            "_model_module_version": "1.5.0",
            "_model_name": "HTMLModel",
            "_view_count": null,
            "_view_module": "@jupyter-widgets/controls",
            "_view_module_version": "1.5.0",
            "_view_name": "HTMLView",
            "description": "",
            "description_tooltip": null,
            "layout": "IPY_MODEL_bdf30244f7c4440e9409a6fcb18049cd",
            "placeholder": "​",
            "style": "IPY_MODEL_87a2ce2a9a3a4e0b97107057fbd3d24b",
            "value": " [100%]   00:00 -&gt; (00:00 left)"
          }
        },
        "c89cf16c384348df869d4d0d35d2edb3": {
          "model_module": "@jupyter-widgets/base",
          "model_name": "LayoutModel",
          "model_module_version": "1.2.0",
          "state": {
            "_model_module": "@jupyter-widgets/base",
            "_model_module_version": "1.2.0",
            "_model_name": "LayoutModel",
            "_view_count": null,
            "_view_module": "@jupyter-widgets/base",
            "_view_module_version": "1.2.0",
            "_view_name": "LayoutView",
            "align_content": null,
            "align_items": null,
            "align_self": null,
            "border": null,
            "bottom": null,
            "display": "inline-flex",
            "flex": null,
            "flex_flow": "row wrap",
            "grid_area": null,
            "grid_auto_columns": null,
            "grid_auto_flow": null,
            "grid_auto_rows": null,
            "grid_column": null,
            "grid_gap": null,
            "grid_row": null,
            "grid_template_areas": null,
            "grid_template_columns": null,
            "grid_template_rows": null,
            "height": null,
            "justify_content": null,
            "justify_items": null,
            "left": null,
            "margin": null,
            "max_height": null,
            "max_width": null,
            "min_height": null,
            "min_width": null,
            "object_fit": null,
            "object_position": null,
            "order": null,
            "overflow": null,
            "overflow_x": null,
            "overflow_y": null,
            "padding": null,
            "right": null,
            "top": null,
            "visibility": null,
            "width": "100%"
          }
        },
        "03f82391c5e7406da374f04d6f794a85": {
          "model_module": "@jupyter-widgets/base",
          "model_name": "LayoutModel",
          "model_module_version": "1.2.0",
          "state": {
            "_model_module": "@jupyter-widgets/base",
            "_model_module_version": "1.2.0",
            "_model_name": "LayoutModel",
            "_view_count": null,
            "_view_module": "@jupyter-widgets/base",
            "_view_module_version": "1.2.0",
            "_view_name": "LayoutView",
            "align_content": null,
            "align_items": null,
            "align_self": null,
            "border": null,
            "bottom": null,
            "display": null,
            "flex": null,
            "flex_flow": null,
            "grid_area": null,
            "grid_auto_columns": null,
            "grid_auto_flow": null,
            "grid_auto_rows": null,
            "grid_column": null,
            "grid_gap": null,
            "grid_row": null,
            "grid_template_areas": null,
            "grid_template_columns": null,
            "grid_template_rows": null,
            "height": null,
            "justify_content": null,
            "justify_items": null,
            "left": null,
            "margin": null,
            "max_height": null,
            "max_width": null,
            "min_height": null,
            "min_width": null,
            "object_fit": null,
            "object_position": null,
            "order": null,
            "overflow": null,
            "overflow_x": null,
            "overflow_y": null,
            "padding": null,
            "right": null,
            "top": null,
            "visibility": null,
            "width": null
          }
        },
        "7eb8eb02cc3e46ec96cedc3a86e65f90": {
          "model_module": "@jupyter-widgets/controls",
          "model_name": "DescriptionStyleModel",
          "model_module_version": "1.5.0",
          "state": {
            "_model_module": "@jupyter-widgets/controls",
            "_model_module_version": "1.5.0",
            "_model_name": "DescriptionStyleModel",
            "_view_count": null,
            "_view_module": "@jupyter-widgets/base",
            "_view_module_version": "1.2.0",
            "_view_name": "StyleView",
            "description_width": ""
          }
        },
        "516ea729f657497fac8c543aa2c8d3b5": {
          "model_module": "@jupyter-widgets/base",
          "model_name": "LayoutModel",
          "model_module_version": "1.2.0",
          "state": {
            "_model_module": "@jupyter-widgets/base",
            "_model_module_version": "1.2.0",
            "_model_name": "LayoutModel",
            "_view_count": null,
            "_view_module": "@jupyter-widgets/base",
            "_view_module_version": "1.2.0",
            "_view_name": "LayoutView",
            "align_content": null,
            "align_items": null,
            "align_self": null,
            "border": null,
            "bottom": null,
            "display": null,
            "flex": "2",
            "flex_flow": null,
            "grid_area": null,
            "grid_auto_columns": null,
            "grid_auto_flow": null,
            "grid_auto_rows": null,
            "grid_column": null,
            "grid_gap": null,
            "grid_row": null,
            "grid_template_areas": null,
            "grid_template_columns": null,
            "grid_template_rows": null,
            "height": null,
            "justify_content": null,
            "justify_items": null,
            "left": null,
            "margin": null,
            "max_height": null,
            "max_width": null,
            "min_height": null,
            "min_width": null,
            "object_fit": null,
            "object_position": null,
            "order": null,
            "overflow": null,
            "overflow_x": null,
            "overflow_y": null,
            "padding": null,
            "right": null,
            "top": null,
            "visibility": null,
            "width": null
          }
        },
        "48052a9de82b4be2ac83fd3966e013c9": {
          "model_module": "@jupyter-widgets/controls",
          "model_name": "ProgressStyleModel",
          "model_module_version": "1.5.0",
          "state": {
            "_model_module": "@jupyter-widgets/controls",
            "_model_module_version": "1.5.0",
            "_model_name": "ProgressStyleModel",
            "_view_count": null,
            "_view_module": "@jupyter-widgets/base",
            "_view_module_version": "1.2.0",
            "_view_name": "StyleView",
            "bar_color": null,
            "description_width": ""
          }
        },
        "bdf30244f7c4440e9409a6fcb18049cd": {
          "model_module": "@jupyter-widgets/base",
          "model_name": "LayoutModel",
          "model_module_version": "1.2.0",
          "state": {
            "_model_module": "@jupyter-widgets/base",
            "_model_module_version": "1.2.0",
            "_model_name": "LayoutModel",
            "_view_count": null,
            "_view_module": "@jupyter-widgets/base",
            "_view_module_version": "1.2.0",
            "_view_name": "LayoutView",
            "align_content": null,
            "align_items": null,
            "align_self": null,
            "border": null,
            "bottom": null,
            "display": null,
            "flex": null,
            "flex_flow": null,
            "grid_area": null,
            "grid_auto_columns": null,
            "grid_auto_flow": null,
            "grid_auto_rows": null,
            "grid_column": null,
            "grid_gap": null,
            "grid_row": null,
            "grid_template_areas": null,
            "grid_template_columns": null,
            "grid_template_rows": null,
            "height": null,
            "justify_content": null,
            "justify_items": null,
            "left": null,
            "margin": null,
            "max_height": null,
            "max_width": null,
            "min_height": null,
            "min_width": null,
            "object_fit": null,
            "object_position": null,
            "order": null,
            "overflow": null,
            "overflow_x": null,
            "overflow_y": null,
            "padding": null,
            "right": null,
            "top": null,
            "visibility": null,
            "width": null
          }
        },
        "87a2ce2a9a3a4e0b97107057fbd3d24b": {
          "model_module": "@jupyter-widgets/controls",
          "model_name": "DescriptionStyleModel",
          "model_module_version": "1.5.0",
          "state": {
            "_model_module": "@jupyter-widgets/controls",
            "_model_module_version": "1.5.0",
            "_model_name": "DescriptionStyleModel",
            "_view_count": null,
            "_view_module": "@jupyter-widgets/base",
            "_view_module_version": "1.2.0",
            "_view_name": "StyleView",
            "description_width": ""
          }
        }
      }
    }
  },
  "nbformat": 4,
  "nbformat_minor": 0
}