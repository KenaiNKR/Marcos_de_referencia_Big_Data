{
  "nbformat": 4,
  "nbformat_minor": 0,
  "metadata": {
    "colab": {
      "provenance": []
    },
    "kernelspec": {
      "name": "python3",
      "display_name": "Python 3"
    },
    "language_info": {
      "name": "python"
    }
  },
  "cells": [
    {
      "cell_type": "code",
      "execution_count": 2,
      "metadata": {
        "colab": {
          "base_uri": "https://localhost:8080/"
        },
        "id": "5sQwsZdp1idu",
        "outputId": "daf39f8b-9114-4215-d8d6-3bb41939ed63"
      },
      "outputs": [
        {
          "output_type": "stream",
          "name": "stdout",
          "text": [
            "Collecting findspark\n",
            "  Downloading findspark-2.0.1-py2.py3-none-any.whl (4.4 kB)\n",
            "Installing collected packages: findspark\n",
            "Successfully installed findspark-2.0.1\n"
          ]
        }
      ],
      "source": [
        "pip install findspark"
      ]
    },
    {
      "cell_type": "code",
      "source": [
        "pip install pyspark"
      ],
      "metadata": {
        "colab": {
          "base_uri": "https://localhost:8080/"
        },
        "id": "LNPzbSjo1j9t",
        "outputId": "aa69f13a-0a78-4d35-f938-72a20deb28cf"
      },
      "execution_count": 3,
      "outputs": [
        {
          "output_type": "stream",
          "name": "stdout",
          "text": [
            "Collecting pyspark\n",
            "  Downloading pyspark-3.5.1.tar.gz (317.0 MB)\n",
            "\u001b[2K     \u001b[90m━━━━━━━━━━━━━━━━━━━━━━━━━━━━━━━━━━━━━━━━\u001b[0m \u001b[32m317.0/317.0 MB\u001b[0m \u001b[31m3.3 MB/s\u001b[0m eta \u001b[36m0:00:00\u001b[0m\n",
            "\u001b[?25h  Preparing metadata (setup.py) ... \u001b[?25l\u001b[?25hdone\n",
            "Requirement already satisfied: py4j==0.10.9.7 in /usr/local/lib/python3.10/dist-packages (from pyspark) (0.10.9.7)\n",
            "Building wheels for collected packages: pyspark\n",
            "  Building wheel for pyspark (setup.py) ... \u001b[?25l\u001b[?25hdone\n",
            "  Created wheel for pyspark: filename=pyspark-3.5.1-py2.py3-none-any.whl size=317488491 sha256=0a7e36676e002d2747b35c5f50da3e0c3deaf337b8b1500feab30464318ef8ad\n",
            "  Stored in directory: /root/.cache/pip/wheels/80/1d/60/2c256ed38dddce2fdd93be545214a63e02fbd8d74fb0b7f3a6\n",
            "Successfully built pyspark\n",
            "Installing collected packages: pyspark\n",
            "Successfully installed pyspark-3.5.1\n"
          ]
        }
      ]
    },
    {
      "cell_type": "code",
      "source": [
        "import findspark\n",
        "findspark.init()\n",
        "import pyspark\n",
        "from pyspark.sql import SparkSession\n",
        "from pyspark.sql import SparkSession\n",
        "\n",
        "import pandas as pd\n",
        "import numpy as np"
      ],
      "metadata": {
        "id": "PT_XMAyo1moV"
      },
      "execution_count": 9,
      "outputs": []
    },
    {
      "cell_type": "code",
      "source": [
        "spark = SparkSession.builder \\\n",
        "    .appName(\"Productos\") \\\n",
        "    .getOrCreate()\n"
      ],
      "metadata": {
        "id": "6bCHVKKx_NNb"
      },
      "execution_count": 5,
      "outputs": []
    },
    {
      "cell_type": "code",
      "source": [
        "# Crear un rango de fechas\n",
        "fechas = pd.date_range(start='2022-01-01', periods=100, freq='D')\n",
        "\n",
        "# Formatear las fechas a 'dd-MM-yyyy'\n",
        "fechas = fechas.strftime('%d-%m-%Y')\n",
        "\n",
        "# Categorías\n",
        "categorias = ['Comida para perros', 'Comida para gatos', 'Comida para aves', 'Comida para peces']\n",
        "\n",
        "# Generar datos aleatorios para las ventas, ingresos, promociones y descuentos\n",
        "np.random.seed(0)  # Para reproducibilidad\n",
        "ventas = np.random.randint(1, 100, size=100)\n",
        "ingresos = np.round(ventas * np.random.uniform(5, 20, size=100), 2)  # Ingresos con máximo 2 decimales\n",
        "promociones = np.random.randint(0, 10, size=100)\n",
        "descuentos = np.where(ventas >= 75, 0.20, np.where(ventas >= 50, 0.15, np.where(ventas >= 25, 0.10, 0.05)))\n",
        "categorias_aleatorias = np.random.choice(categorias, size=100)\n",
        "\n",
        "# Crear el DataFrame de pandas\n",
        "df_pandas = pd.DataFrame({\n",
        "    'Fecha': fechas,\n",
        "    'Categoría': categorias_aleatorias,\n",
        "    'Ventas': ventas,\n",
        "    'Ingresos': ingresos,\n",
        "    'Promociones': promociones,\n",
        "    'Descuentos': descuentos\n",
        "})\n",
        "\n",
        "# Convertir el DataFrame de pandas a un DataFrame de Spark\n",
        "df = spark.createDataFrame(df_pandas)\n",
        "\n",
        "# Mostrar el esquema del DataFrame de Spark\n",
        "df.printSchema()\n",
        "\n",
        "# Mostrar el DataFrame de Spark\n",
        "df.show()\n"
      ],
      "metadata": {
        "colab": {
          "base_uri": "https://localhost:8080/"
        },
        "id": "zVnQEin68D-Y",
        "outputId": "a203302e-8f18-4676-855c-4ef9a03271e6"
      },
      "execution_count": 11,
      "outputs": [
        {
          "output_type": "stream",
          "name": "stdout",
          "text": [
            "root\n",
            " |-- Fecha: string (nullable = true)\n",
            " |-- Categoría: string (nullable = true)\n",
            " |-- Ventas: long (nullable = true)\n",
            " |-- Ingresos: double (nullable = true)\n",
            " |-- Promociones: long (nullable = true)\n",
            " |-- Descuentos: double (nullable = true)\n",
            "\n",
            "+----------+------------------+------+--------+-----------+----------+\n",
            "|     Fecha|         Categoría|Ventas|Ingresos|Promociones|Descuentos|\n",
            "+----------+------------------+------+--------+-----------+----------+\n",
            "|01-01-2022|Comida para perros|    45|  865.96|          9|       0.1|\n",
            "|02-01-2022| Comida para gatos|    48|  717.02|          7|       0.1|\n",
            "|03-01-2022|  Comida para aves|    65|  338.23|          7|      0.15|\n",
            "|04-01-2022|  Comida para aves|    68|   975.3|          5|      0.15|\n",
            "|05-01-2022|Comida para perros|    68| 1027.13|          1|      0.15|\n",
            "|06-01-2022|  Comida para aves|    10|  195.79|          2|      0.05|\n",
            "|07-01-2022| Comida para gatos|    84| 1526.52|          2|       0.2|\n",
            "|08-01-2022| Comida para peces|    22|  278.18|          8|      0.05|\n",
            "|09-01-2022| Comida para peces|    37|  215.92|          1|       0.1|\n",
            "|10-01-2022| Comida para peces|    88| 1035.53|          5|       0.2|\n",
            "|11-01-2022| Comida para gatos|    71|  376.29|          8|      0.15|\n",
            "|12-01-2022|  Comida para aves|    89| 1034.68|          4|       0.2|\n",
            "|13-01-2022| Comida para gatos|    89| 1752.75|          0|       0.2|\n",
            "|14-01-2022|  Comida para aves|    13|  135.09|          2|      0.05|\n",
            "|15-01-2022| Comida para peces|    59|  720.59|          5|      0.15|\n",
            "|16-01-2022|  Comida para aves|    66| 1011.77|          5|      0.15|\n",
            "|17-01-2022| Comida para gatos|    40|  728.29|          0|       0.1|\n",
            "|18-01-2022|  Comida para aves|    88| 1652.07|          8|       0.2|\n",
            "|19-01-2022| Comida para peces|    47|  387.86|          1|       0.1|\n",
            "|20-01-2022| Comida para peces|    89| 1199.53|          1|       0.2|\n",
            "+----------+------------------+------+--------+-----------+----------+\n",
            "only showing top 20 rows\n",
            "\n"
          ]
        }
      ]
    },
    {
      "cell_type": "code",
      "source": [
        "df.show(10)"
      ],
      "metadata": {
        "colab": {
          "base_uri": "https://localhost:8080/"
        },
        "id": "XmOXhSZCFPuG",
        "outputId": "18d3c6a1-ed4a-4ba3-b55f-18243cb23100"
      },
      "execution_count": 12,
      "outputs": [
        {
          "output_type": "stream",
          "name": "stdout",
          "text": [
            "+----------+------------------+------+--------+-----------+----------+\n",
            "|     Fecha|         Categoría|Ventas|Ingresos|Promociones|Descuentos|\n",
            "+----------+------------------+------+--------+-----------+----------+\n",
            "|01-01-2022|Comida para perros|    45|  865.96|          9|       0.1|\n",
            "|02-01-2022| Comida para gatos|    48|  717.02|          7|       0.1|\n",
            "|03-01-2022|  Comida para aves|    65|  338.23|          7|      0.15|\n",
            "|04-01-2022|  Comida para aves|    68|   975.3|          5|      0.15|\n",
            "|05-01-2022|Comida para perros|    68| 1027.13|          1|      0.15|\n",
            "|06-01-2022|  Comida para aves|    10|  195.79|          2|      0.05|\n",
            "|07-01-2022| Comida para gatos|    84| 1526.52|          2|       0.2|\n",
            "|08-01-2022| Comida para peces|    22|  278.18|          8|      0.05|\n",
            "|09-01-2022| Comida para peces|    37|  215.92|          1|       0.1|\n",
            "|10-01-2022| Comida para peces|    88| 1035.53|          5|       0.2|\n",
            "+----------+------------------+------+--------+-----------+----------+\n",
            "only showing top 10 rows\n",
            "\n"
          ]
        }
      ]
    },
    {
      "cell_type": "code",
      "source": [
        "df.printSchema()"
      ],
      "metadata": {
        "colab": {
          "base_uri": "https://localhost:8080/"
        },
        "id": "PTSsYiBJGU65",
        "outputId": "994621d0-fd31-4216-ed97-163dc06f95e7"
      },
      "execution_count": 13,
      "outputs": [
        {
          "output_type": "stream",
          "name": "stdout",
          "text": [
            "root\n",
            " |-- Fecha: string (nullable = true)\n",
            " |-- Categoría: string (nullable = true)\n",
            " |-- Ventas: long (nullable = true)\n",
            " |-- Ingresos: double (nullable = true)\n",
            " |-- Promociones: long (nullable = true)\n",
            " |-- Descuentos: double (nullable = true)\n",
            "\n"
          ]
        }
      ]
    },
    {
      "cell_type": "code",
      "source": [
        "df.count()"
      ],
      "metadata": {
        "colab": {
          "base_uri": "https://localhost:8080/"
        },
        "id": "Jr_TY6BUHEkt",
        "outputId": "106f8371-3220-41a5-8026-a95865c7dd49"
      },
      "execution_count": 14,
      "outputs": [
        {
          "output_type": "execute_result",
          "data": {
            "text/plain": [
              "100"
            ]
          },
          "metadata": {},
          "execution_count": 14
        }
      ]
    },
    {
      "cell_type": "code",
      "source": [
        "df.describe().show()"
      ],
      "metadata": {
        "colab": {
          "base_uri": "https://localhost:8080/"
        },
        "id": "Wn4WcH9xHe8j",
        "outputId": "466fa857-39d0-450a-d007-7834ea7bc073"
      },
      "execution_count": 15,
      "outputs": [
        {
          "output_type": "stream",
          "name": "stdout",
          "text": [
            "+-------+----------+------------------+-----------------+-----------------+-----------------+-------------------+\n",
            "|summary|     Fecha|         Categoría|           Ventas|         Ingresos|      Promociones|         Descuentos|\n",
            "+-------+----------+------------------+-----------------+-----------------+-----------------+-------------------+\n",
            "|  count|       100|               100|              100|              100|              100|                100|\n",
            "|   mean|      NULL|              NULL|            47.85|         616.2039|             4.39|              0.122|\n",
            "| stddev|      NULL|              NULL|27.01566137624544|452.4415962396347|2.912512192717358|0.05565042405022353|\n",
            "|    min|01-01-2022|  Comida para aves|                1|              9.7|                0|               0.05|\n",
            "|    max|31-03-2022|Comida para perros|               92|          1797.17|                9|                0.2|\n",
            "+-------+----------+------------------+-----------------+-----------------+-----------------+-------------------+\n",
            "\n"
          ]
        }
      ]
    },
    {
      "cell_type": "code",
      "source": [],
      "metadata": {
        "id": "NccmI9CiHpcT"
      },
      "execution_count": null,
      "outputs": []
    }
  ]
}