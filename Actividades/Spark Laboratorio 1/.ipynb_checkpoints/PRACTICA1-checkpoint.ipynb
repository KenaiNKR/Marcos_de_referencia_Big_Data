{
 "cells": [
  {
   "cell_type": "markdown",
   "id": "05c0f7db-a781-4232-9224-26968df7bc6f",
   "metadata": {},
   "source": [
    "<!--Header-->\n",
    "<div>\n",
    "    <div class=\"row\" style=\"color: #4D4D4D;font-size: 15px;padding-bottom: 20px\">\n",
    "        <div class=\"col-md-7\">\n",
    "            <img src=\"https://www.tecazuay.edu.ec/wp-content/uploads/2023/07/LOGO-RECTANGULAR_SIN-FONDO-2048x626.png\" alt=\"Logo TECAZUAY\" width=\"100%\" class=\"img-responsive\" style=\"margin:20px 0px 0px\">\n",
    "        </div>\n",
    "        <div class=\"col-md-5\">\n",
    "            <h1 style=\"margin:15px 0px 0px;font-size: 40px;\">Spark y Dataframe</h1>\n",
    "            <div style=\"text-align:left;margin-top: 5px;\"></div>\n",
    "        </div>\n",
    "    </div>\n",
    "    <div class=\"row\" style=\"background: #FCB517;padding: 10px 20px;\">\n",
    "        <div class=\"col-md-6\">\n",
    "        </div>\n",
    "        <div class=\"col-md-6\">\n",
    "            </div>\n",
    "        </div>\n",
    "        <div style=\"text-align:right;\">Carrera: TECNOLOGÍA SUPERIOR EN BIG DATA <span style=\"margin-left: 30px;\"></span></div>\n",
    "         <div style=\"text-align:right;\">Estudiante:   <span style=\"margin-left: 30px;\"></span></div>\n",
    "          <div style=\"text-align:right;\">Fecha:  <span style=\"margin-left: 30px;\"></span></div>\n",
    "        </div>\n",
    "    </div>\n",
    "</div>\n",
    "<!--/Header-->"
   ]
  },
  {
   "cell_type": "markdown",
   "id": "b53a61a2-8550-45d1-a166-ca662daed24d",
   "metadata": {
    "tags": []
   },
   "source": [
    "### Data personal"
   ]
  },
  {
   "cell_type": "code",
   "execution_count": 1,
   "id": "2e924dc2-a514-42a9-b340-79319b08ce0b",
   "metadata": {
    "tags": []
   },
   "outputs": [
    {
     "name": "stderr",
     "output_type": "stream",
     "text": [
      "C:\\Users\\59399\\anaconda3\\lib\\site-packages\\pandas\\core\\arrays\\masked.py:60: UserWarning: Pandas requires version '1.3.6' or newer of 'bottleneck' (version '1.3.5' currently installed).\n",
      "  from pandas.core import (\n"
     ]
    }
   ],
   "source": [
    "import findspark\n",
    "findspark.init()\n",
    "\n",
    "import pandas as pd\n",
    "import pyspark"
   ]
  },
  {
   "cell_type": "code",
   "execution_count": 2,
   "id": "ea39583d-1107-4605-9645-960db5d5c9e7",
   "metadata": {},
   "outputs": [],
   "source": [
    "from pyspark.sql import SparkSession\n",
    "from pyspark.sql.functions import *"
   ]
  },
  {
   "cell_type": "code",
   "execution_count": 3,
   "id": "3ce6d397-fdcc-478b-be50-32a4b3fe60e7",
   "metadata": {},
   "outputs": [],
   "source": [
    "spark = SparkSession.builder.getOrCreate()"
   ]
  },
  {
   "cell_type": "code",
   "execution_count": 4,
   "id": "f986ffad-fbd5-4e40-974a-5259e0e9ed5b",
   "metadata": {},
   "outputs": [
    {
     "data": {
      "text/html": [
       "\n",
       "            <div>\n",
       "                <p><b>SparkSession - in-memory</b></p>\n",
       "                \n",
       "        <div>\n",
       "            <p><b>SparkContext</b></p>\n",
       "\n",
       "            <p><a href=\"http://DESKTOP-6IRFVOC:4042\">Spark UI</a></p>\n",
       "\n",
       "            <dl>\n",
       "              <dt>Version</dt>\n",
       "                <dd><code>v3.1.2</code></dd>\n",
       "              <dt>Master</dt>\n",
       "                <dd><code>local[*]</code></dd>\n",
       "              <dt>AppName</dt>\n",
       "                <dd><code>pyspark-shell</code></dd>\n",
       "            </dl>\n",
       "        </div>\n",
       "        \n",
       "            </div>\n",
       "        "
      ],
      "text/plain": [
       "<pyspark.sql.session.SparkSession at 0x1a787ea8940>"
      ]
     },
     "execution_count": 4,
     "metadata": {},
     "output_type": "execute_result"
    }
   ],
   "source": [
    "spark"
   ]
  },
  {
   "cell_type": "markdown",
   "id": "a67f5f58-53b1-411a-ab32-101d40bb04ed",
   "metadata": {},
   "source": [
    "**1. Crea un DataFrame para la entidad \"productos\" con las columnas: idProducto (entero), nombre (cadena) y idCategoria (entero).**"
   ]
  },
  {
   "cell_type": "code",
   "execution_count": 5,
   "id": "1af54c1a-1d10-4268-ba9d-32eddc1a310e",
   "metadata": {},
   "outputs": [
    {
     "name": "stdout",
     "output_type": "stream",
     "text": [
      "+-----------+------------------+---------+\n",
      "|id_producto|            nombre|categoria|\n",
      "+-----------+------------------+---------+\n",
      "|         31|        fideo laso|       10|\n",
      "|         32|        fideo codo|       10|\n",
      "|         33|    fideo macarron|       10|\n",
      "|         34|        Arroz Roma|       11|\n",
      "|         35|        Arroz Ribe|       11|\n",
      "|         36|    Arroz integral|       11|\n",
      "|         37|Sardinas enlatadas|       12|\n",
      "|         38|     Atún enlatado|       12|\n",
      "|         39|Duraznos enlatados|       12|\n",
      "|         40|    Maíz enlatados|       12|\n",
      "+-----------+------------------+---------+\n",
      "\n"
     ]
    }
   ],
   "source": []
  },
  {
   "cell_type": "markdown",
   "id": "40455d72-6946-41ef-814a-79f6af5d25ac",
   "metadata": {},
   "source": [
    "**2.Crea un DataFrame para la entidad \"categorias\" con las columnas: idCategoria (entero) y nombre (cadena).**\n"
   ]
  },
  {
   "cell_type": "code",
   "execution_count": 6,
   "id": "94011b3d-2635-48fb-9136-40de471cfa6c",
   "metadata": {},
   "outputs": [],
   "source": []
  },
  {
   "cell_type": "code",
   "execution_count": 7,
   "id": "e393a385-d031-4c52-b609-4bc967504857",
   "metadata": {},
   "outputs": [
    {
     "name": "stdout",
     "output_type": "stream",
     "text": [
      "+------------+-------------------+\n",
      "|id_Categoria|             nombre|\n",
      "+------------+-------------------+\n",
      "|          10|             Pastas|\n",
      "|          11|              Arroz|\n",
      "|          12|Productos enlatados|\n",
      "+------------+-------------------+\n",
      "\n"
     ]
    }
   ],
   "source": []
  },
  {
   "cell_type": "markdown",
   "id": "ebfaab46-c0d9-4232-833c-69f1c4f159b4",
   "metadata": {},
   "source": [
    "**3.Crea un DataFrame para la entidad \"ventas\" con las columnas: id_venta (entero), id_producto (entero), cantidad (entero) y fecha (cadena).**"
   ]
  },
  {
   "cell_type": "code",
   "execution_count": 8,
   "id": "be966b28-74de-4872-8f5e-4eb1476fe730",
   "metadata": {},
   "outputs": [],
   "source": []
  },
  {
   "cell_type": "code",
   "execution_count": 9,
   "id": "ca54ec59-a8d0-4a40-b5c0-07845cbd38f0",
   "metadata": {},
   "outputs": [
    {
     "name": "stdout",
     "output_type": "stream",
     "text": [
      "+--------+-----------+--------+----------+\n",
      "|id_venta|id_producto|cantidad|     fecha|\n",
      "+--------+-----------+--------+----------+\n",
      "|     310|         31|       2|10-06-2023|\n",
      "|     311|         31|       1|11-06-2023|\n",
      "|     320|         32|       3|12-06-2023|\n",
      "|     321|         32|       2|13-06-2023|\n",
      "|     330|         33|       4|14-06-2023|\n",
      "|     331|         33|       1|15-06-2023|\n",
      "|     340|         34|       2|16-06-2023|\n",
      "|     341|         34|       4|17-06-2023|\n",
      "|     350|         35|       2|18-06-2023|\n",
      "|     351|         35|       5|19-06-2023|\n",
      "|     360|         36|       4|20-06-2023|\n",
      "|     361|         36|       2|21-06-2023|\n",
      "|     370|         37|       1|22-06-2023|\n",
      "|     371|         37|       3|23-06-2023|\n",
      "|     380|         38|       1|24-06-2023|\n",
      "|     381|         38|       2|25-06-2023|\n",
      "|     390|         39|       3|26-06-2023|\n",
      "|     391|         39|       6|27-06-2023|\n",
      "|     400|         40|       5|28-06-2023|\n",
      "|     401|         40|       4|29-06-2023|\n",
      "+--------+-----------+--------+----------+\n",
      "\n"
     ]
    }
   ],
   "source": [
    "vendf = spark.createDataFrame(ventas, ['id_venta', 'id_producto', 'cantidad', 'fecha'])\n",
    "vendf.show()"
   ]
  },
  {
   "cell_type": "markdown",
   "id": "e4268f43-d67c-447e-99a3-d3395c9ca035",
   "metadata": {},
   "source": [
    "Guardar en formato csv"
   ]
  },
  {
   "cell_type": "code",
   "execution_count": 10,
   "id": "5409ea96-124a-49b2-b371-923e0ea05c3a",
   "metadata": {},
   "outputs": [],
   "source": []
  },
  {
   "cell_type": "code",
   "execution_count": 11,
   "id": "facda108-5193-4040-833f-cbf6a5fbfdb9",
   "metadata": {},
   "outputs": [],
   "source": []
  },
  {
   "cell_type": "code",
   "execution_count": 12,
   "id": "5607fac3-dd6d-4869-b3bc-9b8878c01c2b",
   "metadata": {},
   "outputs": [],
   "source": []
  },
  {
   "cell_type": "markdown",
   "id": "9152b919-2911-4ab3-8a44-af56db3a3a0c",
   "metadata": {
    "tags": []
   },
   "source": [
    "### Data Grupal"
   ]
  },
  {
   "cell_type": "markdown",
   "id": "74b4932e-e7e7-4f44-8650-b7e351a5e4b2",
   "metadata": {},
   "source": [
    "Leer los archivos csv"
   ]
  },
  {
   "cell_type": "markdown",
   "id": "f0e9046c-dee6-4d8f-9b08-0cec4ef11e12",
   "metadata": {
    "tags": []
   },
   "source": [
    "### Categoria"
   ]
  },
  {
   "cell_type": "code",
   "execution_count": 15,
   "id": "d3e5b873-376e-47cf-b5a5-b91c85be24e4",
   "metadata": {},
   "outputs": [],
   "source": [
    "categoriadf= spark.read.format(\"csv\").option(\"header\", \"true\").option(\"delimiter\", \";\").load(\"categorias_nombre.csv/*.csv\")"
   ]
  },
  {
   "cell_type": "code",
   "execution_count": 16,
   "id": "b75affcb-e32a-4628-8b99-6bb99765db5e",
   "metadata": {},
   "outputs": [
    {
     "name": "stdout",
     "output_type": "stream",
     "text": [
      "+------------+-------------------+\n",
      "|id_Categoria|             nombre|\n",
      "+------------+-------------------+\n",
      "|          10|             Pastas|\n",
      "|          11|              Arroz|\n",
      "|          12|Productos enlatados|\n",
      "+------------+-------------------+\n",
      "\n"
     ]
    }
   ],
   "source": [
    "categoriadf.show(27)"
   ]
  },
  {
   "cell_type": "markdown",
   "id": "432625e3-4350-43e1-a47f-0de5a572e13a",
   "metadata": {
    "tags": []
   },
   "source": [
    "### Ventas"
   ]
  },
  {
   "cell_type": "code",
   "execution_count": 17,
   "id": "39c1e364-95ad-4784-af55-15a5092ba293",
   "metadata": {},
   "outputs": [],
   "source": []
  },
  {
   "cell_type": "code",
   "execution_count": 18,
   "id": "7ec54999-a764-4c92-8efe-f432e48a7678",
   "metadata": {},
   "outputs": [
    {
     "name": "stdout",
     "output_type": "stream",
     "text": [
      "+--------+-----------+--------+----------+\n",
      "|id_venta|id_producto|cantidad|     fecha|\n",
      "+--------+-----------+--------+----------+\n",
      "|     310|         31|       2|10-06-2023|\n",
      "|     311|         31|       1|11-06-2023|\n",
      "|     320|         32|       3|12-06-2023|\n",
      "|     321|         32|       2|13-06-2023|\n",
      "|     330|         33|       4|14-06-2023|\n",
      "|     331|         33|       1|15-06-2023|\n",
      "|     340|         34|       2|16-06-2023|\n",
      "|     341|         34|       4|17-06-2023|\n",
      "|     350|         35|       2|18-06-2023|\n",
      "|     351|         35|       5|19-06-2023|\n",
      "|     360|         36|       4|20-06-2023|\n",
      "|     361|         36|       2|21-06-2023|\n",
      "|     370|         37|       1|22-06-2023|\n",
      "|     371|         37|       3|23-06-2023|\n",
      "|     380|         38|       1|24-06-2023|\n",
      "|     381|         38|       2|25-06-2023|\n",
      "|     390|         39|       3|26-06-2023|\n",
      "|     391|         39|       6|27-06-2023|\n",
      "|     400|         40|       5|28-06-2023|\n",
      "|     401|         40|       4|29-06-2023|\n",
      "+--------+-----------+--------+----------+\n",
      "\n"
     ]
    }
   ],
   "source": [
    "ventasdf.show(27)"
   ]
  },
  {
   "cell_type": "markdown",
   "id": "b7380ea5-1850-4b12-b1b3-1e0cdd0dc373",
   "metadata": {
    "tags": []
   },
   "source": [
    "### Productos"
   ]
  },
  {
   "cell_type": "code",
   "execution_count": 19,
   "id": "23120324-4f5a-4d56-b60a-38f08657121b",
   "metadata": {},
   "outputs": [],
   "source": []
  },
  {
   "cell_type": "code",
   "execution_count": 20,
   "id": "f4b4f247-d00e-4024-9e75-32554fd6f52a",
   "metadata": {},
   "outputs": [
    {
     "name": "stdout",
     "output_type": "stream",
     "text": [
      "+-----------+------------------+---------+\n",
      "|id_producto|            nombre|categoria|\n",
      "+-----------+------------------+---------+\n",
      "|         31|        fideo laso|       10|\n",
      "|         32|        fideo codo|       10|\n",
      "|         33|    fideo macarron|       10|\n",
      "|         34|        Arroz Roma|       11|\n",
      "|         35|        Arroz Ribe|       11|\n",
      "|         36|    Arroz integral|       11|\n",
      "|         37|Sardinas enlatadas|       12|\n",
      "|         38|     Atún enlatado|       12|\n",
      "|         39|Duraznos enlatados|       12|\n",
      "|         40|    Maíz enlatados|       12|\n",
      "+-----------+------------------+---------+\n",
      "\n"
     ]
    }
   ],
   "source": [
    "productosdf.show(27)"
   ]
  },
  {
   "cell_type": "markdown",
   "id": "8e9bdae8-7ab7-4f4d-8485-00270d2d1e15",
   "metadata": {
    "tags": []
   },
   "source": [
    "### Operaciones"
   ]
  },
  {
   "cell_type": "code",
   "execution_count": 21,
   "id": "e29d7edb-64f8-44a3-b9d1-0c578e3a87aa",
   "metadata": {},
   "outputs": [
    {
     "data": {
      "text/plain": [
       "3"
      ]
     },
     "execution_count": 21,
     "metadata": {},
     "output_type": "execute_result"
    }
   ],
   "source": [
    "#Calcula el número total de registros en cada DataFrame utilizando el método count().\n"
   ]
  },
  {
   "cell_type": "code",
   "execution_count": 22,
   "id": "90397390-f486-4f4e-a7f3-f8b0c36c5d27",
   "metadata": {},
   "outputs": [
    {
     "data": {
      "text/plain": [
       "20"
      ]
     },
     "execution_count": 22,
     "metadata": {},
     "output_type": "execute_result"
    }
   ],
   "source": []
  },
  {
   "cell_type": "code",
   "execution_count": 23,
   "id": "13003ce9-8da3-4f77-ab63-493ca3c5e0ef",
   "metadata": {},
   "outputs": [
    {
     "data": {
      "text/plain": [
       "10"
      ]
     },
     "execution_count": 23,
     "metadata": {},
     "output_type": "execute_result"
    }
   ],
   "source": []
  },
  {
   "cell_type": "code",
   "execution_count": 24,
   "id": "c474ae07-f24d-4bfc-9cf3-e7d9f4484a02",
   "metadata": {},
   "outputs": [
    {
     "name": "stdout",
     "output_type": "stream",
     "text": [
      "+--------+-----------+--------+-----+\n",
      "|id_venta|id_producto|cantidad|fecha|\n",
      "+--------+-----------+--------+-----+\n",
      "+--------+-----------+--------+-----+\n",
      "\n"
     ]
    }
   ],
   "source": [
    "#Filtra \"ventas_df\" para mostrar solo las ventas donde la cantidad sea mayor que 10.\n"
   ]
  },
  {
   "cell_type": "code",
   "execution_count": 25,
   "id": "6eef5757-e33a-4392-ad87-ea4800b89752",
   "metadata": {},
   "outputs": [
    {
     "name": "stdout",
     "output_type": "stream",
     "text": [
      "+-----------+------------------+---------+\n",
      "|id_producto|            nombre|categoria|\n",
      "+-----------+------------------+---------+\n",
      "|         35|        Arroz Ribe|       11|\n",
      "|         34|        Arroz Roma|       11|\n",
      "|         36|    Arroz integral|       11|\n",
      "|         38|     Atún enlatado|       12|\n",
      "|         39|Duraznos enlatados|       12|\n",
      "|         40|    Maíz enlatados|       12|\n",
      "|         37|Sardinas enlatadas|       12|\n",
      "|         32|        fideo codo|       10|\n",
      "|         31|        fideo laso|       10|\n",
      "|         33|    fideo macarron|       10|\n",
      "+-----------+------------------+---------+\n",
      "\n"
     ]
    }
   ],
   "source": [
    "#Ordena \"productos_df\" en orden ascendente según el nombre de producto.\n"
   ]
  },
  {
   "cell_type": "code",
   "execution_count": 26,
   "id": "245f6b31-9471-4411-9a6a-cfc7b891fad4",
   "metadata": {},
   "outputs": [
    {
     "name": "stdout",
     "output_type": "stream",
     "text": [
      "+-------------+\n",
      "|sum(cantidad)|\n",
      "+-------------+\n",
      "|         57.0|\n",
      "+-------------+\n",
      "\n"
     ]
    }
   ],
   "source": [
    "#Calcula la suma total de la cantidad vendida en \"ventas_df\" utilizando la función sum().\n",
    "\n"
   ]
  },
  {
   "cell_type": "markdown",
   "id": "13684543-45b8-4079-a7d6-999a9155746e",
   "metadata": {
    "tags": []
   },
   "source": [
    "### Joins entre Dataframes"
   ]
  },
  {
   "cell_type": "code",
   "execution_count": 27,
   "id": "2aa0d80b-f789-49ce-ab14-ab56289204ed",
   "metadata": {},
   "outputs": [
    {
     "name": "stdout",
     "output_type": "stream",
     "text": [
      "+-----------+------------------+---------+--------+-----------+--------+----------+\n",
      "|id_producto|            nombre|categoria|id_venta|id_producto|cantidad|     fecha|\n",
      "+-----------+------------------+---------+--------+-----------+--------+----------+\n",
      "|         34|        Arroz Roma|       11|     340|         34|       2|16-06-2023|\n",
      "|         34|        Arroz Roma|       11|     341|         34|       4|17-06-2023|\n",
      "|         35|        Arroz Ribe|       11|     350|         35|       2|18-06-2023|\n",
      "|         35|        Arroz Ribe|       11|     351|         35|       5|19-06-2023|\n",
      "|         31|        fideo laso|       10|     310|         31|       2|10-06-2023|\n",
      "|         31|        fideo laso|       10|     311|         31|       1|11-06-2023|\n",
      "|         38|     Atún enlatado|       12|     380|         38|       1|24-06-2023|\n",
      "|         38|     Atún enlatado|       12|     381|         38|       2|25-06-2023|\n",
      "|         40|    Maíz enlatados|       12|     400|         40|       5|28-06-2023|\n",
      "|         40|    Maíz enlatados|       12|     401|         40|       4|29-06-2023|\n",
      "|         33|    fideo macarron|       10|     330|         33|       4|14-06-2023|\n",
      "|         33|    fideo macarron|       10|     331|         33|       1|15-06-2023|\n",
      "|         32|        fideo codo|       10|     320|         32|       3|12-06-2023|\n",
      "|         32|        fideo codo|       10|     321|         32|       2|13-06-2023|\n",
      "|         36|    Arroz integral|       11|     360|         36|       4|20-06-2023|\n",
      "|         36|    Arroz integral|       11|     361|         36|       2|21-06-2023|\n",
      "|         37|Sardinas enlatadas|       12|     370|         37|       1|22-06-2023|\n",
      "|         37|Sardinas enlatadas|       12|     371|         37|       3|23-06-2023|\n",
      "|         39|Duraznos enlatados|       12|     390|         39|       3|26-06-2023|\n",
      "|         39|Duraznos enlatados|       12|     391|         39|       6|27-06-2023|\n",
      "+-----------+------------------+---------+--------+-----------+--------+----------+\n",
      "\n"
     ]
    }
   ],
   "source": [
    "#Realiza un inner join entre \"ventas_df\" y \"productos_df\" utilizando la columna \"idProducto\" como clave de join.\n",
    "ventas_productos_df = productosdf.join(ventasdf, productosdf[\"id_Producto\"] == ventasdf[\"id_Producto\"], \"outer\").show()"
   ]
  },
  {
   "cell_type": "code",
   "execution_count": 43,
   "id": "87198c0d-dd79-4db3-bb02-d124e51f6c9a",
   "metadata": {},
   "outputs": [
    {
     "name": "stdout",
     "output_type": "stream",
     "text": [
      "+------------+-------------------+-----------+------------------+---------+--------+\n",
      "|id_Categoria|             nombre|id_producto|            nombre|categoria|id_venta|\n",
      "+------------+-------------------+-----------+------------------+---------+--------+\n",
      "|          11|              Arroz|         34|        Arroz Roma|       11|    null|\n",
      "|          11|              Arroz|         35|        Arroz Ribe|       11|    null|\n",
      "|          11|              Arroz|         36|    Arroz integral|       11|    null|\n",
      "|          10|             Pastas|         31|        fideo laso|       10|    null|\n",
      "|          10|             Pastas|         32|        fideo codo|       10|    null|\n",
      "|          10|             Pastas|         33|    fideo macarron|       10|    null|\n",
      "|          12|Productos enlatados|         37|Sardinas enlatadas|       12|    null|\n",
      "|          12|Productos enlatados|         38|     Atún enlatado|       12|    null|\n",
      "|          12|Productos enlatados|         39|Duraznos enlatados|       12|    null|\n",
      "|          12|Productos enlatados|         40|    Maíz enlatados|       12|    null|\n",
      "+------------+-------------------+-----------+------------------+---------+--------+\n",
      "\n"
     ]
    }
   ],
   "source": [
    "#Realiza un inner join entre \"productos_df\" y \"categorias_df\" utilizando la columna \"idCategoria\" como clave de join.\n"
   ]
  },
  {
   "cell_type": "code",
   "execution_count": 29,
   "id": "c036d539-2f6b-4295-95f5-cedb0b79b268",
   "metadata": {},
   "outputs": [
    {
     "data": {
      "text/plain": [
       "'6'"
      ]
     },
     "execution_count": 29,
     "metadata": {},
     "output_type": "execute_result"
    }
   ],
   "source": [
    "#Calcula el máximo y mínimo de la cantidad vendida en \"ventas_df\" utilizando las funciones max() y min(), respectivamente.\n",
    "\n"
   ]
  },
  {
   "cell_type": "code",
   "execution_count": 30,
   "id": "df14e8ea-88e2-4ab9-b4da-c6168eca49b1",
   "metadata": {},
   "outputs": [
    {
     "data": {
      "text/plain": [
       "'1'"
      ]
     },
     "execution_count": 30,
     "metadata": {},
     "output_type": "execute_result"
    }
   ],
   "source": []
  },
  {
   "cell_type": "code",
   "execution_count": 31,
   "id": "df54b09a-8dd1-4607-b01a-fea9615c4e20",
   "metadata": {},
   "outputs": [
    {
     "data": {
      "text/plain": [
       "2.85"
      ]
     },
     "execution_count": 31,
     "metadata": {},
     "output_type": "execute_result"
    }
   ],
   "source": [
    "#Calcula el promedio de la cantidad vendida en \"ventas_df\" utilizando la función avg().\n"
   ]
  },
  {
   "cell_type": "code",
   "execution_count": 32,
   "id": "1cbb0298-e776-44bd-b765-caa7c4af7fc0",
   "metadata": {},
   "outputs": [
    {
     "name": "stdout",
     "output_type": "stream",
     "text": [
      "+-----------+-------------+\n",
      "|id_Producto|sum(cantidad)|\n",
      "+-----------+-------------+\n",
      "|         34|          6.0|\n",
      "|         35|          7.0|\n",
      "|         31|          3.0|\n",
      "|         38|          3.0|\n",
      "|         40|          9.0|\n",
      "|         33|          5.0|\n",
      "|         32|          5.0|\n",
      "|         36|          6.0|\n",
      "|         37|          4.0|\n",
      "|         39|          9.0|\n",
      "+-----------+-------------+\n",
      "\n"
     ]
    }
   ],
   "source": [
    "#Agrupa \"ventas_df\" por el idProducto y calcula la suma de la cantidad vendida en cada grupo utilizando el método groupBy() y la función sum().\n"
   ]
  },
  {
   "cell_type": "code",
   "execution_count": 33,
   "id": "c404f138-3691-49d2-bccf-2c9f14788ef3",
   "metadata": {},
   "outputs": [
    {
     "name": "stdout",
     "output_type": "stream",
     "text": [
      "+--------+-----------+--------+----------+\n",
      "|id_venta|id_producto|cantidad|     fecha|\n",
      "+--------+-----------+--------+----------+\n",
      "|     391|         39|       6|27-06-2023|\n",
      "+--------+-----------+--------+----------+\n",
      "\n"
     ]
    }
   ],
   "source": [
    "#Filtra \"ventas_df\" para mostrar solo las ventas donde la cantidad sea mayor que 5 y la fecha sea posterior a \"2023-01-15\".\n"
   ]
  },
  {
   "cell_type": "code",
   "execution_count": 34,
   "id": "abcdd465-db4c-4711-a69c-feba1b615232",
   "metadata": {},
   "outputs": [
    {
     "name": "stdout",
     "output_type": "stream",
     "text": [
      "+-----------+------+---------+\n",
      "|id_producto|nombre|categoria|\n",
      "+-----------+------+---------+\n",
      "+-----------+------+---------+\n",
      "\n"
     ]
    }
   ],
   "source": [
    "#Filtra \"productos_df\" para mostrar solo los productos de la categoría 3.\n"
   ]
  },
  {
   "cell_type": "code",
   "execution_count": 35,
   "id": "11f8f240-450d-4ce9-b7da-fcdb94d6a340",
   "metadata": {},
   "outputs": [
    {
     "name": "stdout",
     "output_type": "stream",
     "text": [
      "+--------+-----------+--------+----------+-----+\n",
      "|id_venta|id_producto|cantidad|     fecha|total|\n",
      "+--------+-----------+--------+----------+-----+\n",
      "|     310|         31|       2|10-06-2023|  4.0|\n",
      "|     311|         31|       1|11-06-2023|  2.0|\n",
      "|     320|         32|       3|12-06-2023|  6.0|\n",
      "|     321|         32|       2|13-06-2023|  4.0|\n",
      "|     330|         33|       4|14-06-2023|  8.0|\n",
      "|     331|         33|       1|15-06-2023|  2.0|\n",
      "|     340|         34|       2|16-06-2023|  4.0|\n",
      "|     341|         34|       4|17-06-2023|  8.0|\n",
      "|     350|         35|       2|18-06-2023|  4.0|\n",
      "|     351|         35|       5|19-06-2023| 10.0|\n",
      "|     360|         36|       4|20-06-2023|  8.0|\n",
      "|     361|         36|       2|21-06-2023|  4.0|\n",
      "|     370|         37|       1|22-06-2023|  2.0|\n",
      "|     371|         37|       3|23-06-2023|  6.0|\n",
      "|     380|         38|       1|24-06-2023|  2.0|\n",
      "|     381|         38|       2|25-06-2023|  4.0|\n",
      "|     390|         39|       3|26-06-2023|  6.0|\n",
      "|     391|         39|       6|27-06-2023| 12.0|\n",
      "|     400|         40|       5|28-06-2023| 10.0|\n",
      "|     401|         40|       4|29-06-2023|  8.0|\n",
      "+--------+-----------+--------+----------+-----+\n",
      "\n"
     ]
    }
   ],
   "source": [
    "#Agrega una nueva columna llamada \"total\" a \"ventas_df\" que sea el resultado de multiplicar la cantidad por 2.\n",
    "ventasdf_con_total = ventasdf.withColumn(\"total\", col(\"cantidad\") * 2)\n",
    "ventasdf_con_total.show()"
   ]
  },
  {
   "cell_type": "code",
   "execution_count": 36,
   "id": "d65e356c-d91e-4354-9cc6-3974f1b6c310",
   "metadata": {},
   "outputs": [
    {
     "name": "stdout",
     "output_type": "stream",
     "text": [
      "+--------+-----------+--------+-----+\n",
      "|id_venta|id_producto|cantidad|fecha|\n",
      "+--------+-----------+--------+-----+\n",
      "|     310|         31|       2| null|\n",
      "|     311|         31|       1| null|\n",
      "|     320|         32|       3| null|\n",
      "|     321|         32|       2| null|\n",
      "|     330|         33|       4| null|\n",
      "|     331|         33|       1| null|\n",
      "|     340|         34|       2| null|\n",
      "|     341|         34|       4| null|\n",
      "|     350|         35|       2| null|\n",
      "|     351|         35|       5| null|\n",
      "|     360|         36|       4| null|\n",
      "|     361|         36|       2| null|\n",
      "|     370|         37|       1| null|\n",
      "|     371|         37|       3| null|\n",
      "|     380|         38|       1| null|\n",
      "|     381|         38|       2| null|\n",
      "|     390|         39|       3| null|\n",
      "|     391|         39|       6| null|\n",
      "|     400|         40|       5| null|\n",
      "|     401|         40|       4| null|\n",
      "+--------+-----------+--------+-----+\n",
      "\n"
     ]
    }
   ],
   "source": [
    "#Convierte la columna \"fecha\" de \"ventas_df\" al formato de fecha utilizando la función to_date().\n",
    "ventasdf_con_fecha = ventasdf.withColumn(\"fecha\", to_date(col(\"fecha\")))\n",
    "ventasdf_con_fecha.show()"
   ]
  },
  {
   "cell_type": "markdown",
   "id": "a6a7e2f4-d06b-42a0-bfa6-1f871d3ae348",
   "metadata": {
    "tags": []
   },
   "source": [
    "### Consultas SQL"
   ]
  },
  {
   "cell_type": "code",
   "execution_count": 37,
   "id": "bb3e5138-5649-4556-9972-3d1dde6e5c88",
   "metadata": {},
   "outputs": [],
   "source": [
    "#Registra los DataFrames \"ventas_df\", \"productos_df\" y \"categorias_df\" como tablas temporales utilizando el método createOrReplaceTempView().\n",
    "ventasdf.createOrReplaceTempView(\"ventas\")\n",
    "productosdf.createOrReplaceTempView(\"productos\")\n",
    "categoriadf.createOrReplaceTempView(\"categorias\")"
   ]
  },
  {
   "cell_type": "code",
   "execution_count": 38,
   "id": "ac098b96-8f94-4873-ad82-116e01120c76",
   "metadata": {},
   "outputs": [
    {
     "name": "stdout",
     "output_type": "stream",
     "text": [
      "+--------+-----------+--------+----------+\n",
      "|id_venta|id_producto|cantidad|     fecha|\n",
      "+--------+-----------+--------+----------+\n",
      "|     310|         31|       2|10-06-2023|\n",
      "|     311|         31|       1|11-06-2023|\n",
      "|     320|         32|       3|12-06-2023|\n",
      "|     321|         32|       2|13-06-2023|\n",
      "|     330|         33|       4|14-06-2023|\n",
      "|     331|         33|       1|15-06-2023|\n",
      "|     340|         34|       2|16-06-2023|\n",
      "|     341|         34|       4|17-06-2023|\n",
      "|     350|         35|       2|18-06-2023|\n",
      "|     351|         35|       5|19-06-2023|\n",
      "|     360|         36|       4|20-06-2023|\n",
      "|     361|         36|       2|21-06-2023|\n",
      "|     370|         37|       1|22-06-2023|\n",
      "|     371|         37|       3|23-06-2023|\n",
      "|     380|         38|       1|24-06-2023|\n",
      "|     381|         38|       2|25-06-2023|\n",
      "|     390|         39|       3|26-06-2023|\n",
      "|     391|         39|       6|27-06-2023|\n",
      "|     400|         40|       5|28-06-2023|\n",
      "|     401|         40|       4|29-06-2023|\n",
      "+--------+-----------+--------+----------+\n",
      "\n",
      "+-----------+------------------+---------+\n",
      "|id_producto|            nombre|categoria|\n",
      "+-----------+------------------+---------+\n",
      "|         31|        fideo laso|       10|\n",
      "|         32|        fideo codo|       10|\n",
      "|         33|    fideo macarron|       10|\n",
      "|         34|        Arroz Roma|       11|\n",
      "|         35|        Arroz Ribe|       11|\n",
      "|         36|    Arroz integral|       11|\n",
      "|         37|Sardinas enlatadas|       12|\n",
      "|         38|     Atún enlatado|       12|\n",
      "|         39|Duraznos enlatados|       12|\n",
      "|         40|    Maíz enlatados|       12|\n",
      "+-----------+------------------+---------+\n",
      "\n",
      "+------------+-------------------+\n",
      "|id_Categoria|             nombre|\n",
      "+------------+-------------------+\n",
      "|          10|             Pastas|\n",
      "|          11|              Arroz|\n",
      "|          12|Productos enlatados|\n",
      "+------------+-------------------+\n",
      "\n"
     ]
    }
   ],
   "source": [
    "spark.sql(\"SELECT * FROM ventas\").show()\n",
    "spark.sql(\"SELECT * FROM productos\").show()\n",
    "spark.sql(\"SELECT * FROM categorias\").show()"
   ]
  },
  {
   "cell_type": "code",
   "execution_count": 49,
   "id": "03e3f24c-d9a7-4668-a4cf-02331427a52a",
   "metadata": {},
   "outputs": [
    {
     "name": "stdout",
     "output_type": "stream",
     "text": [
      "+------------------+-------------------+--------------+\n",
      "|          producto|          categoria|cantidad_total|\n",
      "+------------------+-------------------+--------------+\n",
      "|        Arroz Ribe|              Arroz|           7.0|\n",
      "|     Atún enlatado|Productos enlatados|           3.0|\n",
      "|        fideo laso|             Pastas|           3.0|\n",
      "|Duraznos enlatados|Productos enlatados|           9.0|\n",
      "|    fideo macarron|             Pastas|           5.0|\n",
      "|    Maíz enlatados|Productos enlatados|           9.0|\n",
      "|Sardinas enlatadas|Productos enlatados|           4.0|\n",
      "|        Arroz Roma|              Arroz|           6.0|\n",
      "|        fideo codo|             Pastas|           5.0|\n",
      "|    Arroz integral|              Arroz|           6.0|\n",
      "+------------------+-------------------+--------------+\n",
      "\n"
     ]
    }
   ],
   "source": [
    "#Realiza una consulta SQL para obtener la suma de la cantidad vendida por producto y categoría.\n",
    "resultado = spark.sql(\"SELECT productos.nombre AS producto, categorias.nombre AS categoria, SUM(ventas.cantidad) AS cantidad_total FROM ventas \\\n",
    "                      JOIN productos ON ventas.id_producto = productos.id_Producto \\\n",
    "                      JOIN categorias ON productos.categoria = categorias.id_Categoria \\\n",
    "                      GROUP BY productos.nombre, categorias.nombre\")\n",
    "resultado.show()\n"
   ]
  },
  {
   "cell_type": "code",
   "execution_count": 40,
   "id": "67acf44b-73cf-412d-b228-dfdb46b63d62",
   "metadata": {},
   "outputs": [
    {
     "name": "stdout",
     "output_type": "stream",
     "text": [
      "+--------+-----------+--------+----------+\n",
      "|id_venta|id_producto|cantidad|     fecha|\n",
      "+--------+-----------+--------+----------+\n",
      "|     310|         31|       2|10-06-2023|\n",
      "|     311|         31|       1|11-06-2023|\n",
      "|     320|         32|       3|12-06-2023|\n",
      "|     321|         32|       2|13-06-2023|\n",
      "|     330|         33|       4|14-06-2023|\n",
      "|     331|         33|       1|15-06-2023|\n",
      "|     340|         34|       2|16-06-2023|\n",
      "|     341|         34|       4|17-06-2023|\n",
      "|     350|         35|       2|18-06-2023|\n",
      "|     351|         35|       5|19-06-2023|\n",
      "|     360|         36|       4|20-06-2023|\n",
      "|     361|         36|       2|21-06-2023|\n",
      "|     370|         37|       1|22-06-2023|\n",
      "|     371|         37|       3|23-06-2023|\n",
      "|     380|         38|       1|24-06-2023|\n",
      "|     381|         38|       2|25-06-2023|\n",
      "|     390|         39|       3|26-06-2023|\n",
      "|     391|         39|       6|27-06-2023|\n",
      "|     400|         40|       5|28-06-2023|\n",
      "|     401|         40|       4|29-06-2023|\n",
      "+--------+-----------+--------+----------+\n",
      "only showing top 20 rows\n",
      "\n"
     ]
    }
   ],
   "source": [
    "#Combina \"ventas_df\" y \"productos_df\" utilizando el método union() para obtener un único DataFrame que contenga todas las ventas y productos.\n",
    "\n",
    "# Agrega una columna adicional a \"productos_df\" con valores nulos para que coincida con la estructura de \"ventas_df ya que necesitan ser iguales\"\n",
    "productosdf = productosdf.withColumn(\"id_venta\", lit(None))\n",
    "\n",
    "# Combina \"ventas_df\" y \"productos_df\" utilizando el método union()\n",
    "ventas_productos_df = ventasdf.union(productosdf)\n",
    "\n",
    "# Muestra el DataFrame resultante\n",
    "ventas_productos_df.show()"
   ]
  },
  {
   "cell_type": "code",
   "execution_count": null,
   "id": "8db95e97-cbb3-4749-88cc-a84d090a47f9",
   "metadata": {},
   "outputs": [],
   "source": []
  }
 ],
 "metadata": {
  "kernelspec": {
   "display_name": "Python 3 (ipykernel)",
   "language": "python",
   "name": "python3"
  },
  "language_info": {
   "codemirror_mode": {
    "name": "ipython",
    "version": 3
   },
   "file_extension": ".py",
   "mimetype": "text/x-python",
   "name": "python",
   "nbconvert_exporter": "python",
   "pygments_lexer": "ipython3",
   "version": "3.10.9"
  }
 },
 "nbformat": 4,
 "nbformat_minor": 5
}
